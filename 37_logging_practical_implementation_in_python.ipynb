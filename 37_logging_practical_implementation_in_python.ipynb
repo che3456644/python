{
  "nbformat": 4,
  "nbformat_minor": 0,
  "metadata": {
    "colab": {
      "provenance": []
    },
    "kernelspec": {
      "name": "python3",
      "display_name": "Python 3"
    },
    "language_info": {
      "name": "python"
    }
  },
  "cells": [
    {
      "cell_type": "markdown",
      "source": [
        "# Python Logging\n",
        "Logging is a crucial aspect of any application, providing a way to track events, errors, and opreational information. Python built-in logging module offers a flexible framework for emitting log messages from python programs."
      ],
      "metadata": {
        "id": "-xxq-iZ_oBAv"
      }
    },
    {
      "cell_type": "code",
      "source": [
        "import logging\n",
        "\n",
        "## configure the basic logging settings\n",
        "logging.basicConfig(level=logging.DEBUG)\n",
        "\n",
        "## log messages with different severity levels\n",
        "logging.debug(\"this is a debug message\")\n",
        "logging.info(\"this is  a info message\")\n",
        "logging.warning(\"this is a warning message\")\n",
        "logging.error(\"this is a error message\")\n",
        "logging.critical(\"this is a critical message\")\n"
      ],
      "metadata": {
        "colab": {
          "base_uri": "https://localhost:8080/"
        },
        "id": "TWNBLKtHokN9",
        "outputId": "678d619a-f96e-41ec-f463-86646c6cbedf"
      },
      "execution_count": 1,
      "outputs": [
        {
          "output_type": "stream",
          "name": "stderr",
          "text": [
            "WARNING:root:this is a warning message\n",
            "ERROR:root:this is a error message\n",
            "CRITICAL:root:this is a critical message\n"
          ]
        }
      ]
    },
    {
      "cell_type": "markdown",
      "source": [
        "# Log Levels\n",
        "Python's logging module has several log level indicating the severity of events. the default levels are:\n",
        "\n",
        "\n",
        "*   DEBUG:detailed iformation, typically of interest only when diagnosing problmes.\n",
        "*   INFO:confirmation that things are working as expected\n",
        "\n",
        "\n",
        "*   WARNING:an indication that something unexpected happended or indicative of some problem in the near future(e.g 'disk space low').the software is still working as expected\n",
        "*   ERROR:due to a more serious problem,the software has not been able to perform some function.\n",
        "\n",
        "\n",
        "*   CRITICAL:a very serious error,indicating that the program itself may be unable to continue running\n",
        "\n",
        "\n",
        "\n",
        "\n"
      ],
      "metadata": {
        "id": "jnF0eIRrqqNV"
      }
    },
    {
      "cell_type": "code",
      "source": [
        "## configuring logging\n",
        "logging.basicConfig(\n",
        "    filename='app.log',\n",
        "    filemode='w',\n",
        "    level=logging.DEBUG,\n",
        "    format='%(asctime)s-%(name)s-%(levelname)s-%(message)s',\n",
        "    datefmt='%Y-%m-%d %H:%M:%S'\n",
        ")\n",
        "## log messages with different severity levels\n",
        "logging.debug(\"this is a debug message\")\n",
        "logging.info(\"this is  a info message\")\n",
        "logging.warning(\"this is a warning message\")\n",
        "logging.error(\"this is a error message\")\n",
        "logging.critical(\"this is a critical message\")"
      ],
      "metadata": {
        "colab": {
          "base_uri": "https://localhost:8080/"
        },
        "id": "0sJ8J5p8sYtP",
        "outputId": "824cd511-79b0-4f1d-a31b-655bf3c687a3"
      },
      "execution_count": 2,
      "outputs": [
        {
          "output_type": "stream",
          "name": "stderr",
          "text": [
            "WARNING:root:this is a warning message\n",
            "ERROR:root:this is a error message\n",
            "CRITICAL:root:this is a critical message\n"
          ]
        }
      ]
    }
  ]
}