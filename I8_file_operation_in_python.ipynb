{
  "nbformat": 4,
  "nbformat_minor": 0,
  "metadata": {
    "colab": {
      "provenance": []
    },
    "kernelspec": {
      "name": "python3",
      "display_name": "Python 3"
    },
    "language_info": {
      "name": "python"
    }
  },
  "cells": [
    {
      "cell_type": "markdown",
      "source": [
        "# File operation - read and write files\n",
        "file handling is a crucial part of any programming language. python provides built-in functions and methods to read from and write to files, both text and binary. this lesson will cover the basics of file handling, including reading and writing text files and binary files."
      ],
      "metadata": {
        "id": "4_luYISrEPyq"
      }
    },
    {
      "cell_type": "code",
      "source": [
        "## read a whole file\n",
        "\n",
        "with open('/hello my name is Chetan bhagat.txt','r') as file:\n",
        "  content=file.read()\n",
        "  print(content)"
      ],
      "metadata": {
        "colab": {
          "base_uri": "https://localhost:8080/"
        },
        "id": "mPXz5RLxE3kD",
        "outputId": "5c39bd90-6911-4625-9421-3ec4267d565e"
      },
      "execution_count": 4,
      "outputs": [
        {
          "output_type": "stream",
          "name": "stdout",
          "text": [
            "hello my name is Chetan bhagat\n",
            "i am 3rd year aids student\n",
            "from kdk college of engineering, Nagpur\n",
            "\n"
          ]
        }
      ]
    },
    {
      "cell_type": "code",
      "source": [
        "## read a file line by line\n",
        "with open('/hello my name is Chetan bhagat.txt','r')as file:\n",
        "  for line in file:\n",
        "    print(line) ## print(line.strip()) removes the newline character"
      ],
      "metadata": {
        "colab": {
          "base_uri": "https://localhost:8080/"
        },
        "id": "cSMANhLtFZyQ",
        "outputId": "02730e49-e78a-46a1-847a-2fdcc3be99ff"
      },
      "execution_count": 5,
      "outputs": [
        {
          "output_type": "stream",
          "name": "stdout",
          "text": [
            "hello my name is Chetan bhagat\n",
            "\n",
            "i am 3rd year aids student\n",
            "\n",
            "from kdk college of engineering, Nagpur\n",
            "\n"
          ]
        }
      ]
    },
    {
      "cell_type": "code",
      "source": [
        " ## writing a file(overwriting)\n",
        "\n",
        " with open('/hello my name is Chetan bhagat.txt','w') as file:\n",
        "  file.write('hello world!\\n')\n",
        "  file.write('this is a new line.')"
      ],
      "metadata": {
        "id": "ti7CUauGHkjT"
      },
      "execution_count": 8,
      "outputs": []
    },
    {
      "cell_type": "code",
      "source": [
        "## write a file(without overwriting)\n",
        "\n",
        "with open('/hello my name is Chetan bhagat.txt','a') as file:\n",
        "  file.write(\"append operation taking place\\n\")"
      ],
      "metadata": {
        "id": "RkbNs_3NJMx4"
      },
      "execution_count": 10,
      "outputs": []
    },
    {
      "cell_type": "code",
      "source": [
        "## writing a list of lines to a file\n",
        "\n",
        "lines=['first line \\n','second line \\n','third line \\n']\n",
        "with open('/hello my name is Chetan bhagat.txt','a') as file:\n",
        "  file.writelines(lines)"
      ],
      "metadata": {
        "id": "YP9zOjvBJ5LS"
      },
      "execution_count": 12,
      "outputs": []
    },
    {
      "cell_type": "code",
      "source": [
        "## read the content from source text file and write to a destination text file\n",
        "## copying a file\n",
        "\n",
        "with open('/hello my name is Chetan bhagat.txt','r') as source_file:\n",
        "  content =  source_file.read()\n",
        "\n",
        "with open('/destination.txt','w') as destination_file:\n",
        "  destination_file.write(content)\n",
        "\n"
      ],
      "metadata": {
        "id": "58SvMtHcNFph"
      },
      "execution_count": 14,
      "outputs": []
    },
    {
      "cell_type": "code",
      "source": [
        "## count lines, words, and characters in a text file\n",
        "\n",
        "def count_text_file(file_path):\n",
        "  with open(file_path,'r') as file:\n",
        "    lines = file.readlines()\n",
        "    line_count = len(lines)\n",
        "    word_count = sum(len(line.split()) for line in lines)\n",
        "    char_count = sum(len(line) for line in lines)\n",
        "  return line_count, word_count, char_count\n",
        "\n",
        "file_path = '/hello my name is Chetan bhagat.txt'\n",
        "lines, words, characters = count_text_file(file_path)\n",
        "print(f\"lines: {lines}, words:{words},characters: {characters}\")"
      ],
      "metadata": {
        "colab": {
          "base_uri": "https://localhost:8080/"
        },
        "id": "epQSM0DFPCbN",
        "outputId": "5ce93ad3-09da-49a1-edfa-9332fee4c5d0"
      },
      "execution_count": 15,
      "outputs": [
        {
          "output_type": "stream",
          "name": "stdout",
          "text": [
            "lines: 8, words:25,characters: 165\n"
          ]
        }
      ]
    },
    {
      "cell_type": "markdown",
      "source": [
        "the w+ mode in python is used to open a file for both reading and writing. if the file does not exist, it will be created. if the file exist, its content is truncated (i.e, the file is overwriten)."
      ],
      "metadata": {
        "id": "nVptgx15R3_X"
      }
    },
    {
      "cell_type": "code",
      "source": [
        "## writing and then readinig a file\n",
        "\n",
        "with open('/hello my name is Chetan bhagat.txt','w+') as file:\n",
        "  file.write(\"hello world\\n\")\n",
        "  file.write(\"this is a new line \\n\")\n",
        "\n",
        "  ## move the file cursor to the beginning\n",
        "  file.seek(0)\n",
        "\n",
        "  ## read the content of the file\n",
        "  content=file.read()\n",
        "  print(content)\n",
        "\n"
      ],
      "metadata": {
        "colab": {
          "base_uri": "https://localhost:8080/"
        },
        "id": "bwH5tg_lRZX1",
        "outputId": "4ecf4c0c-3667-4e17-ca76-0337af298dd9"
      },
      "execution_count": 18,
      "outputs": [
        {
          "output_type": "stream",
          "name": "stdout",
          "text": [
            "hello world\n",
            "this is a new line \n",
            "\n"
          ]
        }
      ]
    }
  ]
}