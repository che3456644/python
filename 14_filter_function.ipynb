{
  "nbformat": 4,
  "nbformat_minor": 0,
  "metadata": {
    "colab": {
      "provenance": []
    },
    "kernelspec": {
      "name": "python3",
      "display_name": "Python 3"
    },
    "language_info": {
      "name": "python"
    }
  },
  "cells": [
    {
      "cell_type": "markdown",
      "source": [
        "# **The filter() function in python**\n",
        "The filter()function constructs an iterator from elements of an iterable for which a function returns true. it is used to filter out items from a list (or any other iterable) based on a condition"
      ],
      "metadata": {
        "id": "OHr2h_Vzurvz"
      }
    },
    {
      "cell_type": "code",
      "source": [
        "def even(num):\n",
        "  if num%2==0:\n",
        "    return True\n"
      ],
      "metadata": {
        "id": "dY7IKH3KvPwO"
      },
      "execution_count": 1,
      "outputs": []
    },
    {
      "cell_type": "code",
      "source": [
        "even(26)"
      ],
      "metadata": {
        "colab": {
          "base_uri": "https://localhost:8080/"
        },
        "id": "CmY9rKiavinZ",
        "outputId": "e426f38a-b41b-41b1-f592-71ffb3c2fa8c"
      },
      "execution_count": 2,
      "outputs": [
        {
          "output_type": "execute_result",
          "data": {
            "text/plain": [
              "True"
            ]
          },
          "metadata": {},
          "execution_count": 2
        }
      ]
    },
    {
      "cell_type": "code",
      "source": [
        "lst=[1,2,3,4,5,6,7,8,9,10,11,12]\n",
        "\n",
        "list(filter(even,lst))"
      ],
      "metadata": {
        "colab": {
          "base_uri": "https://localhost:8080/"
        },
        "id": "dAjz4A0bvoqD",
        "outputId": "e73e8bbc-6d2e-41f9-9996-ab60459afbc0"
      },
      "execution_count": 3,
      "outputs": [
        {
          "output_type": "execute_result",
          "data": {
            "text/plain": [
              "[2, 4, 6, 8, 10, 12]"
            ]
          },
          "metadata": {},
          "execution_count": 3
        }
      ]
    },
    {
      "cell_type": "code",
      "source": [
        "## filter with a lambda function\n",
        "\n",
        "numbers=[1,2,3,4,5,6,7,8,9,10,11,12]\n",
        "greater_than_five=list(filter(lambda x:x>5,numbers))\n",
        "print(greater_than_five)"
      ],
      "metadata": {
        "colab": {
          "base_uri": "https://localhost:8080/"
        },
        "id": "oigiTsghwnnA",
        "outputId": "0be12696-b5fe-4aa0-9b55-c69a2caeb936"
      },
      "execution_count": 5,
      "outputs": [
        {
          "output_type": "stream",
          "name": "stdout",
          "text": [
            "[6, 7, 8, 9, 10, 11, 12]\n"
          ]
        }
      ]
    },
    {
      "cell_type": "code",
      "source": [
        "## filter with a lambda function and multiple conditions\n",
        "numbers=[1,2,3,4,5,6,7,8,9,10,11,12]\n",
        "even_and_greater_than_five=list(filter(lambda x:x>5 and x%2==0,numbers))\n",
        "print(even_and_greater_than_five)"
      ],
      "metadata": {
        "colab": {
          "base_uri": "https://localhost:8080/"
        },
        "id": "ZA50pb5Xxawl",
        "outputId": "12fac413-60f3-4434-93d3-d280a9e8e569"
      },
      "execution_count": 6,
      "outputs": [
        {
          "output_type": "stream",
          "name": "stdout",
          "text": [
            "[6, 8, 10, 12]\n"
          ]
        }
      ]
    },
    {
      "cell_type": "code",
      "source": [
        "## filter() to check if the age is greater than 25 in dictionaries\n",
        "\n",
        "people=[\n",
        "    {'name':'chetan','age':20},\n",
        "    {'name':'vipin','age':22},\n",
        "    {'name':'virat','age':30},\n",
        "    {'name':'bhuwneshwar','age':27}\n",
        "]\n",
        "\n",
        "def age_greater_than_25(person):\n",
        "  return person ['age']>25\n",
        "list(filter(age_greater_than_25,people))"
      ],
      "metadata": {
        "colab": {
          "base_uri": "https://localhost:8080/"
        },
        "id": "1j0ZcFKhx_vw",
        "outputId": "7cb9d4eb-0c3b-419e-ccd4-9f64cb5136e3"
      },
      "execution_count": 9,
      "outputs": [
        {
          "output_type": "execute_result",
          "data": {
            "text/plain": [
              "[{'name': 'virat', 'age': 30}, {'name': 'bhuwneshwar', 'age': 27}]"
            ]
          },
          "metadata": {},
          "execution_count": 9
        }
      ]
    }
  ]
}
