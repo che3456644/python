{
  "nbformat": 4,
  "nbformat_minor": 0,
  "metadata": {
    "colab": {
      "provenance": []
    },
    "kernelspec": {
      "name": "python3",
      "display_name": "Python 3"
    },
    "language_info": {
      "name": "python"
    }
  },
  "cells": [
    {
      "cell_type": "markdown",
      "source": [
        "# ***3_module_data_sturctures_assignments***"
      ],
      "metadata": {
        "id": "5MH6DnwXRQql"
      }
    },
    {
      "cell_type": "code",
      "source": [
        "## creating and accessing lists\n",
        "## Qustion 1 : create  a list of the first 20 positive integers. print the list\n",
        "\n",
        "chetan = list(range(1,21))\n",
        "print(chetan)"
      ],
      "metadata": {
        "colab": {
          "base_uri": "https://localhost:8080/"
        },
        "id": "f5S2zdyIRz7g",
        "outputId": "2d6a7d56-82a5-4e6b-98f4-17d9e3a04304"
      },
      "execution_count": null,
      "outputs": [
        {
          "output_type": "stream",
          "name": "stdout",
          "text": [
            "[1, 2, 3, 4, 5, 6, 7, 8, 9, 10, 11, 12, 13, 14, 15, 16, 17, 18, 19, 20]\n"
          ]
        }
      ]
    },
    {
      "cell_type": "code",
      "source": [
        "## accessing list elements\n",
        "## Qusetion : print the first,middle,and last elemen-ts of the list created in above question 1\n",
        "\n",
        "print(f\"first element\",{chetan[0]})\n",
        "print(f\"middle element\",{chetan[len(chetan)//2]})\n",
        "print(f\"last element\",{chetan[-1]})\n"
      ],
      "metadata": {
        "colab": {
          "base_uri": "https://localhost:8080/"
        },
        "id": "Fnj39lizSPXO",
        "outputId": "0ec88822-726a-489b-b8a7-63b5ab539f72"
      },
      "execution_count": null,
      "outputs": [
        {
          "output_type": "stream",
          "name": "stdout",
          "text": [
            "first element {1}\n",
            "middle element {11}\n",
            "last element {20}\n"
          ]
        }
      ]
    },
    {
      "cell_type": "code",
      "source": [
        "## list slicing\n",
        "## Question : print the first five elements, and the elements from index 5 to 15 of the list created in quesiton1\n",
        "\n",
        "print(chetan[:5])\n",
        "print(chetan[15:])\n",
        "print(chetan[5:15])"
      ],
      "metadata": {
        "colab": {
          "base_uri": "https://localhost:8080/"
        },
        "id": "6Hva5zLlTfnV",
        "outputId": "5885e610-8e7f-4778-d424-827416782820"
      },
      "execution_count": null,
      "outputs": [
        {
          "output_type": "stream",
          "name": "stdout",
          "text": [
            "[1, 2, 3, 4, 5]\n",
            "[16, 17, 18, 19, 20]\n",
            "[6, 7, 8, 9, 10, 11, 12, 13, 14, 15]\n"
          ]
        }
      ]
    },
    {
      "cell_type": "code",
      "source": [
        "## list comprehension\n",
        "## Question : create a new list containing the squares of the first 10 positive integers using a list comprehension. print the new list\n",
        "\n",
        "lst=[]\n",
        "for x in range(10):\n",
        "  lst.append(x**2)\n",
        "\n",
        "print(lst)\n",
        "\n"
      ],
      "metadata": {
        "colab": {
          "base_uri": "https://localhost:8080/"
        },
        "id": "55jrpj20WLNw",
        "outputId": "65d0cfe2-96ce-4955-a71f-fd4db3a9e227"
      },
      "execution_count": null,
      "outputs": [
        {
          "output_type": "stream",
          "name": "stdout",
          "text": [
            "[0, 1, 4, 9, 16, 25, 36, 49, 64, 81]\n"
          ]
        }
      ]
    },
    {
      "cell_type": "code",
      "source": [
        "## filtering lists\n",
        "## Question : create a new list containing only the even numbers form the list created in question using a list comprehension. print the new list\n",
        "\n",
        "evens = [x for x in chetan if x%2==0]\n",
        "print(evens)\n",
        "\n"
      ],
      "metadata": {
        "colab": {
          "base_uri": "https://localhost:8080/"
        },
        "id": "odHIYXtLYZGc",
        "outputId": "83956675-cf62-47a5-f82a-86a350a921ed"
      },
      "execution_count": null,
      "outputs": [
        {
          "output_type": "stream",
          "name": "stdout",
          "text": [
            "[2, 4, 6, 8, 10, 12, 14, 16, 18, 20]\n"
          ]
        }
      ]
    },
    {
      "cell_type": "code",
      "source": [
        "## list methods\n",
        "## Question : create ,a list of random numbers and sort it in ascending and descending order.remove the duplicates from the list and print the modified list.\n",
        "\n",
        "import random\n",
        "\n",
        "random_numbers = [random.randint(1, 20) for _ in range(15)]\n",
        "print(f\"Original list: {random_numbers}\")\n",
        "\n",
        "sorted_numbers = sorted(random_numbers)\n",
        "print(f\"Sorted in ascending order: {sorted_numbers}\")\n",
        "\n",
        "sorted_numbers_desc = sorted(random_numbers, reverse=True)\n",
        "print(f\"Sorted in descending order: {sorted_numbers_desc}\")\n",
        "\n",
        "unique_numbers = list(set(random_numbers))\n",
        "print(f\"List with duplicates removed: {unique_numbers}\")\n"
      ],
      "metadata": {
        "colab": {
          "base_uri": "https://localhost:8080/"
        },
        "id": "kU8wL52jZoGf",
        "outputId": "692a6c08-f50b-49c9-c713-b0682fa09f96"
      },
      "execution_count": null,
      "outputs": [
        {
          "output_type": "stream",
          "name": "stdout",
          "text": [
            "Original list: [5, 12, 2, 10, 5, 17, 15, 6, 11, 5, 15, 12, 12, 1, 8]\n",
            "Sorted in ascending order: [1, 2, 5, 5, 5, 6, 8, 10, 11, 12, 12, 12, 15, 15, 17]\n",
            "Sorted in descending order: [17, 15, 15, 12, 12, 12, 11, 10, 8, 6, 5, 5, 5, 2, 1]\n",
            "List with duplicates removed: [1, 2, 5, 6, 8, 10, 11, 12, 15, 17]\n"
          ]
        }
      ]
    },
    {
      "cell_type": "code",
      "source": [
        "## nested methods\n",
        "## Question : create a nested list representing a 3x3 matrix and print the matrix access and print the element at the second row and third column\n",
        "\n",
        "matrix = [\n",
        "    [1, 2, 3],\n",
        "    [4, 5, 6],\n",
        "    [7, 8, 9]\n",
        "]\n",
        "print(matrix)\n",
        "for row in matrix:\n",
        "  print(row)\n",
        "print(f\"element at the second row and third column\",{matrix[1][2]})\n",
        "\n"
      ],
      "metadata": {
        "colab": {
          "base_uri": "https://localhost:8080/"
        },
        "id": "eoMohgsFb9ZQ",
        "outputId": "17035250-8cc0-47d8-dcff-4354885c4e3d"
      },
      "execution_count": null,
      "outputs": [
        {
          "output_type": "stream",
          "name": "stdout",
          "text": [
            "[[1, 2, 3], [4, 5, 6], [7, 8, 9]]\n",
            "[1, 2, 3]\n",
            "[4, 5, 6]\n",
            "[7, 8, 9]\n",
            "element at the second row and third column {6}\n"
          ]
        }
      ]
    },
    {
      "cell_type": "code",
      "source": [
        "## list of dictionaries\n",
        "## Question : Create a list of dictionaries where each dictionary represents a student with keys 'name' and 'score'. Sort the list of dictionaries by the 'score' in descending order and print the sorted list.\n",
        "\n",
        "students = [\n",
        "    {'name':'chetan','score':78},\n",
        "    {'name': 'don','score':65},\n",
        "    {'name':'rao','score':72},\n",
        "    {'name':'kartik','score':79}\n",
        "]\n",
        "sorted_students = sorted(students, key=lambda x: x['score'],reverse = True)\n",
        "print(\"sorted students by score in descending order:\")\n",
        "for student in sorted_students:\n",
        "  print(student)\n"
      ],
      "metadata": {
        "id": "BMqljOAFqICM",
        "colab": {
          "base_uri": "https://localhost:8080/"
        },
        "outputId": "5896bdba-7142-482c-9df4-6100716f0286"
      },
      "execution_count": 50,
      "outputs": [
        {
          "output_type": "stream",
          "name": "stdout",
          "text": [
            "sorted students by score in descending order:\n",
            "{'name': 'kartik', 'score': 79}\n",
            "{'name': 'chetan', 'score': 78}\n",
            "{'name': 'rao', 'score': 72}\n",
            "{'name': 'don', 'score': 65}\n"
          ]
        }
      ]
    },
    {
      "cell_type": "code",
      "source": [
        "## matrix transposition\n",
        "## Question : Write a function that takes a 3x3 matrix (nested list) as input and returns its transpose. Print the original and transposed matrices.\n",
        "\n",
        "def transpose_matrix(matrix):\n",
        "  transposed=[[matrix[j][i] for j in range(len(matrix))] for i in range(len(matrix[0]))]\n",
        "  return transposed\n",
        "matrix = [\n",
        "    [3, 4, 5],\n",
        "    [8, 7, 5],\n",
        "    [4, 2, 1]\n",
        "]\n",
        "transpose_matrix = transpose_matrix(matrix)\n",
        "print(\"original matrix\")\n",
        "for row in matrix:\n",
        "  print(row)\n",
        "print(\"transposed matrix:\")\n",
        "for row in transpose_matrix:\n",
        "  print(row)"
      ],
      "metadata": {
        "id": "49f_HXLWrRRy",
        "colab": {
          "base_uri": "https://localhost:8080/"
        },
        "outputId": "de1f921d-bcf1-4480-a0a2-95769838f914"
      },
      "execution_count": 18,
      "outputs": [
        {
          "output_type": "stream",
          "name": "stdout",
          "text": [
            "original matrix\n",
            "[3, 4, 5]\n",
            "[8, 7, 5]\n",
            "[4, 2, 1]\n",
            "transposed matrix:\n",
            "[3, 8, 4]\n",
            "[4, 7, 2]\n",
            "[5, 5, 1]\n"
          ]
        }
      ]
    },
    {
      "cell_type": "code",
      "source": [
        "## flattening a nested list\n",
        "## Question : write a function that takes a nested list and flattens it into a single list. print the original and falttened list.\n",
        "\n",
        "def flatten_list(nested_list):\n",
        "    flat_list = [item for sublist in nested_list for item in sublist]\n",
        "    return flat_list\n",
        "\n",
        "nested_list = [\n",
        "    [1, 2, 3],\n",
        "    [4, 5, 6],\n",
        "    [7, 8, 9]\n",
        "]\n",
        "flattened = flatten_list(nested_list)\n",
        "print(\"Original nested list:\")\n",
        "print(nested_list)\n",
        "print(\"Flattened list:\")\n",
        "print(flattened)\n"
      ],
      "metadata": {
        "colab": {
          "base_uri": "https://localhost:8080/"
        },
        "id": "GzwzWhrPdk1u",
        "outputId": "4b6acd94-48f9-4094-ace8-a9ceb56ab250"
      },
      "execution_count": 19,
      "outputs": [
        {
          "output_type": "stream",
          "name": "stdout",
          "text": [
            "Original nested list:\n",
            "[[1, 2, 3], [4, 5, 6], [7, 8, 9]]\n",
            "Flattened list:\n",
            "[1, 2, 3, 4, 5, 6, 7, 8, 9]\n"
          ]
        }
      ]
    }
  ]
}
