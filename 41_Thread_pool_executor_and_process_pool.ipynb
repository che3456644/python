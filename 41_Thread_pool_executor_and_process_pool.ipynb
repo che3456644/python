{
  "nbformat": 4,
  "nbformat_minor": 0,
  "metadata": {
    "colab": {
      "provenance": []
    },
    "kernelspec": {
      "name": "python3",
      "display_name": "Python 3"
    },
    "language_info": {
      "name": "python"
    }
  },
  "cells": [
    {
      "cell_type": "code",
      "execution_count": 6,
      "metadata": {
        "colab": {
          "base_uri": "https://localhost:8080/"
        },
        "id": "_f9cCqGPANTn",
        "outputId": "59a98128-8ab7-40d0-8846-bed38f4de9bd"
      },
      "outputs": [
        {
          "output_type": "stream",
          "name": "stdout",
          "text": [
            "Number : 1\n",
            "Number : 2\n",
            "Number : 3\n",
            "Number : 4\n",
            "Number : 5\n",
            "Number : 6\n",
            "Number : 7\n",
            "Number : 8\n",
            "Number : 9\n",
            "Number : 10\n",
            "Number : 11\n",
            "Number : 12\n",
            "Number : 13\n",
            "Number : 14\n",
            "Number : 15\n",
            "Number : 16\n",
            "Number : 17\n",
            "Number : 18\n",
            "Number : 19\n"
          ]
        }
      ],
      "source": [
        "## Multithreading with thread pool executor\n",
        "\n",
        "from concurrent.futures import ThreadPoolExecutor\n",
        "import time\n",
        "\n",
        "def print_number(number):\n",
        "  time.sleep(2)\n",
        "  return f\"Number : {number}\"\n",
        "\n",
        "numbers=[1,2,3,4,5,6,7,8,9,10,11,12,13,14,15,16,17,18,19]\n",
        "\n",
        "with ThreadPoolExecutor(max_workers=3) as executor:\n",
        "  results=executor.map(print_number,numbers)\n",
        "\n",
        "for result in results:\n",
        "  print(result)"
      ]
    },
    {
      "cell_type": "code",
      "source": [
        " ## Multiprocessing with ProcessPoolExecutor\n",
        "\n",
        " from concurrent.futures import ProcessPoolExecutor\n",
        " import time\n",
        "\n",
        " def square_number(number):\n",
        "  time.sleep(2)\n",
        "  return f\"Square : {number * number}\"\n",
        "\n",
        "numbers=[1,2,3,4,5,6,7,8,9,10,11,12,13,14,15,16,17,18,19]\n",
        "if __name__==\"__main__\":\n",
        "  with ProcessPoolExecutor(max_workers=3) as executor:\n",
        "    results=executor.map(square_number,numbers)\n",
        "\n",
        "  for result in results:\n",
        "    print(result)"
      ],
      "metadata": {
        "colab": {
          "base_uri": "https://localhost:8080/"
        },
        "id": "rk6GMMZTBP1t",
        "outputId": "2a3c245b-85f7-4467-b1a7-ff5923d7fffa"
      },
      "execution_count": 13,
      "outputs": [
        {
          "output_type": "stream",
          "name": "stdout",
          "text": [
            "Square : 1\n",
            "Square : 4\n",
            "Square : 9\n",
            "Square : 16\n",
            "Square : 25\n",
            "Square : 36\n",
            "Square : 49\n",
            "Square : 64\n",
            "Square : 81\n",
            "Square : 100\n",
            "Square : 121\n",
            "Square : 144\n",
            "Square : 169\n",
            "Square : 196\n",
            "Square : 225\n",
            "Square : 256\n",
            "Square : 289\n",
            "Square : 324\n",
            "Square : 361\n"
          ]
        }
      ]
    }
  ]
}