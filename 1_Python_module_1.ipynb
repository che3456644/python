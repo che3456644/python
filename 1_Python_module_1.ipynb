{
  "nbformat": 4,
  "nbformat_minor": 0,
  "metadata": {
    "colab": {
      "provenance": []
    },
    "kernelspec": {
      "name": "python3",
      "display_name": "Python 3"
    },
    "language_info": {
      "name": "python"
    }
  },
  "cells": [
    {
      "cell_type": "markdown",
      "source": [
        "# ***1. Python Basics***"
      ],
      "metadata": {
        "id": "PyMw6viPTX9-"
      }
    },
    {
      "cell_type": "markdown",
      "source": [
        "# 1. Syntax And Semantics"
      ],
      "metadata": {
        "id": "HDfKwWn8CUkc"
      }
    },
    {
      "cell_type": "code",
      "execution_count": null,
      "metadata": {
        "colab": {
          "base_uri": "https://localhost:8080/"
        },
        "id": "li6Qbci6D0wL",
        "outputId": "2910657d-0703-4455-c43c-3c952b1539a6"
      },
      "outputs": [
        {
          "output_type": "stream",
          "name": "stdout",
          "text": [
            "hello world\n"
          ]
        }
      ],
      "source": [
        "# Question 1: Write a Python program to print \"Hello, World!\".\n",
        "print (\"hello world\")"
      ]
    },
    {
      "cell_type": "code",
      "source": [
        "# Question 2: Write a Python program that takes a user input and prints it.\n",
        "input()"
      ],
      "metadata": {
        "colab": {
          "base_uri": "https://localhost:8080/",
          "height": 53
        },
        "id": "EHT5rsmVEJWw",
        "outputId": "8974d80e-8018-456b-9770-8d71e8ee766a"
      },
      "execution_count": null,
      "outputs": [
        {
          "name": "stdout",
          "output_type": "stream",
          "text": [
            "5\n"
          ]
        },
        {
          "output_type": "execute_result",
          "data": {
            "text/plain": [
              "'5'"
            ],
            "application/vnd.google.colaboratory.intrinsic+json": {
              "type": "string"
            }
          },
          "metadata": {},
          "execution_count": 2
        }
      ]
    },
    {
      "cell_type": "code",
      "source": [
        "# Question 3: Write a Python program to check if a number is positive, negative, or zero.\n",
        "num =int( input())\n",
        "if (num>0):\n",
        "  print(\"number is positive\")\n",
        "elif (num<0):\n",
        "  print(\"number is negative\")\n",
        "else:\n",
        "  print(\"number is zero\")"
      ],
      "metadata": {
        "colab": {
          "base_uri": "https://localhost:8080/"
        },
        "id": "VlzzTHIIEcUY",
        "outputId": "36128d3a-2b52-48d9-b4e5-0ad2e2f4dda7"
      },
      "execution_count": null,
      "outputs": [
        {
          "output_type": "stream",
          "name": "stdout",
          "text": [
            "0\n",
            "number is zero\n"
          ]
        }
      ]
    },
    {
      "cell_type": "code",
      "source": [
        "# Question 4: write a python program to find the largest of three numbers\n",
        "num1 = int(input())\n",
        "num2 = int(input())\n",
        "num3 = int(input())\n",
        "\n",
        "if (num1>num2)and(num1>num3):\n",
        "  print('The largest of three number is', num1)\n",
        "elif(num2>num3)and(num2>1):\n",
        "  print('The largest of three number is', num2)\n",
        "elif(num3>num1)and(num3>num2):\n",
        "  print('The largest of three number is', num3)\n",
        "\n"
      ],
      "metadata": {
        "colab": {
          "base_uri": "https://localhost:8080/"
        },
        "id": "65GcungrFt7c",
        "outputId": "b9d54a47-fb27-458c-be71-2983fcfc0717"
      },
      "execution_count": null,
      "outputs": [
        {
          "output_type": "stream",
          "name": "stdout",
          "text": [
            "21\n",
            "12\n",
            "15\n",
            "The largest of three number is 21\n"
          ]
        }
      ]
    },
    {
      "cell_type": "code",
      "source": [
        "# Question 5: write a python program to calculate the factorial of a number\n",
        "n = int(input())\n",
        "z=1\n",
        "for i in range(1, n+1):\n",
        "  z=z*i\n",
        "print(z)\n"
      ],
      "metadata": {
        "colab": {
          "base_uri": "https://localhost:8080/"
        },
        "id": "RvcLJeiEOF8V",
        "outputId": "f5b16702-77b0-438c-a561-fcb5379b6908"
      },
      "execution_count": null,
      "outputs": [
        {
          "output_type": "stream",
          "name": "stdout",
          "text": [
            "5\n",
            "120\n"
          ]
        }
      ]
    },
    {
      "cell_type": "markdown",
      "source": [
        "# ***2. Variables And Data Types***"
      ],
      "metadata": {
        "id": "RTjy2PFHTUgG"
      }
    },
    {
      "cell_type": "code",
      "source": [
        "# Question 6: create variables of different data types:integer,float,string,and boolean. print their values and types\n",
        "a=10\n",
        "b=20\n",
        "c=a+b\n",
        "print(c)\n",
        "print(type(c))\n",
        "\n",
        "d=5.5\n",
        "e=5.5\n",
        "f=d+e\n",
        "print(f)\n",
        "print(type(f))\n",
        "\n",
        "i=\"hello\"\n",
        "j=\"chetan\"\n",
        "k=i+j\n",
        "print(k)\n",
        "print(type(k))\n",
        "\n",
        "m=True\n",
        "n=False\n",
        "o=m+n\n",
        "print(o)\n",
        "print(type(o))\n",
        "\n"
      ],
      "metadata": {
        "colab": {
          "base_uri": "https://localhost:8080/"
        },
        "id": "OHTk6U5RTSFU",
        "outputId": "6e2206f6-4aae-4ad4-856a-aee848913402"
      },
      "execution_count": null,
      "outputs": [
        {
          "output_type": "stream",
          "name": "stdout",
          "text": [
            "30\n",
            "<class 'int'>\n",
            "11.0\n",
            "<class 'float'>\n",
            "hellochetan\n",
            "<class 'str'>\n",
            "1\n",
            "<class 'int'>\n"
          ]
        }
      ]
    },
    {
      "cell_type": "code",
      "source": [
        "# Question 7: write a python program to swap the values of two variables\n",
        "a=10\n",
        "b=20\n",
        "print(\"befor swapping\")\n",
        "print(\"a=\",a)\n",
        "print(\"b=\",b)\n",
        "\n",
        "temp = a\n",
        "a=b\n",
        "b = temp\n",
        "\n",
        "print(\"after swapping\")\n",
        "print(\"a=\",a)\n",
        "print(\"b=\",b)"
      ],
      "metadata": {
        "id": "CiNvddeqW_Eo",
        "colab": {
          "base_uri": "https://localhost:8080/"
        },
        "outputId": "626255ed-80bb-4e00-c95a-89b53ba8886e"
      },
      "execution_count": null,
      "outputs": [
        {
          "output_type": "stream",
          "name": "stdout",
          "text": [
            "befor swapping\n",
            "a= 10\n",
            "b= 20\n",
            "after swapping\n",
            "a= 20\n",
            "b= 10\n"
          ]
        }
      ]
    },
    {
      "cell_type": "code",
      "source": [
        "# Question 8: write a python program to conver clesius to fahrenheit\n",
        "celsius = float(input())\n",
        "fahrenheit = (celsius *9/5)+32\n",
        "print(fahrenheit)\n"
      ],
      "metadata": {
        "colab": {
          "base_uri": "https://localhost:8080/"
        },
        "id": "_yrPQU40cTzd",
        "outputId": "93e6ba55-edd4-448f-813a-b15c3ac37012"
      },
      "execution_count": null,
      "outputs": [
        {
          "output_type": "stream",
          "name": "stdout",
          "text": [
            "41\n",
            "105.8\n"
          ]
        }
      ]
    },
    {
      "cell_type": "code",
      "source": [
        "# Question 9: write a python program to concatenate two strings\n",
        "string1=\"chetan \"\n",
        "string2=\"bhagat\"\n",
        "concatenated_string = string1+string2\n",
        "print(concatenated_string)"
      ],
      "metadata": {
        "colab": {
          "base_uri": "https://localhost:8080/"
        },
        "id": "VvzXfUyedbza",
        "outputId": "3f9c1e60-12ad-4249-ce3a-17e700d3ef73"
      },
      "execution_count": null,
      "outputs": [
        {
          "output_type": "stream",
          "name": "stdout",
          "text": [
            "chetan bhagat\n"
          ]
        }
      ]
    },
    {
      "cell_type": "code",
      "source": [
        "# Question 10: write a python program to check if a variable is of a specific data type\n",
        "variable1=21\n",
        "variable2=21.5\n",
        "variable3=\"hello\"\n",
        "variable4=[1,2,3]\n",
        "variable5=True\n",
        "print(f\"variable is of type: {type(variable1)}\")\n",
        "print(f\"variable is of type: {type(variable2)}\")\n",
        "print(f\"variable is of type: {type(variable3)}\")\n",
        "print(f\"variable is of type: {type(variable4)}\")\n",
        "print(f\"variable is of type: {type(variable5)}\")"
      ],
      "metadata": {
        "colab": {
          "base_uri": "https://localhost:8080/"
        },
        "id": "b-pvSNXDkt7r",
        "outputId": "036eb487-37ff-4d07-a5cf-621c31799cfb"
      },
      "execution_count": null,
      "outputs": [
        {
          "output_type": "stream",
          "name": "stdout",
          "text": [
            "variable is of type: <class 'int'>\n",
            "variable is of type: <class 'float'>\n",
            "variable is of type: <class 'str'>\n",
            "variable is of type: <class 'list'>\n",
            "variable is of type: <class 'bool'>\n"
          ]
        }
      ]
    },
    {
      "cell_type": "markdown",
      "source": [],
      "metadata": {
        "id": "TuygVl-FLYrF"
      }
    },
    {
      "cell_type": "markdown",
      "source": [
        "# ***3. Basic Operators (arithmetic,comparision,logical)***"
      ],
      "metadata": {
        "id": "xZPoyAxQLXbG"
      }
    },
    {
      "cell_type": "markdown",
      "source": [],
      "metadata": {
        "id": "AuNmHw-bLa8W"
      }
    },
    {
      "cell_type": "code",
      "source": [
        "# Question 11: write a python program to perform arithmetic operations:additon,substraction,multiplication,and division\n",
        "'''addition'''\n",
        "a=10\n",
        "b=20\n",
        "c=a+b\n",
        "print(c)\n",
        "\n",
        "'''substraction'''\n",
        "a=10\n",
        "b=2\n",
        "c=a-b\n",
        "print(c)\n",
        "\n",
        "'''multiplication'''\n",
        "a=10\n",
        "b=5\n",
        "c=a*b\n",
        "print(c)\n",
        "\n",
        "'''division'''\n",
        "a=10\n",
        "b=5\n",
        "c=a/b\n",
        "print(c)\n"
      ],
      "metadata": {
        "id": "MG9X0fmkKwhh",
        "colab": {
          "base_uri": "https://localhost:8080/"
        },
        "outputId": "17e3285e-9866-4e28-d4f6-19425d107384"
      },
      "execution_count": null,
      "outputs": [
        {
          "output_type": "stream",
          "name": "stdout",
          "text": [
            "30\n",
            "8\n",
            "50\n",
            "2.0\n"
          ]
        }
      ]
    },
    {
      "cell_type": "code",
      "source": [
        "# Question 12: write a python program to demonstrate comparison operators:equal to, not equal to, greater than, less than.\n",
        "print(8==8)\n",
        "print(5==6)\n",
        "print(5!=4)\n",
        "print(5!=5)\n",
        "print(15>5)\n",
        "print(15>25)\n",
        "print(15<25)\n",
        "print(15<14)\n"
      ],
      "metadata": {
        "colab": {
          "base_uri": "https://localhost:8080/"
        },
        "id": "cHmI7jowVUag",
        "outputId": "c68167a1-0617-490c-bba5-1ae0587afe20"
      },
      "execution_count": null,
      "outputs": [
        {
          "output_type": "stream",
          "name": "stdout",
          "text": [
            "True\n",
            "False\n",
            "True\n",
            "False\n",
            "True\n",
            "False\n",
            "True\n",
            "False\n"
          ]
        }
      ]
    },
    {
      "cell_type": "code",
      "source": [
        "# Question 13: write a python program to demonstrate logical operators: and,or,not\n",
        "print(True and True)\n",
        "print(True and False)\n",
        "print(False and True)\n",
        "print(False and False)\n",
        "\n",
        "print(True or True)\n",
        "print(True or False)\n",
        "print(False or True)\n",
        "print(False or False)\n",
        "\n",
        "print(not True)\n",
        "print(not False)"
      ],
      "metadata": {
        "colab": {
          "base_uri": "https://localhost:8080/"
        },
        "id": "iyPmMFbPYbm-",
        "outputId": "9d32d8d0-395a-4787-c14b-e1ad908594fc"
      },
      "execution_count": null,
      "outputs": [
        {
          "output_type": "stream",
          "name": "stdout",
          "text": [
            "True\n",
            "False\n",
            "False\n",
            "False\n",
            "True\n",
            "True\n",
            "True\n",
            "False\n",
            "False\n",
            "True\n"
          ]
        }
      ]
    },
    {
      "cell_type": "code",
      "source": [
        "# Question 14: write a python program to calculate the square of a number\n",
        "num =int(input(\"enter a number :\" ))\n",
        "square = num **2\n",
        "print(f\"square of {num} is {square}\")"
      ],
      "metadata": {
        "colab": {
          "base_uri": "https://localhost:8080/"
        },
        "id": "YyclsTAxcQ8s",
        "outputId": "0ac028ed-b6df-482e-b309-7234f1191075"
      },
      "execution_count": null,
      "outputs": [
        {
          "output_type": "stream",
          "name": "stdout",
          "text": [
            "enter a number :5\n",
            "square of 5 is 25\n"
          ]
        }
      ]
    },
    {
      "cell_type": "code",
      "source": [
        "# Question 15: write a python program to check if a number is even or odd\n",
        "\n",
        "number = int(input(\"enter a number: \"))\n",
        "\n",
        "if(number%2==0):\n",
        "  print(\"the given number is even\")\n",
        "else:\n",
        "    print(\"the given number is odd\")"
      ],
      "metadata": {
        "colab": {
          "base_uri": "https://localhost:8080/"
        },
        "id": "BU1S6ZQWqx67",
        "outputId": "eb3f6814-38a0-47f2-d425-cd194ace26a7"
      },
      "execution_count": null,
      "outputs": [
        {
          "output_type": "stream",
          "name": "stdout",
          "text": [
            "enter a number: 17\n",
            "the given number is odd\n"
          ]
        }
      ]
    },
    {
      "cell_type": "code",
      "source": [
        "# Question 16: write a python program to find the sum of the first n natural numbers\n",
        "n = int(input(\"enter the number n : \"))\n",
        "sum_of_n_natural_number = n*(n+1)/2\n",
        "print(f\"sum of the first {n} natural number is {sum_of_n_natural_number} \")"
      ],
      "metadata": {
        "colab": {
          "base_uri": "https://localhost:8080/"
        },
        "id": "ck8egDU_ty0_",
        "outputId": "6794b274-377b-41f3-8ae3-65cf17233c93"
      },
      "execution_count": null,
      "outputs": [
        {
          "output_type": "stream",
          "name": "stdout",
          "text": [
            "enter the number n : 20\n",
            "sum of the first 20 natural number is 210.0 \n"
          ]
        }
      ]
    },
    {
      "cell_type": "code",
      "source": [
        "# Question 17: write a python program to check if a year is leap year\n",
        "year = int(input(\"Enter a year: \"))\n",
        "if (year % 4 == 0 and year % 100 != 0) or (year % 400 == 0):\n",
        "    print(f\"{year} is a leap year.\")\n",
        "else:\n",
        "    print(f\"{year} is not a leap year.\")\n"
      ],
      "metadata": {
        "colab": {
          "base_uri": "https://localhost:8080/"
        },
        "id": "vGXhcvD7kAA9",
        "outputId": "e4e83ee8-5a60-4f01-b8a3-e225687eaa31"
      },
      "execution_count": null,
      "outputs": [
        {
          "output_type": "stream",
          "name": "stdout",
          "text": [
            "Enter a year: 2024\n",
            "2024 is a leap year.\n"
          ]
        }
      ]
    },
    {
      "cell_type": "code",
      "source": [
        "# Question 18: write a python program to reverse a string\n",
        "input_string = input(\"enter a string:\")\n",
        "reverse_string = input_string[::-1]\n",
        "print(f\"the reverse string is {reverse_string}\")"
      ],
      "metadata": {
        "colab": {
          "base_uri": "https://localhost:8080/"
        },
        "id": "DQniDcbTmVmH",
        "outputId": "3041e37b-a7d8-463a-fa1b-af9f65f43623"
      },
      "execution_count": null,
      "outputs": [
        {
          "output_type": "stream",
          "name": "stdout",
          "text": [
            "enter a string:chetan bhagat\n",
            "the reverse string is tagahb natehc\n"
          ]
        }
      ]
    },
    {
      "cell_type": "code",
      "source": [
        "# Question 19: write a python program to check if a string is palindrome\n",
        "\n",
        "input_string = input(\"Enter a string: \")\n",
        "\n",
        "cleaned_string = input_string.replace(\" \", \"\").lower()\n",
        "\n",
        "if cleaned_string == cleaned_string[::-1]:\n",
        "    print(f\"{input_string} is a palindrome.\")\n",
        "else:\n",
        "    print(f\"{input_string} is not a palindrome.\")\n"
      ],
      "metadata": {
        "colab": {
          "base_uri": "https://localhost:8080/"
        },
        "id": "2eONc6fsmq0o",
        "outputId": "3d7b0e99-227a-43c2-a0af-3f32abecba8d"
      },
      "execution_count": null,
      "outputs": [
        {
          "output_type": "stream",
          "name": "stdout",
          "text": [
            "Enter a string: level\n",
            "level is a palindrome.\n"
          ]
        }
      ]
    },
    {
      "cell_type": "code",
      "source": [
        "# Question 20: write a python program to sort a list of numbers in ascending order\n",
        "\n",
        "numbers = [int(num) for num in input(\"Enter a list of numbers (separated by spaces): \").split()]\n",
        "sorted_numbers = sorted(numbers)\n",
        "print(f\"The sorted list is: {sorted_numbers}\")"
      ],
      "metadata": {
        "colab": {
          "base_uri": "https://localhost:8080/"
        },
        "id": "xGmKlbf2poiM",
        "outputId": "1497dfe2-7441-448b-f670-cd81969a259a"
      },
      "execution_count": null,
      "outputs": [
        {
          "output_type": "stream",
          "name": "stdout",
          "text": [
            "Enter a list of numbers (separated by spaces): 22 15 14 333\n",
            "The sorted list is: [14, 15, 22, 333]\n"
          ]
        }
      ]
    }
  ]
}