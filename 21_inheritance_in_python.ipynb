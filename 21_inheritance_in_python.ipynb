{
  "nbformat": 4,
  "nbformat_minor": 0,
  "metadata": {
    "colab": {
      "provenance": []
    },
    "kernelspec": {
      "name": "python3",
      "display_name": "Python 3"
    },
    "language_info": {
      "name": "python"
    }
  },
  "cells": [
    {
      "cell_type": "markdown",
      "source": [
        "# Inheritance in python\n",
        "inheritance is a fundamental concept in object-oriented programming(oop) that allows a class to inherit attributes and methods from another class."
      ],
      "metadata": {
        "id": "CUFnapV-c7Ay"
      }
    },
    {
      "cell_type": "code",
      "source": [
        "## inheritance (single inheritance)\n",
        "## parent class\n",
        "class car:\n",
        "  def __init__(self,windows,doors,enginetype):\n",
        "    self.windows=windows\n",
        "    self.doors=doors\n",
        "    self.enginetype=enginetype\n",
        "\n",
        "  def drive(self):\n",
        "    print(f\"the perosn will drive the {self.enginetype} car\")\n",
        ""
      ],
      "metadata": {
        "id": "xlRSTOi-dkEw"
      },
      "execution_count": 18,
      "outputs": []
    },
    {
      "cell_type": "code",
      "source": [
        "car1=car(4,4,\"petrol\")\n",
        "car1.drive()"
      ],
      "metadata": {
        "colab": {
          "base_uri": "https://localhost:8080/"
        },
        "id": "ca7LUBqVe8Bj",
        "outputId": "b0a30be3-b7e0-4313-e981-66b1c2ffcd68"
      },
      "execution_count": 19,
      "outputs": [
        {
          "output_type": "stream",
          "name": "stdout",
          "text": [
            "the perosn will drive the petrol car\n"
          ]
        }
      ]
    },
    {
      "cell_type": "code",
      "source": [
        "class tesla(car):\n",
        "  def __init__(self,windows,doors,enginetype,is_selfdriving):\n",
        "    super().__init__(windows,doors,enginetype)\n",
        "    self.is_selfdriving=is_selfdriving\n",
        "  def selfdriving(self):\n",
        "    print(f\"tesla supports self driving : {self.is_selfdriving}\")"
      ],
      "metadata": {
        "id": "RzHuCtJ6gnyK"
      },
      "execution_count": 20,
      "outputs": []
    },
    {
      "cell_type": "code",
      "source": [
        "tesla1=tesla(4,4,\"electric\",True)\n",
        "tesla1.selfdriving()"
      ],
      "metadata": {
        "colab": {
          "base_uri": "https://localhost:8080/"
        },
        "id": "H0hYJ_V4hpdR",
        "outputId": "2ff206c2-3b0f-4577-92a6-2b3fde571b4e"
      },
      "execution_count": 21,
      "outputs": [
        {
          "output_type": "stream",
          "name": "stdout",
          "text": [
            "tesla supports self driving : True\n"
          ]
        }
      ]
    },
    {
      "cell_type": "code",
      "source": [
        "## multiple inheritance\n",
        "## when a class inherits from more than one base class.\n",
        "## base class 1\n",
        "class animal:\n",
        "  def __init__(self,name): #Fixed typo here\n",
        "    self.name=name\n",
        "\n",
        "  def speak(self):\n",
        "    print(\"subclass must implement this method\")\n",
        "\n",
        "## base class 2\n",
        "class pet:\n",
        "  def __init__(self,owner):\n",
        "    self.owner = owner\n",
        "\n",
        "## derived class\n",
        "class dog(animal,pet):\n",
        "  def __init__(self,name,owner):\n",
        "    animal.__init__(self,name)\n",
        "    pet.__init__(self,owner)\n",
        "\n",
        "  def speak(self):\n",
        "    return f\"{self.name} say woof\"\n",
        "\n",
        "## create an object\n",
        "dog1=dog(\"buddy\",\"krish\")\n",
        "print(dog1.speak())\n",
        "print(f\"owner : {dog1.owner}\")"
      ],
      "metadata": {
        "colab": {
          "base_uri": "https://localhost:8080/"
        },
        "id": "Gz8wssoFluwC",
        "outputId": "964a660a-053f-427e-9eee-65de1f7ebacc"
      },
      "execution_count": 28,
      "outputs": [
        {
          "output_type": "stream",
          "name": "stdout",
          "text": [
            "buddy say woof\n",
            "owner : krish\n"
          ]
        }
      ]
    }
  ]
}