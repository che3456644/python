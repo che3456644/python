{
  "nbformat": 4,
  "nbformat_minor": 0,
  "metadata": {
    "colab": {
      "provenance": []
    },
    "kernelspec": {
      "name": "python3",
      "display_name": "Python 3"
    },
    "language_info": {
      "name": "python"
    }
  },
  "cells": [
    {
      "cell_type": "markdown",
      "source": [
        "# Logging with multiple loggers\n",
        "you can create a multiple loggers for different parts of your application"
      ],
      "metadata": {
        "id": "scF5ndbDy80Z"
      }
    },
    {
      "cell_type": "code",
      "source": [
        "import logging\n",
        "## create logger for module1\n",
        "logger1=logging.getLogger(\"module1\")\n",
        "logger1.setLevel(logging.DEBUG)\n",
        "\n",
        "## create a logger for module2\n",
        "logger2=logging.getLogger(\"module2\")\n",
        "logger2.setLevel(logging.WARNING)\n",
        "\n",
        "## configuring logging settings\n",
        "logging.basicConfig(\n",
        "    level=logging.DEBUG,\n",
        "    format='%(asctime)s-%(name)s-%(levelname)s-%(message)s',\n",
        "    datefmt='%Y-%m-%d %H:%M:%S')"
      ],
      "metadata": {
        "id": "YSZAwOdtzKIb"
      },
      "execution_count": 6,
      "outputs": []
    },
    {
      "cell_type": "code",
      "source": [
        "## log message with different loggers\n",
        "logger1.debug(\"this is a debug message\")\n",
        "logger2.warning(\"this is  a warning message\")"
      ],
      "metadata": {
        "colab": {
          "base_uri": "https://localhost:8080/"
        },
        "id": "KpT7jAbyz9Uw",
        "outputId": "22b6a7d9-5013-4bb5-aaae-2cabe705acb8"
      },
      "execution_count": 12,
      "outputs": [
        {
          "output_type": "stream",
          "name": "stderr",
          "text": [
            "DEBUG:module1:this is a debug message\n",
            "WARNING:module2:this is  a warning message\n"
          ]
        }
      ]
    }
  ]
}