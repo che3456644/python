{
  "nbformat": 4,
  "nbformat_minor": 0,
  "metadata": {
    "colab": {
      "provenance": []
    },
    "kernelspec": {
      "name": "python3",
      "display_name": "Python 3"
    },
    "language_info": {
      "name": "python"
    }
  },
  "cells": [
    {
      "cell_type": "code",
      "execution_count": 9,
      "metadata": {
        "colab": {
          "base_uri": "https://localhost:8080/"
        },
        "id": "2bFRiCHmc8-Z",
        "outputId": "332114a7-8621-4274-82e7-5ef94f932e30"
      },
      "outputs": [
        {
          "output_type": "stream",
          "name": "stdout",
          "text": [
            " * Serving Flask app '__main__'\n",
            " * Debug mode: on\n"
          ]
        },
        {
          "output_type": "stream",
          "name": "stderr",
          "text": [
            "INFO:werkzeug:\u001b[31m\u001b[1mWARNING: This is a development server. Do not use it in a production deployment. Use a production WSGI server instead.\u001b[0m\n",
            " * Running on http://127.0.0.1:5000\n",
            "INFO:werkzeug:\u001b[33mPress CTRL+C to quit\u001b[0m\n",
            "INFO:werkzeug: * Restarting with stat\n"
          ]
        }
      ],
      "source": [
        "from flask import Flask,render_template,request\n",
        "\"\"\"\n",
        "it creates an instance of the flask class, which will be your WSGI (web server gateway interface) application.\n",
        "\"\"\"\n",
        "\n",
        "## WSGI application\n",
        "app = Flask(__name__)\n",
        "\n",
        "@app.route(\"/\")\n",
        "def welcome ():\n",
        "    return \"<html><H1>welcome to the flask course</H1><html>\"\n",
        "\n",
        "@app.route(\"/index\",methods=['GET'])\n",
        "def index():\n",
        "    return render_template(\"index.html\")\n",
        "\n",
        "@app.route('/about')\n",
        "def about():\n",
        "    return reder_template(\"about.html\")\n",
        "\n",
        "@app.route('/form',methods=['GET','POST'])\n",
        "def form():\n",
        "    if request.methods=='POST':\n",
        "        name=reqeust.form['name']\n",
        "        return f'hello {name}!'\n",
        "    return render_template('form.html')\n",
        "\n",
        "if __name__==\"__main__\":\n",
        "    app.run(debug=True)\n"
      ]
    },
    {
      "cell_type": "code",
      "source": [],
      "metadata": {
        "id": "7WesJ3f-dDV1"
      },
      "execution_count": null,
      "outputs": []
    }
  ]
}