{
  "nbformat": 4,
  "nbformat_minor": 0,
  "metadata": {
    "colab": {
      "provenance": []
    },
    "kernelspec": {
      "name": "python3",
      "display_name": "Python 3"
    },
    "language_info": {
      "name": "python"
    }
  },
  "cells": [
    {
      "cell_type": "code",
      "execution_count": 53,
      "metadata": {
        "colab": {
          "base_uri": "https://localhost:8080/"
        },
        "id": "Ys_F1rsHZvjJ",
        "outputId": "d6748d19-5978-48ad-b30b-3e9e8dc14a17"
      },
      "outputs": [
        {
          "output_type": "stream",
          "name": "stdout",
          "text": [
            "<class 'dict'>\n"
          ]
        }
      ],
      "source": [
        "## creating dictionaries\n",
        "empty_dict={}\n",
        "print(type(empty_dict))"
      ]
    },
    {
      "cell_type": "code",
      "source": [
        "student={\"name\":\"chetan\",\"age\":20}\n",
        "print(student)\n",
        "print(type(student))"
      ],
      "metadata": {
        "colab": {
          "base_uri": "https://localhost:8080/"
        },
        "id": "cbnkCMgBabwP",
        "outputId": "57140dad-8f0b-4bfb-fcf3-e45cfe1b5cce"
      },
      "execution_count": 54,
      "outputs": [
        {
          "output_type": "stream",
          "name": "stdout",
          "text": [
            "{'name': 'chetan', 'age': 20}\n",
            "<class 'dict'>\n"
          ]
        }
      ]
    },
    {
      "cell_type": "code",
      "source": [
        "## accessing dictionary elements\n",
        "student={\"name\":\"chetan\",\"age\":20,\"grade\":\"A\"}\n",
        "print(student)\n"
      ],
      "metadata": {
        "colab": {
          "base_uri": "https://localhost:8080/"
        },
        "id": "kKwUB0ZQa1jy",
        "outputId": "c8db6326-1b83-4736-90f7-a124b047d7ad"
      },
      "execution_count": 55,
      "outputs": [
        {
          "output_type": "stream",
          "name": "stdout",
          "text": [
            "{'name': 'chetan', 'age': 20, 'grade': 'A'}\n"
          ]
        }
      ]
    },
    {
      "cell_type": "code",
      "source": [
        "## accessing dictionary elements\n",
        "print(student[\"grade\"])\n",
        "print(student[\"name\"])\n",
        "\n",
        "## accessing using get()method\n",
        "print(student.get(\"grade\"))\n",
        "print(student.get(\"last_name\"))\n",
        "print(student.get(\"last_name\",\"not available\"))"
      ],
      "metadata": {
        "colab": {
          "base_uri": "https://localhost:8080/"
        },
        "id": "X8vh5JJ7cPG5",
        "outputId": "f892868f-c0d3-443f-9534-50aab3a3b1d1"
      },
      "execution_count": 56,
      "outputs": [
        {
          "output_type": "stream",
          "name": "stdout",
          "text": [
            "A\n",
            "chetan\n",
            "A\n",
            "None\n",
            "not available\n"
          ]
        }
      ]
    },
    {
      "cell_type": "code",
      "source": [
        "## modifying dictionary elements\n",
        "## dictionary are mutable,so you can add,update or delete elements\n",
        "print(student)"
      ],
      "metadata": {
        "colab": {
          "base_uri": "https://localhost:8080/"
        },
        "id": "HSuBxguBcUGE",
        "outputId": "6bb1d677-8f74-4c6f-c5b3-d8d62f0731e2"
      },
      "execution_count": 57,
      "outputs": [
        {
          "output_type": "stream",
          "name": "stdout",
          "text": [
            "{'name': 'chetan', 'age': 20, 'grade': 'A'}\n"
          ]
        }
      ]
    },
    {
      "cell_type": "code",
      "source": [
        "student[\"age\"]=21 ## update value for the key\n",
        "print(student)\n",
        "student[\"address\"]=\"india\" ##added a new key and value\n",
        "print(student)"
      ],
      "metadata": {
        "colab": {
          "base_uri": "https://localhost:8080/"
        },
        "id": "rvpBDLNEdOiz",
        "outputId": "ce284299-6a23-4ad7-9502-3fab9d27652e"
      },
      "execution_count": 58,
      "outputs": [
        {
          "output_type": "stream",
          "name": "stdout",
          "text": [
            "{'name': 'chetan', 'age': 21, 'grade': 'A'}\n",
            "{'name': 'chetan', 'age': 21, 'grade': 'A', 'address': 'india'}\n"
          ]
        }
      ]
    },
    {
      "cell_type": "code",
      "source": [
        "del student['grade'] ## delete key and value pair\n",
        "print(student)"
      ],
      "metadata": {
        "colab": {
          "base_uri": "https://localhost:8080/"
        },
        "id": "laW_vQbodpri",
        "outputId": "0de40c67-a9fd-4434-a63a-5ae89ee5abc3"
      },
      "execution_count": 59,
      "outputs": [
        {
          "output_type": "stream",
          "name": "stdout",
          "text": [
            "{'name': 'chetan', 'age': 21, 'address': 'india'}\n"
          ]
        }
      ]
    },
    {
      "cell_type": "code",
      "source": [
        "## dictionary methods\n",
        "\n",
        "keys=student.keys() ## get all the keys\n",
        "print(keys)\n",
        "values=student.values() ## get all the values\n",
        "print(values)\n",
        "items=student.items() ## get all the key value pair\n",
        "print(items)"
      ],
      "metadata": {
        "colab": {
          "base_uri": "https://localhost:8080/"
        },
        "id": "hrszxTYkeQP5",
        "outputId": "46dbe4df-bd65-4691-e1c7-ad7672618fb3"
      },
      "execution_count": 60,
      "outputs": [
        {
          "output_type": "stream",
          "name": "stdout",
          "text": [
            "dict_keys(['name', 'age', 'address'])\n",
            "dict_values(['chetan', 21, 'india'])\n",
            "dict_items([('name', 'chetan'), ('age', 21), ('address', 'india')])\n"
          ]
        }
      ]
    },
    {
      "cell_type": "code",
      "source": [
        "## sahllow copy\n",
        "student_copy=student\n",
        "print(student)\n",
        "print(student_copy)"
      ],
      "metadata": {
        "colab": {
          "base_uri": "https://localhost:8080/"
        },
        "id": "yJJht7fJf8Gz",
        "outputId": "aa76fbff-5a0a-4af4-eb97-5eb65fd3735a"
      },
      "execution_count": 61,
      "outputs": [
        {
          "output_type": "stream",
          "name": "stdout",
          "text": [
            "{'name': 'chetan', 'age': 21, 'address': 'india'}\n",
            "{'name': 'chetan', 'age': 21, 'address': 'india'}\n"
          ]
        }
      ]
    },
    {
      "cell_type": "code",
      "source": [
        "student_copy1=student.copy() ## shallow copy\n",
        "print(student_copy1)\n",
        "print(student)"
      ],
      "metadata": {
        "colab": {
          "base_uri": "https://localhost:8080/"
        },
        "id": "MG-tIWgVhWG-",
        "outputId": "a736baa7-d4e1-47c0-e682-7fdf9d2bd217"
      },
      "execution_count": 62,
      "outputs": [
        {
          "output_type": "stream",
          "name": "stdout",
          "text": [
            "{'name': 'chetan', 'age': 21, 'address': 'india'}\n",
            "{'name': 'chetan', 'age': 21, 'address': 'india'}\n"
          ]
        }
      ]
    },
    {
      "cell_type": "code",
      "source": [
        "student[\"name\"]=\"chetan2\"\n",
        "print(student_copy1)\n",
        "print(student)\n"
      ],
      "metadata": {
        "colab": {
          "base_uri": "https://localhost:8080/"
        },
        "id": "4ge7_X-8iSv6",
        "outputId": "9ff30655-1026-4384-cd34-a08243f47426"
      },
      "execution_count": 63,
      "outputs": [
        {
          "output_type": "stream",
          "name": "stdout",
          "text": [
            "{'name': 'chetan', 'age': 21, 'address': 'india'}\n",
            "{'name': 'chetan2', 'age': 21, 'address': 'india'}\n"
          ]
        }
      ]
    },
    {
      "cell_type": "code",
      "source": [
        "## iterating over dictionaries\n",
        "## you can use loops to iterate over dictionaries ,keys,values,or items\n",
        "\n",
        "## iterating over keys\n",
        "for keys in student.keys():\n",
        "  print(keys)"
      ],
      "metadata": {
        "colab": {
          "base_uri": "https://localhost:8080/"
        },
        "id": "4tbkIqfbioex",
        "outputId": "4dc5ecde-f555-4781-a856-b61567b30733"
      },
      "execution_count": 64,
      "outputs": [
        {
          "output_type": "stream",
          "name": "stdout",
          "text": [
            "name\n",
            "age\n",
            "address\n"
          ]
        }
      ]
    },
    {
      "cell_type": "code",
      "source": [
        "## iterate over values\n",
        "for value in student.values():\n",
        "  print(value)"
      ],
      "metadata": {
        "colab": {
          "base_uri": "https://localhost:8080/"
        },
        "id": "pxZOMRI-jwdh",
        "outputId": "529c6f20-6a6c-46b4-9ace-0a98ae3e41ca"
      },
      "execution_count": 65,
      "outputs": [
        {
          "output_type": "stream",
          "name": "stdout",
          "text": [
            "chetan2\n",
            "21\n",
            "india\n"
          ]
        }
      ]
    },
    {
      "cell_type": "code",
      "source": [
        "## iterate over key value pairs\n",
        "for key,value in student.items():\n",
        "  print(f\"{key}:{value}\")"
      ],
      "metadata": {
        "colab": {
          "base_uri": "https://localhost:8080/"
        },
        "id": "ZU9axn2xkD29",
        "outputId": "d2aee8d2-1336-451f-f2da-9d94bdefd5b4"
      },
      "execution_count": 66,
      "outputs": [
        {
          "output_type": "stream",
          "name": "stdout",
          "text": [
            "name:chetan2\n",
            "age:21\n",
            "address:india\n"
          ]
        }
      ]
    },
    {
      "cell_type": "code",
      "source": [
        "## nested dictionaries\n",
        "students={\n",
        "    \"student1\":{\"name\":\"chetan\",\"age\":20},\n",
        "    \"student2\":{\"name\":\"naruto\",\"age\":21}\n",
        "}\n",
        "print(students)"
      ],
      "metadata": {
        "colab": {
          "base_uri": "https://localhost:8080/"
        },
        "id": "7plGJ1mSkwW4",
        "outputId": "025b90ab-c059-4f40-8ffb-e5592591682f"
      },
      "execution_count": 67,
      "outputs": [
        {
          "output_type": "stream",
          "name": "stdout",
          "text": [
            "{'student1': {'name': 'chetan', 'age': 20}, 'student2': {'name': 'naruto', 'age': 21}}\n"
          ]
        }
      ]
    },
    {
      "cell_type": "code",
      "source": [
        "## access nested dictionaries elements\n",
        "print(students[\"student2\"][\"name\"])\n",
        "print(students[\"student2\"][\"age\"])"
      ],
      "metadata": {
        "colab": {
          "base_uri": "https://localhost:8080/"
        },
        "id": "Ako6O7jxldlf",
        "outputId": "b02ee9e7-339e-4482-fb79-faba9434b7f4"
      },
      "execution_count": 68,
      "outputs": [
        {
          "output_type": "stream",
          "name": "stdout",
          "text": [
            "naruto\n",
            "21\n"
          ]
        }
      ]
    },
    {
      "cell_type": "code",
      "source": [
        "## iterating over nested dictionaries\n",
        "for student_id,student_info in students.items():\n",
        "  print(f\"{student_id}:{student_info}\")\n",
        "  for key,value in student_info.items():\n",
        "    print(f\"{key}:{value}\")"
      ],
      "metadata": {
        "colab": {
          "base_uri": "https://localhost:8080/"
        },
        "id": "WktoEl9XmD-u",
        "outputId": "4f344677-fae4-47b7-d6a5-653997aeef53"
      },
      "execution_count": 69,
      "outputs": [
        {
          "output_type": "stream",
          "name": "stdout",
          "text": [
            "student1:{'name': 'chetan', 'age': 20}\n",
            "name:chetan\n",
            "age:20\n",
            "student2:{'name': 'naruto', 'age': 21}\n",
            "name:naruto\n",
            "age:21\n"
          ]
        }
      ]
    },
    {
      "cell_type": "code",
      "source": [
        "## dictionary comphrehension\n",
        "squares={x:x**2 for x  in range (5)}\n",
        "print(squares)"
      ],
      "metadata": {
        "colab": {
          "base_uri": "https://localhost:8080/"
        },
        "id": "2f3anvjWpKIQ",
        "outputId": "27ff1eba-e635-4dee-b113-4211c71704ae"
      },
      "execution_count": 70,
      "outputs": [
        {
          "output_type": "stream",
          "name": "stdout",
          "text": [
            "{0: 0, 1: 1, 2: 4, 3: 9, 4: 16}\n"
          ]
        }
      ]
    },
    {
      "cell_type": "code",
      "source": [
        "## condition dictionary comprehension\n",
        "evens={x:x**2 for x in range(10) if x%2==0}\n",
        "print(evens)"
      ],
      "metadata": {
        "colab": {
          "base_uri": "https://localhost:8080/"
        },
        "id": "-_EKTxUtuYoF",
        "outputId": "487e6ec0-e7ea-44ab-812f-159ebe34080b"
      },
      "execution_count": 71,
      "outputs": [
        {
          "output_type": "stream",
          "name": "stdout",
          "text": [
            "{0: 0, 2: 4, 4: 16, 6: 36, 8: 64}\n"
          ]
        }
      ]
    },
    {
      "cell_type": "code",
      "source": [
        "## practical examples\n",
        "\n",
        "## use a dictionary to count the frequency of elements in list\n",
        "\n",
        "numbers=[1,2,2,3,3,3,4,4,4,4]\n",
        "frequency={}\n",
        "\n",
        "for number in numbers:\n",
        "  if number in frequency:\n",
        "    frequency[number]+=1\n",
        "  else:\n",
        "      frequency[number]=1\n",
        "print(frequency)"
      ],
      "metadata": {
        "colab": {
          "base_uri": "https://localhost:8080/"
        },
        "id": "jTlwzBOgu5Aw",
        "outputId": "a4df5018-e824-42fe-a216-1fa2daaedca3"
      },
      "execution_count": 72,
      "outputs": [
        {
          "output_type": "stream",
          "name": "stdout",
          "text": [
            "{1: 1, 2: 2, 3: 3, 4: 4}\n"
          ]
        }
      ]
    },
    {
      "cell_type": "code",
      "source": [
        "## merge 2 dictionaries into one\n",
        "\n",
        "dict1={\"a\":1,\"b\":2}\n",
        "dict2={\"c\":3,\"d\":4}\n",
        "merged_dict={**dict1,**dict2}\n",
        "print(merged_dict)"
      ],
      "metadata": {
        "colab": {
          "base_uri": "https://localhost:8080/"
        },
        "id": "sq3rYyeAwP9_",
        "outputId": "25c5eb69-214b-4a26-f8c1-3ea6cd7aab7c"
      },
      "execution_count": 73,
      "outputs": [
        {
          "output_type": "stream",
          "name": "stdout",
          "text": [
            "{'a': 1, 'b': 2, 'c': 3, 'd': 4}\n"
          ]
        }
      ]
    }
  ]
}