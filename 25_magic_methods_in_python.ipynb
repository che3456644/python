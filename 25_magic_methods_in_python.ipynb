{
  "nbformat": 4,
  "nbformat_minor": 0,
  "metadata": {
    "colab": {
      "provenance": []
    },
    "kernelspec": {
      "name": "python3",
      "display_name": "Python 3"
    },
    "language_info": {
      "name": "python"
    }
  },
  "cells": [
    {
      "cell_type": "markdown",
      "source": [
        "# Magic methods\n",
        "Magic methods in pyton, also known as dunder methods (double underscore methods),are special methods that start and end with double underscores. these enable you to define the behaviour of objects for built-in operations,such as arithmetic operations,comparisons,and more"
      ],
      "metadata": {
        "id": "9pE7oMrfHLia"
      }
    },
    {
      "cell_type": "markdown",
      "source": [
        "# Magic methods\n",
        "magic methods are predefined methods in python thaat you can override to change the behavior of your objects.some common magic methods include.\n",
        "\n"
      ],
      "metadata": {
        "id": "paiTZKL7H3wo"
      }
    },
    {
      "cell_type": "code",
      "source": [
        "\"\"\"\n",
        "__init__: initializes a new instance of a class.\n",
        "__str__: returns a string representation of an object.\n",
        "__repr__: returns an official string representation of an object.\n",
        "__len__: returns the length of an object.\n",
        "__getitem__: gets an item from a container.\n",
        "__setitem__: sets an item in a container.\n",
        "\n",
        "\"\"\""
      ],
      "metadata": {
        "id": "AhU2R27KJySS"
      },
      "execution_count": null,
      "outputs": []
    },
    {
      "cell_type": "code",
      "source": [
        "## basic methods\n",
        "class person:\n",
        "  def __init__(self,name,age):\n",
        "    self.name=name\n",
        "    self.age=age\n",
        "\n",
        "person1=person(\"chetan\",21)\n",
        "print(person1)"
      ],
      "metadata": {
        "colab": {
          "base_uri": "https://localhost:8080/"
        },
        "id": "NKuBHkj7KhQ3",
        "outputId": "07a169b7-eb62-4a67-f68a-0e33a3dd0654"
      },
      "execution_count": 6,
      "outputs": [
        {
          "output_type": "stream",
          "name": "stdout",
          "text": [
            "<__main__.person object at 0x7f1888245090>\n"
          ]
        }
      ]
    },
    {
      "cell_type": "code",
      "source": [
        "## basic methods\n",
        "class person:\n",
        "  def __init__(self,name,age):\n",
        "    self.name=name\n",
        "    self.age=age\n",
        "\n",
        "  def __str__(self):\n",
        "    return f\"{self.name},{self.age} years old\"\n",
        "\n",
        "  def __repr__(self):\n",
        "    return f\"person(name={self.name},age={self.age})\"\n",
        "\n",
        "person1=person(\"chetan\",21)\n",
        "print(person1)\n",
        "print(repr(person1))"
      ],
      "metadata": {
        "colab": {
          "base_uri": "https://localhost:8080/"
        },
        "id": "VSS2OzCEKsHO",
        "outputId": "0f229ff3-7e96-4690-c4eb-1636a5581e27"
      },
      "execution_count": 12,
      "outputs": [
        {
          "output_type": "stream",
          "name": "stdout",
          "text": [
            "chetan,21 years old\n",
            "person(name=chetan,age=21)\n"
          ]
        }
      ]
    }
  ]
}