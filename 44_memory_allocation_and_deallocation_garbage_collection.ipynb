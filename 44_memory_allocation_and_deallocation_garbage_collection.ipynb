{
  "nbformat": 4,
  "nbformat_minor": 0,
  "metadata": {
    "colab": {
      "provenance": []
    },
    "kernelspec": {
      "name": "python3",
      "display_name": "Python 3"
    },
    "language_info": {
      "name": "python"
    }
  },
  "cells": [
    {
      "cell_type": "markdown",
      "source": [
        "# Python memory management\n",
        "Memory management in python involves a combination of automatic garbage collection, referece counting and various internal optimizations to efficiently manage memory allocation and deallocation. understanding these mechanism can help developers write more efficient and robust applications.\n",
        "\n",
        "\n",
        "\n",
        "1.   key concepts in python memory management\n",
        "\n",
        "2.   memory allocation and deallocation\n",
        "\n",
        "3.   reference counting\n",
        "4.   garbage collection\n",
        "\n",
        "\n",
        "5.   the gc module\n",
        "\n",
        "\n",
        "6.   memory management best practices\n",
        "\n"
      ],
      "metadata": {
        "id": "Edsg10aW3MS8"
      }
    },
    {
      "cell_type": "markdown",
      "source": [
        "# Reference counting\n",
        "reference counting is the primary method python uses to manage memory. each object in python maintains a count of references pointing to it. when the refernce count drops to zero, the memory occupied by the boject is deallocated"
      ],
      "metadata": {
        "id": "9Ow3RVoc4yLH"
      }
    },
    {
      "cell_type": "code",
      "source": [
        "import sys\n",
        "\n",
        "a=[]\n",
        "## 2 (one reference from \"a\" and one from getrefcount())\n",
        "print(sys.getrefcount(a))"
      ],
      "metadata": {
        "colab": {
          "base_uri": "https://localhost:8080/"
        },
        "id": "un171umh5NJf",
        "outputId": "2d329651-e25b-42cd-ea2a-d9158abfeacd"
      },
      "execution_count": 1,
      "outputs": [
        {
          "output_type": "stream",
          "name": "stdout",
          "text": [
            "2\n"
          ]
        }
      ]
    },
    {
      "cell_type": "code",
      "source": [
        "b=a\n",
        "print(sys.getrefcount(b))"
      ],
      "metadata": {
        "colab": {
          "base_uri": "https://localhost:8080/"
        },
        "id": "FnofyNyf5f55",
        "outputId": "622aeb56-7b60-4e04-9547-fb65d281ca5d"
      },
      "execution_count": 6,
      "outputs": [
        {
          "output_type": "stream",
          "name": "stdout",
          "text": [
            "5\n"
          ]
        }
      ]
    },
    {
      "cell_type": "code",
      "source": [
        "del b\n",
        "print(sys.getrefcount(a))"
      ],
      "metadata": {
        "colab": {
          "base_uri": "https://localhost:8080/"
        },
        "id": "dT6_70j758LZ",
        "outputId": "fb4e3795-3ced-4674-b5be-cce804d51f93"
      },
      "execution_count": 7,
      "outputs": [
        {
          "output_type": "stream",
          "name": "stdout",
          "text": [
            "4\n"
          ]
        }
      ]
    },
    {
      "cell_type": "markdown",
      "source": [
        "# Garbage collection\n",
        "python includes a cyclic garbage collector to handle reference cycles. reference cycles occur when objects reference each other, preventing their reference counts form reaching zero"
      ],
      "metadata": {
        "id": "Q_IFeLow6m6A"
      }
    },
    {
      "cell_type": "code",
      "source": [
        "import gc\n",
        "## enable garbage collection\n",
        "gc.enable()"
      ],
      "metadata": {
        "id": "FALgEaVF6YGi"
      },
      "execution_count": 8,
      "outputs": []
    },
    {
      "cell_type": "code",
      "source": [
        "## disable garbage collection\n",
        "gc.disable()"
      ],
      "metadata": {
        "id": "YiC5J7Bg7Swi"
      },
      "execution_count": 9,
      "outputs": []
    },
    {
      "cell_type": "code",
      "source": [
        "gc.collect()"
      ],
      "metadata": {
        "colab": {
          "base_uri": "https://localhost:8080/"
        },
        "id": "wKQvNyK97bYF",
        "outputId": "c8a3116f-19ef-4dfd-aa1f-98209e0f1bee"
      },
      "execution_count": 10,
      "outputs": [
        {
          "output_type": "execute_result",
          "data": {
            "text/plain": [
              "926"
            ]
          },
          "metadata": {},
          "execution_count": 10
        }
      ]
    },
    {
      "cell_type": "code",
      "source": [
        "## get garbage collection stats\n",
        "print(gc.get_stats())"
      ],
      "metadata": {
        "colab": {
          "base_uri": "https://localhost:8080/"
        },
        "id": "T3SyIIcs7eEz",
        "outputId": "92208146-c3e4-4550-f841-25f35b41eb82"
      },
      "execution_count": 11,
      "outputs": [
        {
          "output_type": "stream",
          "name": "stdout",
          "text": [
            "[{'collections': 491, 'collected': 8791, 'uncollectable': 0}, {'collections': 44, 'collected': 1252, 'uncollectable': 0}, {'collections': 5, 'collected': 1222, 'uncollectable': 0}]\n"
          ]
        }
      ]
    },
    {
      "cell_type": "code",
      "source": [
        "## get unreachable objects\n",
        "print(gc.garbage)"
      ],
      "metadata": {
        "colab": {
          "base_uri": "https://localhost:8080/"
        },
        "id": "Zhxa6xV_7we_",
        "outputId": "73656325-a16c-47ed-f98c-22e45a179174"
      },
      "execution_count": 12,
      "outputs": [
        {
          "output_type": "stream",
          "name": "stdout",
          "text": [
            "[]\n"
          ]
        }
      ]
    },
    {
      "cell_type": "markdown",
      "source": [
        "# Memory management best practices\n",
        "1. use local variables: local variables have a shorter lifespan and are freed sooner than global variables.\n",
        "2. avoid corcular references: circular references can lead to memory leaks if not properly managed.\n",
        "3. use generators: generators produce items one at a time and only keep one item in memory at a time, making them memory efficient.\n",
        "4. explicitly delete objects: use the del statement to delete variables and objects explicitly.\n",
        "5. profile memory usage: use memory profiling tools like tracemalloc and memory_profiler to identify memory leaks and optimize memory usage."
      ],
      "metadata": {
        "id": "B4smPMy58vBC"
      }
    },
    {
      "cell_type": "code",
      "source": [
        "## handling circular reference\n",
        "import gc\n",
        "\n",
        "class MyObject:\n",
        "  def __init__(self,name):\n",
        "    self.name = name\n",
        "    print(f\"object {self.name} created\")\n",
        "\n",
        "  def __del__(self):\n",
        "    print(f\"object {self.name} deleted\")\n",
        "\n",
        "# create circular reference\n",
        "obj1 = MyObject(\"obj1\")\n",
        "obj2 = MyObject(\"obj2\")\n",
        "obj1.ref = obj2\n",
        "obj2.ref = obj1\n",
        "\n",
        "del obj1\n",
        "del obj2\n",
        "\n",
        "# manually trigger the garbage collection\n",
        "gc.collect()"
      ],
      "metadata": {
        "colab": {
          "base_uri": "https://localhost:8080/"
        },
        "id": "bLbFlahl90Y5",
        "outputId": "c70303e5-4745-41e7-c009-644ce1b70296"
      },
      "execution_count": 19,
      "outputs": [
        {
          "output_type": "stream",
          "name": "stdout",
          "text": [
            "object obj1 created\n",
            "object obj2 created\n",
            "object obj1 deleted\n",
            "object obj2 deleted\n"
          ]
        },
        {
          "output_type": "execute_result",
          "data": {
            "text/plain": [
              "11"
            ]
          },
          "metadata": {},
          "execution_count": 19
        }
      ]
    },
    {
      "cell_type": "code",
      "source": [
        "##  GENERATORS FOR MEMORY EFFICIENCY\n",
        "\n",
        "def generate_numbers(n):\n",
        "  for i in range (n):\n",
        "    yield i\n",
        "\n",
        "## using the genrator\n",
        "\n",
        "for num in generate_numbers(100000):\n",
        "  print(num)\n",
        "  if num>10:\n",
        "    break"
      ],
      "metadata": {
        "colab": {
          "base_uri": "https://localhost:8080/"
        },
        "id": "2PnZUzO6HaQm",
        "outputId": "5e02aa56-5227-467d-d8a4-dd5a2760f587"
      },
      "execution_count": 20,
      "outputs": [
        {
          "output_type": "stream",
          "name": "stdout",
          "text": [
            "0\n",
            "1\n",
            "2\n",
            "3\n",
            "4\n",
            "5\n",
            "6\n",
            "7\n",
            "8\n",
            "9\n",
            "10\n",
            "11\n"
          ]
        }
      ]
    },
    {
      "cell_type": "code",
      "source": [
        "# profiling memory usage with tracemalloc\n",
        "import tracemalloc\n",
        "\n",
        "def create_list():\n",
        "  return [i for i in range(10000)]\n",
        "\n",
        "def main():\n",
        "  tracemalloc.start()\n",
        "\n",
        "  create_list()\n",
        "\n",
        "  snapshot = tracemalloc.take_snapshot()\n",
        "  top_stats = snapshot.statistics('lineno')\n",
        "\n",
        "  print(\"[top 10]\")\n",
        "  for stat in top_stats[::]:\n",
        "    print(stat)"
      ],
      "metadata": {
        "id": "kPdh1e9wJQ7V"
      },
      "execution_count": 21,
      "outputs": []
    },
    {
      "cell_type": "code",
      "source": [
        "main()"
      ],
      "metadata": {
        "colab": {
          "base_uri": "https://localhost:8080/"
        },
        "id": "dz4QKHEFKWxo",
        "outputId": "25cf8943-6fe9-4573-f98e-83a80757bc93"
      },
      "execution_count": 22,
      "outputs": [
        {
          "output_type": "stream",
          "name": "stdout",
          "text": [
            "[top 10]\n",
            "/usr/local/lib/python3.10/dist-packages/ipykernel/iostream.py:220: size=256 B, count=3, average=85 B\n",
            "/usr/local/lib/python3.10/dist-packages/ipykernel/iostream.py:212: size=256 B, count=3, average=85 B\n",
            "/usr/local/lib/python3.10/dist-packages/zmq/sugar/socket.py:674: size=96 B, count=2, average=48 B\n",
            "/usr/lib/python3.10/asyncio/events.py:80: size=72 B, count=1, average=72 B\n",
            "/usr/local/lib/python3.10/dist-packages/zmq/sugar/socket.py:675: size=64 B, count=1, average=64 B\n",
            "/usr/local/lib/python3.10/dist-packages/zmq/sugar/socket.py:620: size=64 B, count=1, average=64 B\n",
            "/usr/local/lib/python3.10/dist-packages/zmq/sugar/attrsettr.py:44: size=55 B, count=1, average=55 B\n",
            "/usr/local/lib/python3.10/dist-packages/ipykernel/iostream.py:116: size=48 B, count=1, average=48 B\n",
            "/usr/lib/python3.10/asyncio/base_events.py:1893: size=48 B, count=1, average=48 B\n",
            "/usr/local/lib/python3.10/dist-packages/zmq/sugar/socket.py:729: size=8 B, count=1, average=8 B\n"
          ]
        }
      ]
    }
  ]
}