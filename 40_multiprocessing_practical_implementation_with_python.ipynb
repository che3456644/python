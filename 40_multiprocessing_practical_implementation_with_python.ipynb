{
  "nbformat": 4,
  "nbformat_minor": 0,
  "metadata": {
    "colab": {
      "provenance": []
    },
    "kernelspec": {
      "name": "python3",
      "display_name": "Python 3"
    },
    "language_info": {
      "name": "python"
    }
  },
  "cells": [
    {
      "cell_type": "code",
      "execution_count": 5,
      "metadata": {
        "colab": {
          "base_uri": "https://localhost:8080/"
        },
        "id": "F2VAK87JRdl5",
        "outputId": "f92b3507-657a-45a7-df79-330b2b4b9da8"
      },
      "outputs": [
        {
          "output_type": "stream",
          "name": "stdout",
          "text": [
            "square : 0\n",
            "cube : 0\n",
            "square : 1\n",
            "cube : 1\n",
            "square : 4\n",
            "cube : 8\n",
            "square : 9\n",
            "cube : 27\n",
            "square : 16\n",
            "cube : 64\n",
            "1723981651.6880617\n"
          ]
        }
      ],
      "source": [
        "## multiprocessing that run in parallel\n",
        "## CPU-BOUND tasks - tasks that are heavy on cpu usage\n",
        "## parallel execution - muliple cores of the cpu\n",
        "\n",
        "import multiprocessing\n",
        "import time\n",
        "\n",
        "def square_numbers():\n",
        "  for i in range(5):\n",
        "    time.sleep(1)\n",
        "    print(f\"square : {i*i}\")\n",
        "\n",
        "def cube_numbers():\n",
        "  for i in range(5):\n",
        "    time.sleep(1.1)\n",
        "    print(f\"cube : {i*i*i}\")\n",
        "\n",
        "if __name__==\"__main__\":\n",
        "\n",
        "  ## create 2 processes\n",
        "  p1=multiprocessing.Process(target=square_numbers)\n",
        "  p2=multiprocessing.Process(target=cube_numbers)\n",
        "\n",
        "  ## start the process\n",
        "  p1.start()\n",
        "  p2.start()\n",
        "\n",
        "  ## wait for the process to complete\n",
        "  p1.join()\n",
        "  p2.join()\n",
        "\n",
        "  finished_time=time.time()\n",
        "  print(finished_time)"
      ]
    }
  ]
}