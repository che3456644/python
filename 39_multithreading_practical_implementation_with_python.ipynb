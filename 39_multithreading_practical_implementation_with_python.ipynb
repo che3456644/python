{
  "nbformat": 4,
  "nbformat_minor": 0,
  "metadata": {
    "colab": {
      "provenance": []
    },
    "kernelspec": {
      "name": "python3",
      "display_name": "Python 3"
    },
    "language_info": {
      "name": "python"
    }
  },
  "cells": [
    {
      "cell_type": "code",
      "execution_count": 1,
      "metadata": {
        "id": "tnrGq3rzR7Dc",
        "colab": {
          "base_uri": "https://localhost:8080/"
        },
        "outputId": "e979ecf0-7e6c-4ec7-cfd5-9be0337e0fc4"
      },
      "outputs": [
        {
          "output_type": "stream",
          "name": "stdout",
          "text": [
            "number:0\n",
            "letter : a\n",
            "number:1\n",
            "letter : b\n",
            "number:2\n",
            "letter : c\n",
            "number:3\n",
            "letter : d\n",
            "number:4\n",
            "letter : e\n",
            "10.012708187103271\n"
          ]
        }
      ],
      "source": [
        "## multithreading\n",
        "## when to use multi threading\n",
        "## i/o - bound tasks: tasks that spend more time waiting for I/O operations\n",
        "### concurrent execution: when you want to imporve the throughput of your application by performing multiple operations concurrently.\n",
        "\n",
        "import threading\n",
        "import time\n",
        "\n",
        "def print_numbers():\n",
        "  for i in range(5):\n",
        "    time.sleep(2)\n",
        "    print(f\"number:{i}\")\n",
        "\n",
        "\n",
        "def print_letters():\n",
        "  for letter in \"abcde\":\n",
        "    time.sleep(2)\n",
        "    print(f\"letter : {letter}\")\n",
        "\n",
        "## create 2 threads\n",
        "t1=threading.Thread(target=print_numbers)\n",
        "t2=threading.Thread(target=print_letters)\n",
        "\n",
        "\n",
        "t=time.time()\n",
        "## start the thread\n",
        "t1.start()\n",
        "t2.start()\n",
        "\n",
        "## wait for the threads to complete\n",
        "t1.join()\n",
        "t2.join()\n",
        "finished_time=time.time()-t\n",
        "print(finished_time)\n"
      ]
    },
    {
      "cell_type": "code",
      "source": [],
      "metadata": {
        "id": "LoPvtjKvPZE-"
      },
      "execution_count": null,
      "outputs": []
    }
  ]
}