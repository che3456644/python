{
  "nbformat": 4,
  "nbformat_minor": 0,
  "metadata": {
    "colab": {
      "provenance": []
    },
    "kernelspec": {
      "name": "python3",
      "display_name": "Python 3"
    },
    "language_info": {
      "name": "python"
    }
  },
  "cells": [
    {
      "cell_type": "markdown",
      "source": [
        "# Encapsulation and abstraction\n",
        "Encapsulation and abstraction are two fundamental priciples of object-oriented programming (oop) that help in designing robust, maintainable, and reusable code. encapsulation involves bundling data and methods that operate on the data within a single unit, while abstraction involves hiding complex implementations detail and exposing only the necessary features."
      ],
      "metadata": {
        "id": "2MDA9H2QBiOk"
      }
    },
    {
      "cell_type": "markdown",
      "source": [
        "# ENCAPSULATION\n",
        "Encapsulation is the concept of wrapping data (variables) and methods (functions) together as a single unit. it restricts direct access to some of the objects components, which is a means of preventing accidental interfence and misuse of the data"
      ],
      "metadata": {
        "id": "O0eIUGdkCp4b"
      }
    },
    {
      "cell_type": "code",
      "source": [
        "## encapsulation with getter and setter methods\n",
        "## public,protected,private variables\n",
        "\n",
        "class person:\n",
        "  def __init__(self,name,age):\n",
        "    self.name=name  ## public variables\n",
        "    self.age=age    ## public variables\n",
        "\n",
        "person1=person(\"chetan\",21)\n",
        "print(person1.name)"
      ],
      "metadata": {
        "colab": {
          "base_uri": "https://localhost:8080/"
        },
        "id": "x-moKApPDP4o",
        "outputId": "ab8bc0a4-b56c-4ab0-880a-ef2ac1630e0d"
      },
      "execution_count": 4,
      "outputs": [
        {
          "output_type": "stream",
          "name": "stdout",
          "text": [
            "chetan\n"
          ]
        }
      ]
    },
    {
      "cell_type": "code",
      "source": [
        "class person:\n",
        "  def __init__(self,name,age,gender):\n",
        "    self.__name=name  ## private variables\n",
        "    self.__age=age    ## private variables\n",
        "    self.gender=gender\n",
        "\n",
        "def get_name(person):\n",
        "    return person.__name  ## because name is private variable it can not access\n",
        "\n",
        "person1=person(\"chetan\",21,\"male\")\n",
        "get_name(person1)\n"
      ],
      "metadata": {
        "colab": {
          "base_uri": "https://localhost:8080/",
          "height": 315
        },
        "id": "bvRqXl4xERfV",
        "outputId": "cb6e7376-76b4-4004-fafe-a4cf51fcbecf"
      },
      "execution_count": 30,
      "outputs": [
        {
          "output_type": "error",
          "ename": "AttributeError",
          "evalue": "'person' object has no attribute '__name'",
          "traceback": [
            "\u001b[0;31m---------------------------------------------------------------------------\u001b[0m",
            "\u001b[0;31mAttributeError\u001b[0m                            Traceback (most recent call last)",
            "\u001b[0;32m<ipython-input-30-a0c457956710>\u001b[0m in \u001b[0;36m<cell line: 11>\u001b[0;34m()\u001b[0m\n\u001b[1;32m      9\u001b[0m \u001b[0;34m\u001b[0m\u001b[0m\n\u001b[1;32m     10\u001b[0m \u001b[0mperson1\u001b[0m\u001b[0;34m=\u001b[0m\u001b[0mperson\u001b[0m\u001b[0;34m(\u001b[0m\u001b[0;34m\"chetan\"\u001b[0m\u001b[0;34m,\u001b[0m\u001b[0;36m21\u001b[0m\u001b[0;34m,\u001b[0m\u001b[0;34m\"male\"\u001b[0m\u001b[0;34m)\u001b[0m\u001b[0;34m\u001b[0m\u001b[0;34m\u001b[0m\u001b[0m\n\u001b[0;32m---> 11\u001b[0;31m \u001b[0mget_name\u001b[0m\u001b[0;34m(\u001b[0m\u001b[0mperson1\u001b[0m\u001b[0;34m)\u001b[0m\u001b[0;34m\u001b[0m\u001b[0;34m\u001b[0m\u001b[0m\n\u001b[0m",
            "\u001b[0;32m<ipython-input-30-a0c457956710>\u001b[0m in \u001b[0;36mget_name\u001b[0;34m(person)\u001b[0m\n\u001b[1;32m      6\u001b[0m \u001b[0;34m\u001b[0m\u001b[0m\n\u001b[1;32m      7\u001b[0m \u001b[0;32mdef\u001b[0m \u001b[0mget_name\u001b[0m\u001b[0;34m(\u001b[0m\u001b[0mperson\u001b[0m\u001b[0;34m)\u001b[0m\u001b[0;34m:\u001b[0m\u001b[0;34m\u001b[0m\u001b[0;34m\u001b[0m\u001b[0m\n\u001b[0;32m----> 8\u001b[0;31m     \u001b[0;32mreturn\u001b[0m \u001b[0mperson\u001b[0m\u001b[0;34m.\u001b[0m\u001b[0m__name\u001b[0m  \u001b[0;31m## because name is private variable it can not access\u001b[0m\u001b[0;34m\u001b[0m\u001b[0;34m\u001b[0m\u001b[0m\n\u001b[0m\u001b[1;32m      9\u001b[0m \u001b[0;34m\u001b[0m\u001b[0m\n\u001b[1;32m     10\u001b[0m \u001b[0mperson1\u001b[0m\u001b[0;34m=\u001b[0m\u001b[0mperson\u001b[0m\u001b[0;34m(\u001b[0m\u001b[0;34m\"chetan\"\u001b[0m\u001b[0;34m,\u001b[0m\u001b[0;36m21\u001b[0m\u001b[0;34m,\u001b[0m\u001b[0;34m\"male\"\u001b[0m\u001b[0;34m)\u001b[0m\u001b[0;34m\u001b[0m\u001b[0;34m\u001b[0m\u001b[0m\n",
            "\u001b[0;31mAttributeError\u001b[0m: 'person' object has no attribute '__name'"
          ]
        }
      ]
    },
    {
      "cell_type": "code",
      "source": [
        "class person:\n",
        "  def __init__(self,name,age,gender):\n",
        "    self._name=name  ## private variables\n",
        "    self._age=age    ## private variables\n",
        "    self.gender=gender\n",
        "\n",
        "class employee(person):\n",
        "  def __init__(self,name,age,gender):\n",
        "    super().__init__(name,age,gender)\n",
        "\n",
        "employee1=employee(\"chetan\",21,\"male\")\n",
        "print(employee1._name)\n"
      ],
      "metadata": {
        "colab": {
          "base_uri": "https://localhost:8080/"
        },
        "id": "xHiJQZd4Eb6F",
        "outputId": "41e1055f-632c-4956-81b2-59101a87a2a6"
      },
      "execution_count": 32,
      "outputs": [
        {
          "output_type": "stream",
          "name": "stdout",
          "text": [
            "chetan\n"
          ]
        }
      ]
    },
    {
      "cell_type": "code",
      "source": [
        "## encapsulation with getter and setter\n",
        "\n",
        "class person:\n",
        "  def __init__(self,name,age):\n",
        "    self.__name=name ## private access modifier or variable\n",
        "    self.__age=age   ## private variable\n",
        "\n",
        "  ## getter method for name\n",
        "  def get_name(self):\n",
        "    return self.__name\n",
        "\n",
        "  ## setter method for name\n",
        "  def set_name(self,name):\n",
        "    self.__name=name\n",
        "\n",
        "  ## getter method for age\n",
        "  def get_age(self):\n",
        "    return self.__age\n",
        "\n",
        "  ## setter method for age\n",
        "  def set_age(self, age):\n",
        "    if age > 0:\n",
        "      self.__age = age\n",
        "    else:\n",
        "        print(\"age cannot be negative\")\n",
        "\n",
        "person1=person(\"chetan\",20)\n",
        "\n",
        "## access and modify private variables using getter and setter\n",
        "\n",
        "print(person1.get_name())\n",
        "print(person1.get_age())\n",
        "\n",
        "person1.set_age(21)\n",
        "print(person1.get_age())\n",
        "\n",
        "person1.set_age(-5)\n"
      ],
      "metadata": {
        "colab": {
          "base_uri": "https://localhost:8080/"
        },
        "id": "cOXTc_8GIVoF",
        "outputId": "469c57ce-10eb-40c2-c492-47de2979b05c"
      },
      "execution_count": 44,
      "outputs": [
        {
          "output_type": "stream",
          "name": "stdout",
          "text": [
            "chetan\n",
            "20\n",
            "21\n",
            "age cannot be negative\n"
          ]
        }
      ]
    }
  ]
}