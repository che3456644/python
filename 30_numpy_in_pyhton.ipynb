{
  "nbformat": 4,
  "nbformat_minor": 0,
  "metadata": {
    "colab": {
      "provenance": []
    },
    "kernelspec": {
      "name": "python3",
      "display_name": "Python 3"
    },
    "language_info": {
      "name": "python"
    }
  },
  "cells": [
    {
      "cell_type": "markdown",
      "source": [
        "# NumPy\n",
        "NumPy is a fundamental library for scientific computing in python. it provides support for arrays and matrices, along with a collection of mathematical functions to operate on these data structures."
      ],
      "metadata": {
        "id": "v6f6A-MTWKrk"
      }
    },
    {
      "cell_type": "code",
      "source": [
        "import numpy as np\n",
        "\n",
        "## create array using numpy\n",
        "## create a 1D array\n",
        "\n",
        "arr1=np.array([1,2,3,4,5])\n",
        "print(arr1)\n",
        "print(type(arr1))\n",
        "print(arr1.shape)"
      ],
      "metadata": {
        "colab": {
          "base_uri": "https://localhost:8080/"
        },
        "id": "Bdr6WFp9Wl-7",
        "outputId": "c4dff028-a7a9-4913-ce42-eb42f1be43ed"
      },
      "execution_count": 3,
      "outputs": [
        {
          "output_type": "stream",
          "name": "stdout",
          "text": [
            "[1 2 3 4 5]\n",
            "<class 'numpy.ndarray'>\n",
            "(5,)\n"
          ]
        }
      ]
    },
    {
      "cell_type": "code",
      "source": [
        "## 1 d array\n",
        "arr2=np.array([1,2,3,4,5])\n",
        "arr2.reshape(1,5)"
      ],
      "metadata": {
        "colab": {
          "base_uri": "https://localhost:8080/"
        },
        "id": "LUzRBZ2FYTW7",
        "outputId": "5078fd53-012b-4833-e389-915ff7a8f240"
      },
      "execution_count": 5,
      "outputs": [
        {
          "output_type": "execute_result",
          "data": {
            "text/plain": [
              "array([[1, 2, 3, 4, 5]])"
            ]
          },
          "metadata": {},
          "execution_count": 5
        }
      ]
    },
    {
      "cell_type": "code",
      "source": [
        "  arr2=np.array([[1,2,3,4,5]])\n",
        "  arr2.shape"
      ],
      "metadata": {
        "colab": {
          "base_uri": "https://localhost:8080/"
        },
        "id": "EQA3iFr7Ywyw",
        "outputId": "d500efd5-9025-47d5-d8f8-cadb5d507838"
      },
      "execution_count": 7,
      "outputs": [
        {
          "output_type": "execute_result",
          "data": {
            "text/plain": [
              "(1, 5)"
            ]
          },
          "metadata": {},
          "execution_count": 7
        }
      ]
    },
    {
      "cell_type": "code",
      "source": [
        "  ## 2 d array\n",
        "  arr2=np.array([[1,2,3,4,5],[5,6,4,8,9]])\n",
        "  print(arr2)\n",
        "  print(arr2.shape)"
      ],
      "metadata": {
        "colab": {
          "base_uri": "https://localhost:8080/"
        },
        "id": "Mu5PafUxZMdM",
        "outputId": "800eb566-dbcb-4105-c3cc-813f4cfcc529"
      },
      "execution_count": 9,
      "outputs": [
        {
          "output_type": "stream",
          "name": "stdout",
          "text": [
            "[[1 2 3 4 5]\n",
            " [5 6 4 8 9]]\n",
            "(2, 5)\n"
          ]
        }
      ]
    },
    {
      "cell_type": "code",
      "source": [
        "np.arange(0,10,2).reshape(5,1)"
      ],
      "metadata": {
        "colab": {
          "base_uri": "https://localhost:8080/"
        },
        "id": "s62N6v3QZa9u",
        "outputId": "734544cc-789c-47ac-ec98-e798422f5049"
      },
      "execution_count": 12,
      "outputs": [
        {
          "output_type": "execute_result",
          "data": {
            "text/plain": [
              "array([[0],\n",
              "       [2],\n",
              "       [4],\n",
              "       [6],\n",
              "       [8]])"
            ]
          },
          "metadata": {},
          "execution_count": 12
        }
      ]
    },
    {
      "cell_type": "code",
      "source": [
        "np.ones((3,4))"
      ],
      "metadata": {
        "colab": {
          "base_uri": "https://localhost:8080/"
        },
        "id": "2quoJLoRaJ-_",
        "outputId": "ee0fa2b6-c758-42bd-feec-eaed60a5d410"
      },
      "execution_count": 13,
      "outputs": [
        {
          "output_type": "execute_result",
          "data": {
            "text/plain": [
              "array([[1., 1., 1., 1.],\n",
              "       [1., 1., 1., 1.],\n",
              "       [1., 1., 1., 1.]])"
            ]
          },
          "metadata": {},
          "execution_count": 13
        }
      ]
    },
    {
      "cell_type": "code",
      "source": [
        "## identity matrix\n",
        "np.eye(3)"
      ],
      "metadata": {
        "colab": {
          "base_uri": "https://localhost:8080/"
        },
        "id": "h4VZpr-JaYDB",
        "outputId": "d98aa02f-744a-4eca-dac4-de26e1dceb38"
      },
      "execution_count": 14,
      "outputs": [
        {
          "output_type": "execute_result",
          "data": {
            "text/plain": [
              "array([[1., 0., 0.],\n",
              "       [0., 1., 0.],\n",
              "       [0., 0., 1.]])"
            ]
          },
          "metadata": {},
          "execution_count": 14
        }
      ]
    },
    {
      "cell_type": "code",
      "source": [
        "## attribute of numpy array\n",
        "\n",
        "arr =  np.array([[1,2,3],[5,8,9]])\n",
        "\n",
        "print(\"array:\\n\",arr)\n",
        "print(\"shape\",arr.shape)\n",
        "print(\"number of dimensions:\",arr.ndim)\n",
        "print(\"size(number of elements):\",arr.size)\n",
        "print(\"data type:\",arr.dtype)\n",
        "print(\"item size (in bytes):\",arr.itemsize)"
      ],
      "metadata": {
        "colab": {
          "base_uri": "https://localhost:8080/"
        },
        "id": "5n7BeFfrarJd",
        "outputId": "f8f59496-9440-458a-aacb-166b1067c578"
      },
      "execution_count": 16,
      "outputs": [
        {
          "output_type": "stream",
          "name": "stdout",
          "text": [
            "array:\n",
            " [[1 2 3]\n",
            " [5 8 9]]\n",
            "shape (2, 3)\n",
            "number of dimensions: 2\n",
            "size(number of elements): 6\n",
            "data type: int64\n",
            "item size (in bytes): 8\n"
          ]
        }
      ]
    },
    {
      "cell_type": "code",
      "source": [
        "## numpy vectorized operation\n",
        "arr1=np.array([1,2,3,4,5,6])\n",
        "arr2=np.array([100,200,300,400,500,600])\n",
        "\n",
        "## element wise addition\n",
        "print(\"addition:\",arr1+arr2)\n",
        "\n",
        "## element wise substraction\n",
        "print(\"substraction\",arr1-arr2)\n",
        "\n",
        "## element wise multiplication\n",
        "print(\"multiplication\",arr1*arr2)\n",
        "\n",
        "## element wise division\n",
        "print(\"division\",arr1/arr2)"
      ],
      "metadata": {
        "colab": {
          "base_uri": "https://localhost:8080/"
        },
        "id": "nt8DW4kMb3Lu",
        "outputId": "7996164e-967b-4e1a-f249-f8b10fbf8475"
      },
      "execution_count": 20,
      "outputs": [
        {
          "output_type": "stream",
          "name": "stdout",
          "text": [
            "addition: [101 202 303 404 505 606]\n",
            "substraction [ -99 -198 -297 -396 -495 -594]\n",
            "multiplication [ 100  400  900 1600 2500 3600]\n",
            "division [0.01 0.01 0.01 0.01 0.01 0.01]\n"
          ]
        }
      ]
    },
    {
      "cell_type": "code",
      "source": [
        "## universal function\n",
        "\n",
        "arr=np.array([2,3,6,8,10])\n",
        "## square root\n",
        "print(np.sqrt(arr))\n",
        "\n",
        "## exponential\n",
        "print(np.exp(arr))\n",
        "\n",
        "## sine\n",
        "print(np.sin(arr))\n",
        "\n",
        "## natural log\n",
        "print(np.log(arr))"
      ],
      "metadata": {
        "colab": {
          "base_uri": "https://localhost:8080/"
        },
        "id": "BxRrFyj2c0V-",
        "outputId": "b01f5408-db38-40b8-f2a7-46193f2dd1f6"
      },
      "execution_count": 21,
      "outputs": [
        {
          "output_type": "stream",
          "name": "stdout",
          "text": [
            "[1.41421356 1.73205081 2.44948974 2.82842712 3.16227766]\n",
            "[7.38905610e+00 2.00855369e+01 4.03428793e+02 2.98095799e+03\n",
            " 2.20264658e+04]\n",
            "[ 0.90929743  0.14112001 -0.2794155   0.98935825 -0.54402111]\n",
            "[0.69314718 1.09861229 1.79175947 2.07944154 2.30258509]\n"
          ]
        }
      ]
    },
    {
      "cell_type": "code",
      "source": [
        "## array slicing and indexing\n",
        "arr=np.array([[1,2,3,4],[5,6,7,8],[9,10,11,12]])\n",
        "print(\"array : \\n\",arr)"
      ],
      "metadata": {
        "colab": {
          "base_uri": "https://localhost:8080/"
        },
        "id": "dINQhU3XeBgS",
        "outputId": "048c75cc-6d8c-4ed6-a416-d0e8972f9df8"
      },
      "execution_count": 22,
      "outputs": [
        {
          "output_type": "stream",
          "name": "stdout",
          "text": [
            "array : \n",
            " [[ 1  2  3  4]\n",
            " [ 5  6  7  8]\n",
            " [ 9 10 11 12]]\n"
          ]
        }
      ]
    },
    {
      "cell_type": "code",
      "source": [
        "print(arr[1:,1:3])"
      ],
      "metadata": {
        "colab": {
          "base_uri": "https://localhost:8080/"
        },
        "id": "op2ea4sigWTl",
        "outputId": "bbc5befa-cddb-46ce-969a-dae3535173a3"
      },
      "execution_count": 28,
      "outputs": [
        {
          "output_type": "stream",
          "name": "stdout",
          "text": [
            "[[ 6  7]\n",
            " [10 11]]\n"
          ]
        }
      ]
    },
    {
      "cell_type": "code",
      "source": [
        "print(arr[0][0])\n",
        "print(arr[0:2,2:])"
      ],
      "metadata": {
        "colab": {
          "base_uri": "https://localhost:8080/"
        },
        "id": "_Ceu7u9Leqrw",
        "outputId": "2e5f5262-8cb5-42c1-c3f6-5b11bdd9d4cd"
      },
      "execution_count": 27,
      "outputs": [
        {
          "output_type": "stream",
          "name": "stdout",
          "text": [
            "1\n",
            "[[3 4]\n",
            " [7 8]]\n"
          ]
        }
      ]
    },
    {
      "cell_type": "code",
      "source": [
        "arr[1:,2:]"
      ],
      "metadata": {
        "colab": {
          "base_uri": "https://localhost:8080/"
        },
        "id": "wrsyl6pJfO7u",
        "outputId": "1cc8713d-ca92-43c9-c38b-c93bb7abe349"
      },
      "execution_count": 25,
      "outputs": [
        {
          "output_type": "execute_result",
          "data": {
            "text/plain": [
              "array([[ 7,  8],\n",
              "       [11, 12]])"
            ]
          },
          "metadata": {},
          "execution_count": 25
        }
      ]
    },
    {
      "cell_type": "code",
      "source": [
        "## modify array elements\n",
        "arr[0,0]=100\n",
        "print(arr)"
      ],
      "metadata": {
        "colab": {
          "base_uri": "https://localhost:8080/"
        },
        "id": "HiJssU9UfXAS",
        "outputId": "2ad194d7-166b-418a-a0ce-cd273615440e"
      },
      "execution_count": 29,
      "outputs": [
        {
          "output_type": "stream",
          "name": "stdout",
          "text": [
            "[[100   2   3   4]\n",
            " [  5   6   7   8]\n",
            " [  9  10  11  12]]\n"
          ]
        }
      ]
    },
    {
      "cell_type": "code",
      "source": [
        "arr[:]=100\n",
        "print(arr)"
      ],
      "metadata": {
        "colab": {
          "base_uri": "https://localhost:8080/"
        },
        "id": "6Cn9gxaBg6kM",
        "outputId": "4029b36b-4de0-47d9-8f3e-ff99159cbdaf"
      },
      "execution_count": 31,
      "outputs": [
        {
          "output_type": "stream",
          "name": "stdout",
          "text": [
            "[[100 100 100 100]\n",
            " [100 100 100 100]\n",
            " [100 100 100 100]]\n"
          ]
        }
      ]
    },
    {
      "cell_type": "code",
      "source": [
        "## statistical concepts--Normalization\n",
        "## to have a mean of 0 and standard deviation of 1\n",
        "\n",
        "data = np.array([1,2,3,4,5])\n",
        "\n",
        "## calculate the mean and standard deviation\n",
        "mean=np.mean(data)\n",
        "std_dev=np.std(data)\n",
        "\n",
        "## normalize the data\n",
        "normalized_data=(data-mean)/std_dev\n",
        "print(\"nomalized data:\",normalized_data)"
      ],
      "metadata": {
        "colab": {
          "base_uri": "https://localhost:8080/"
        },
        "id": "puVuH_pehC2R",
        "outputId": "258e529e-8cd9-4db7-df62-9d6d13ef5ebb"
      },
      "execution_count": 32,
      "outputs": [
        {
          "output_type": "stream",
          "name": "stdout",
          "text": [
            "nomalized data: [-1.41421356 -0.70710678  0.          0.70710678  1.41421356]\n"
          ]
        }
      ]
    },
    {
      "cell_type": "code",
      "source": [
        "data =  np.array([1,2,3,4,5,6,7,8,9,10])\n",
        "\n",
        "## mean\n",
        "mean = np.mean(data)\n",
        "print(\"mean:\",mean)\n",
        "\n",
        "## median\n",
        "median = np.median(data)\n",
        "print(\"median:\",median)\n",
        "\n",
        "## standard deviation\n",
        "std_dev = np.std(data)\n",
        "print(\"standard deviation:\",std_dev)\n",
        "\n",
        "## variance\n",
        "variance = np.var(data)\n",
        "print(\"variance:\",variance)"
      ],
      "metadata": {
        "colab": {
          "base_uri": "https://localhost:8080/"
        },
        "id": "dMiVj7eKh9U1",
        "outputId": "28c765b6-54c2-4c89-c0ba-ae44c8492a07"
      },
      "execution_count": 34,
      "outputs": [
        {
          "output_type": "stream",
          "name": "stdout",
          "text": [
            "mean: 5.5\n",
            "median: 5.5\n",
            "standard deviation: 2.8722813232690143\n",
            "variance: 8.25\n"
          ]
        }
      ]
    },
    {
      "cell_type": "code",
      "source": [
        "## logical operation\n",
        "data=np.array([1,2,3,4,5,6,7,8,9,10])\n",
        "\n",
        "data>5\n",
        "data[(data>=5) & (data<=9)]"
      ],
      "metadata": {
        "colab": {
          "base_uri": "https://localhost:8080/"
        },
        "id": "jxfSPMFMizFF",
        "outputId": "b1b44fc0-fb18-4688-83d3-b961a83bb14b"
      },
      "execution_count": 43,
      "outputs": [
        {
          "output_type": "execute_result",
          "data": {
            "text/plain": [
              "array([5, 6, 7, 8, 9])"
            ]
          },
          "metadata": {},
          "execution_count": 43
        }
      ]
    }
  ]
}