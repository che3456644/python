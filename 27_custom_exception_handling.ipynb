{
  "nbformat": 4,
  "nbformat_minor": 0,
  "metadata": {
    "colab": {
      "provenance": []
    },
    "kernelspec": {
      "name": "python3",
      "display_name": "Python 3"
    },
    "language_info": {
      "name": "python"
    }
  },
  "cells": [
    {
      "cell_type": "code",
      "execution_count": 2,
      "metadata": {
        "id": "JaTZ30ss_akt"
      },
      "outputs": [],
      "source": [
        "class error(Exception):\n",
        "  pass\n",
        "\n",
        "class dobException(error):\n",
        "  pass"
      ]
    },
    {
      "cell_type": "code",
      "source": [
        "year=int(input(\"enter the dob : \"))\n",
        "age=2024-year\n",
        "\n",
        "try:\n",
        "  if age<30 and age>=20:\n",
        "    print(\"the age is valid so you can apply for the exam \")\n",
        "\n",
        "  else:\n",
        "    raise dobException\n",
        "except dobException:\n",
        "  print(\"sorry,your age should bbe greater than 20 or less than 30\")"
      ],
      "metadata": {
        "colab": {
          "base_uri": "https://localhost:8080/"
        },
        "id": "ZIWyUd9L_rer",
        "outputId": "f8283260-1f10-434e-fa30-1645d22267d8"
      },
      "execution_count": 9,
      "outputs": [
        {
          "output_type": "stream",
          "name": "stdout",
          "text": [
            "enter the dob : 2004\n",
            "the age is valid so you can apply for the exam \n"
          ]
        }
      ]
    }
  ]
}