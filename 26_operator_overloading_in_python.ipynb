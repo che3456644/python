{
  "nbformat": 4,
  "nbformat_minor": 0,
  "metadata": {
    "colab": {
      "provenance": []
    },
    "kernelspec": {
      "name": "python3",
      "display_name": "Python 3"
    },
    "language_info": {
      "name": "python"
    }
  },
  "cells": [
    {
      "cell_type": "markdown",
      "source": [
        "# Operator overloading\n",
        "operator overloading allows you define the behavior of operators (+,-,*,etc) for custom objects. you achieve this by overriding specific magic methods in your class"
      ],
      "metadata": {
        "id": "xTFz4-VzYobe"
      }
    },
    {
      "cell_type": "code",
      "source": [
        "## common operator overloading magic methods\n",
        "\"\"\"\n",
        "__add__(self, other): Adds two objects using the + operator.\n",
        "\n",
        "__sub__(self, other): Subtracts two objects using the operator.\n",
        "\n",
        "__mul__(self, other): Multiplies two objects using the * operator.\n",
        "\n",
        "__truediv__(self, other): Divides two objects using the / operator.\n",
        "\n",
        "__eq__(self, other): Checks if two objects are equal using the == operator.\n",
        "\n",
        "__lt__(self, other): Checks if one object is less than another using the < operator.\n",
        "\n",
        "\"\"\""
      ],
      "metadata": {
        "id": "GPb_nXpfZXUR"
      },
      "execution_count": null,
      "outputs": []
    },
    {
      "cell_type": "code",
      "source": [
        "class vector:\n",
        "  def __init__(self,x,y):\n",
        "    self.x=x\n",
        "    self.y=y\n",
        "\n",
        "  def __add__(self,other):\n",
        "    return vector(self.x+other.x,self.y+other.y)\n",
        "\n",
        "  def __sub__(self,other):\n",
        "    return vector(self.x-other.x,self.y-other.y)\n",
        "\n",
        "  def __mul__(self,other):\n",
        "    return vector(self.x*other.x,self.y*other.y)\n",
        "\n",
        "  def __eq__(self,other):\n",
        "    return self.x==other.x,self.y==other.y\n",
        "\n",
        "  def __repr__(self):\n",
        "    return f\"vector({self.x},{self.y})\"\n",
        "\n",
        "## create objects of the vector class\n",
        "\n",
        "v1=vector(2,3)\n",
        "v2=vector(5,6)\n",
        "\n",
        "print(v1+v2)\n",
        "print(v1-v2)\n",
        "print(v1*v2)"
      ],
      "metadata": {
        "colab": {
          "base_uri": "https://localhost:8080/"
        },
        "id": "0cAnlkncaacx",
        "outputId": "2c62db37-a162-4c55-86df-5f2c6c76cbd4"
      },
      "execution_count": 4,
      "outputs": [
        {
          "output_type": "stream",
          "name": "stdout",
          "text": [
            "vector(7,9)\n",
            "vector(-3,-3)\n",
            "vector(10,18)\n"
          ]
        }
      ]
    }
  ]
}