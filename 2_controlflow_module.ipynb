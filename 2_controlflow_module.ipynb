{
  "nbformat": 4,
  "nbformat_minor": 0,
  "metadata": {
    "colab": {
      "provenance": []
    },
    "kernelspec": {
      "name": "python3",
      "display_name": "Python 3"
    },
    "language_info": {
      "name": "python"
    }
  },
  "cells": [
    {
      "cell_type": "markdown",
      "source": [
        "# ***2. Control Flow Assignments***"
      ],
      "metadata": {
        "id": "LMBDX_HmCDFp"
      }
    },
    {
      "cell_type": "markdown",
      "source": [
        "# **2.1**: ***Conditional*** ***statements***"
      ],
      "metadata": {
        "id": "vbqP5RdBD7vY"
      }
    },
    {
      "cell_type": "code",
      "execution_count": null,
      "metadata": {
        "id": "6VhkM_GXB7Fn",
        "colab": {
          "base_uri": "https://localhost:8080/"
        },
        "outputId": "e358d921-6525-4f77-cc2c-66a85790aaae"
      },
      "outputs": [
        {
          "output_type": "stream",
          "name": "stdout",
          "text": [
            "enter a number : 56\n",
            "the number 56 is positive\n"
          ]
        }
      ],
      "source": [
        "# simple if statement\n",
        "# Question : write a program that asks user to input a number and prints whether the number is positive\n",
        "\n",
        "num = int(input(\"enter a number : \"))\n",
        "if(num > 0):\n",
        "  print(f\"the number {num} is positive\")\n",
        "else:\n",
        "  print(f\"the number {num} is not positive  \")"
      ]
    },
    {
      "cell_type": "code",
      "source": [
        "# if-else statement\n",
        "# Question : write a program that asks the user to input a number and prints whether the number is positive or negative\n",
        "\n",
        "num = int(input(\"enter a number : \"))\n",
        "if(num > 0):\n",
        "  print(f\"the number {num} is positive\")\n",
        "else:\n",
        "  print(f\"the number {num} is negative\")"
      ],
      "metadata": {
        "colab": {
          "base_uri": "https://localhost:8080/"
        },
        "id": "mMwxB_Q5GS-8",
        "outputId": "2afb56cb-2552-4ed8-c215-da4cb67618e4"
      },
      "execution_count": null,
      "outputs": [
        {
          "output_type": "stream",
          "name": "stdout",
          "text": [
            "enter a number : -56\n",
            "the number -56 is negative\n"
          ]
        }
      ]
    },
    {
      "cell_type": "code",
      "source": [
        "# if-elif-else statement\n",
        "# Question : write a program that asks the user to input a number and prints wheteher the number is positive, negative, or zero\n",
        "\n",
        "num = int(input(\"enter a number : \"))\n",
        "if(num > 0):\n",
        "  print(f\"the number {num} is positive\")\n",
        "elif(num == 0):\n",
        "  print(f\"the number {num} is zero\")\n",
        "else:\n",
        "  print(f\"the number {num} is negative\")"
      ],
      "metadata": {
        "colab": {
          "base_uri": "https://localhost:8080/"
        },
        "id": "7dDuLnJmH_M8",
        "outputId": "bd4f7a77-ea31-4acd-e555-b0bd16cd1ab8"
      },
      "execution_count": null,
      "outputs": [
        {
          "output_type": "stream",
          "name": "stdout",
          "text": [
            "enter a number : 0\n",
            "the number 0 is zero\n"
          ]
        }
      ]
    },
    {
      "cell_type": "code",
      "source": [
        " # nested if statement\n",
        " # Question : write a program that asks the user to input a number and prints whether the number is positive and even positive, and odd, or negative\n",
        "\n",
        " num = int(input(\"enter a number : \"))\n",
        "if(num > 0) :\n",
        "  if(num%2==0):\n",
        "    print(f\"the number {num} is positve and even\")\n",
        "  else:\n",
        "      print(f\"the number {num} is positive and odd\")\n",
        "else:\n",
        "  print(f\"the number {num} is negative\")\n"
      ],
      "metadata": {
        "colab": {
          "base_uri": "https://localhost:8080/"
        },
        "id": "G39_wv4OQEYH",
        "outputId": "dd30c25f-4a66-4754-f80d-294292088535"
      },
      "execution_count": null,
      "outputs": [
        {
          "output_type": "stream",
          "name": "stdout",
          "text": [
            "enter a number : 0\n",
            "the number 0 is negative\n"
          ]
        }
      ]
    },
    {
      "cell_type": "markdown",
      "source": [],
      "metadata": {
        "id": "kdqyUUht8qB-"
      }
    },
    {
      "cell_type": "markdown",
      "source": [
        "# ***2.2*** : ***loops***"
      ],
      "metadata": {
        "id": "eXPFHS688oxz"
      }
    },
    {
      "cell_type": "code",
      "source": [
        "# for loop\n",
        "# Question : write a program that prints all the numbers from 1 to 10 using a for loop\n",
        "\n",
        "for i in range (1 ,10):\n",
        "  print(i)\n",
        "\n"
      ],
      "metadata": {
        "id": "4NAImgh22LAW",
        "colab": {
          "base_uri": "https://localhost:8080/"
        },
        "outputId": "6341a1e7-6101-4bad-b347-9a7f41c71e77"
      },
      "execution_count": null,
      "outputs": [
        {
          "output_type": "stream",
          "name": "stdout",
          "text": [
            "1\n",
            "2\n",
            "3\n",
            "4\n",
            "5\n",
            "6\n",
            "7\n",
            "8\n",
            "9\n"
          ]
        }
      ]
    },
    {
      "cell_type": "code",
      "source": [
        "# while loop\n",
        "# Question : write a program that prints all the number form 1 to 10 using a while loop\n",
        "\n",
        "count = 0\n",
        "while count<10:\n",
        "  print(count)\n",
        "  count=count+1"
      ],
      "metadata": {
        "colab": {
          "base_uri": "https://localhost:8080/"
        },
        "id": "ichVphCKO3iO",
        "outputId": "d004ff53-4ce1-43e6-f634-08cbdf593812"
      },
      "execution_count": null,
      "outputs": [
        {
          "output_type": "stream",
          "name": "stdout",
          "text": [
            "0\n",
            "1\n",
            "2\n",
            "3\n",
            "4\n",
            "5\n",
            "6\n",
            "7\n",
            "8\n",
            "9\n"
          ]
        }
      ]
    },
    {
      "cell_type": "code",
      "source": [
        "# nested loops\n",
        "# Question : write a program that prints a 5x5 grid of asterisks(*)using nested loops\n",
        "\n",
        "for i in range(5):\n",
        "    for j in range(5):\n",
        "        print(\"*\", end=\" \")\n",
        "    print()"
      ],
      "metadata": {
        "colab": {
          "base_uri": "https://localhost:8080/"
        },
        "id": "cPaH2usjQ9UE",
        "outputId": "fe32e98c-9c87-415d-e257-2b941fbec98b"
      },
      "execution_count": null,
      "outputs": [
        {
          "output_type": "stream",
          "name": "stdout",
          "text": [
            "* * * * * \n",
            "* * * * * \n",
            "* * * * * \n",
            "* * * * * \n",
            "* * * * * \n"
          ]
        }
      ]
    },
    {
      "cell_type": "code",
      "source": [
        "# break statement\n",
        "# Question : write a program that asks the user to input numbers until they input 0. the program should print the sum of all the input numbers\n",
        "\n",
        "total_sum = 0\n",
        "number = int(input(\"enter a number (0 to stop) :\"))\n",
        "\n",
        "while number!=0:\n",
        "  total_sum+=number\n",
        "  number = int(input(\"enter a number (0 to stop): \"))\n",
        "\n",
        "  print(\"the sum of all entered num is :\",total_sum)\n",
        "\n"
      ],
      "metadata": {
        "colab": {
          "base_uri": "https://localhost:8080/"
        },
        "id": "wNQBBV3OVVb-",
        "outputId": "b593de5c-53d0-4f86-87d8-da717c849345"
      },
      "execution_count": null,
      "outputs": [
        {
          "output_type": "stream",
          "name": "stdout",
          "text": [
            "enter a number (0 to stop) :5\n",
            "enter a number (0 to stop): 5\n",
            "the sum of all entered num is : 5\n",
            "enter a number (0 to stop): 15\n",
            "the sum of all entered num is : 10\n",
            "enter a number (0 to stop): 20\n",
            "the sum of all entered num is : 25\n",
            "enter a number (0 to stop): 0\n",
            "the sum of all entered num is : 45\n"
          ]
        }
      ]
    },
    {
      "cell_type": "code",
      "source": [
        "# continue statement\n",
        "# Question : write a program that prints all the numbers from 1 to 10 except 5 using a for loop and continue statement\n",
        "\n",
        "for i in range (10):\n",
        "  if i==5:\n",
        "    continue\n",
        "  print(i)"
      ],
      "metadata": {
        "colab": {
          "base_uri": "https://localhost:8080/"
        },
        "id": "ghK5GQV-WhCG",
        "outputId": "fb661741-7465-4d25-8134-a940e133c2f6"
      },
      "execution_count": null,
      "outputs": [
        {
          "output_type": "stream",
          "name": "stdout",
          "text": [
            "0\n",
            "1\n",
            "2\n",
            "3\n",
            "4\n",
            "6\n",
            "7\n",
            "8\n",
            "9\n"
          ]
        }
      ]
    },
    {
      "cell_type": "code",
      "source": [
        "# pass statement\n",
        "# write a program that defines an empty function using the pass statement\n",
        "\n",
        "def empty_function():\n",
        "    pass\n",
        "\n",
        "# Calling the empty function\n",
        "empty_function()"
      ],
      "metadata": {
        "id": "jhwmoE10apVa"
      },
      "execution_count": null,
      "outputs": []
    },
    {
      "cell_type": "code",
      "source": [
        "# combining loops and conditionals\n",
        "# Quesiton : write a program that asks the user to input a number and prints all the even numbers from 1 to that number using a for loop\n",
        "\n",
        "number = int(input(\"enter a number : \"))\n",
        "for i in range(1,number+1):\n",
        "  if i %2==0:\n",
        "    print(i)\n"
      ],
      "metadata": {
        "colab": {
          "base_uri": "https://localhost:8080/"
        },
        "id": "s0M9mCnzbkbW",
        "outputId": "b87800de-4e72-462f-b740-68983168458f"
      },
      "execution_count": null,
      "outputs": [
        {
          "output_type": "stream",
          "name": "stdout",
          "text": [
            "enter a number : 5\n",
            "2\n",
            "4\n"
          ]
        }
      ]
    },
    {
      "cell_type": "code",
      "source": [
        "# factorial calculation\n",
        "# Question : write a program that calculates the factorial of a number input by the user using a while loop\n",
        "\n",
        "num = int(input(\"enter a number : \"))\n",
        "factorial = 1\n",
        "i = 1\n",
        "while i <= num:\n",
        "  factorial *=i\n",
        "  i+=1\n",
        "print(f\"the factorial of {num} is  {factorial}\")"
      ],
      "metadata": {
        "colab": {
          "base_uri": "https://localhost:8080/"
        },
        "id": "I4A20ktECCV7",
        "outputId": "6813f24f-9629-43a8-8f07-0d8ef9648061"
      },
      "execution_count": null,
      "outputs": [
        {
          "output_type": "stream",
          "name": "stdout",
          "text": [
            "enter a number : 7\n",
            "the factorial of 7 is  5040\n"
          ]
        }
      ]
    },
    {
      "cell_type": "code",
      "source": [
        "# sum of digits\n",
        "# Question : write a program that calulates the sum of digits of a number input by the user using a while loop\n",
        "\n",
        "number = int(input(\"Enter a number: \"))\n",
        "sum_of_digits = 0\n",
        "while number > 0:\n",
        "    digit = number % 10\n",
        "    sum_of_digits += digit\n",
        "    number = number // 10\n",
        "print(f\"The sum of the digits is {sum_of_digits}.\")\n"
      ],
      "metadata": {
        "colab": {
          "base_uri": "https://localhost:8080/"
        },
        "id": "7GN2qIfaFP8C",
        "outputId": "1a49892c-77bd-43fa-921e-57c60091f36f"
      },
      "execution_count": null,
      "outputs": [
        {
          "output_type": "stream",
          "name": "stdout",
          "text": [
            "Enter a number: 54\n",
            "The sum of the digits is 9.\n"
          ]
        }
      ]
    },
    {
      "cell_type": "code",
      "source": [
        "# prime number check\n",
        "# Question : write a program that checks if a number input by the user is a prime number using a for loop\n",
        "\n",
        "number = int(input(\"Enter a number: \"))\n",
        "is_prime = True\n",
        "if number <= 1:\n",
        "    is_prime = False\n",
        "else:\n",
        "    for i in range(2, int(number ** 0.5) + 1):\n",
        "        if number % i == 0:\n",
        "            is_prime = False\n",
        "            break\n",
        "if is_prime:\n",
        "    print(f\"{number} is a prime number.\")\n",
        "else:\n",
        "    print(f\"{number} is not a prime number.\")"
      ],
      "metadata": {
        "colab": {
          "base_uri": "https://localhost:8080/"
        },
        "id": "S0PxyDXgJGsH",
        "outputId": "8314785c-69f9-4f3e-ef7a-ed7d086f53b9"
      },
      "execution_count": null,
      "outputs": [
        {
          "output_type": "stream",
          "name": "stdout",
          "text": [
            "Enter a number: 60\n",
            "60 is not a prime number.\n"
          ]
        }
      ]
    },
    {
      "cell_type": "code",
      "source": [
        "# fibonacci sequence\n",
        "# Quesiton : write a program that prints the first n fibonacci numbers where n is input by the user\n",
        "\n",
        "n = int(input(\"Enter the number of Fibonacci numbers to print: \"))\n",
        "a, b = 0, 1\n",
        "count = 0\n",
        "while count < n:\n",
        "    print(a)\n",
        "    a, b = b, a + b\n",
        "    count += 1"
      ],
      "metadata": {
        "colab": {
          "base_uri": "https://localhost:8080/"
        },
        "id": "ZY6ismqKLYe8",
        "outputId": "0b5941d2-5df1-4cc7-bf0e-dc4feeea7fb5"
      },
      "execution_count": null,
      "outputs": [
        {
          "output_type": "stream",
          "name": "stdout",
          "text": [
            "Enter the number of Fibonacci numbers to print: 300\n",
            "0\n",
            "1\n",
            "1\n",
            "2\n",
            "3\n",
            "5\n",
            "8\n",
            "13\n",
            "21\n",
            "34\n",
            "55\n",
            "89\n",
            "144\n",
            "233\n",
            "377\n",
            "610\n",
            "987\n",
            "1597\n",
            "2584\n",
            "4181\n",
            "6765\n",
            "10946\n",
            "17711\n",
            "28657\n",
            "46368\n",
            "75025\n",
            "121393\n",
            "196418\n",
            "317811\n",
            "514229\n",
            "832040\n",
            "1346269\n",
            "2178309\n",
            "3524578\n",
            "5702887\n",
            "9227465\n",
            "14930352\n",
            "24157817\n",
            "39088169\n",
            "63245986\n",
            "102334155\n",
            "165580141\n",
            "267914296\n",
            "433494437\n",
            "701408733\n",
            "1134903170\n",
            "1836311903\n",
            "2971215073\n",
            "4807526976\n",
            "7778742049\n",
            "12586269025\n",
            "20365011074\n",
            "32951280099\n",
            "53316291173\n",
            "86267571272\n",
            "139583862445\n",
            "225851433717\n",
            "365435296162\n",
            "591286729879\n",
            "956722026041\n",
            "1548008755920\n",
            "2504730781961\n",
            "4052739537881\n",
            "6557470319842\n",
            "10610209857723\n",
            "17167680177565\n",
            "27777890035288\n",
            "44945570212853\n",
            "72723460248141\n",
            "117669030460994\n",
            "190392490709135\n",
            "308061521170129\n",
            "498454011879264\n",
            "806515533049393\n",
            "1304969544928657\n",
            "2111485077978050\n",
            "3416454622906707\n",
            "5527939700884757\n",
            "8944394323791464\n",
            "14472334024676221\n",
            "23416728348467685\n",
            "37889062373143906\n",
            "61305790721611591\n",
            "99194853094755497\n",
            "160500643816367088\n",
            "259695496911122585\n",
            "420196140727489673\n",
            "679891637638612258\n",
            "1100087778366101931\n",
            "1779979416004714189\n",
            "2880067194370816120\n",
            "4660046610375530309\n",
            "7540113804746346429\n",
            "12200160415121876738\n",
            "19740274219868223167\n",
            "31940434634990099905\n",
            "51680708854858323072\n",
            "83621143489848422977\n",
            "135301852344706746049\n",
            "218922995834555169026\n",
            "354224848179261915075\n",
            "573147844013817084101\n",
            "927372692193078999176\n",
            "1500520536206896083277\n",
            "2427893228399975082453\n",
            "3928413764606871165730\n",
            "6356306993006846248183\n",
            "10284720757613717413913\n",
            "16641027750620563662096\n",
            "26925748508234281076009\n",
            "43566776258854844738105\n",
            "70492524767089125814114\n",
            "114059301025943970552219\n",
            "184551825793033096366333\n",
            "298611126818977066918552\n",
            "483162952612010163284885\n",
            "781774079430987230203437\n",
            "1264937032042997393488322\n",
            "2046711111473984623691759\n",
            "3311648143516982017180081\n",
            "5358359254990966640871840\n",
            "8670007398507948658051921\n",
            "14028366653498915298923761\n",
            "22698374052006863956975682\n",
            "36726740705505779255899443\n",
            "59425114757512643212875125\n",
            "96151855463018422468774568\n",
            "155576970220531065681649693\n",
            "251728825683549488150424261\n",
            "407305795904080553832073954\n",
            "659034621587630041982498215\n",
            "1066340417491710595814572169\n",
            "1725375039079340637797070384\n",
            "2791715456571051233611642553\n",
            "4517090495650391871408712937\n",
            "7308805952221443105020355490\n",
            "11825896447871834976429068427\n",
            "19134702400093278081449423917\n",
            "30960598847965113057878492344\n",
            "50095301248058391139327916261\n",
            "81055900096023504197206408605\n",
            "131151201344081895336534324866\n",
            "212207101440105399533740733471\n",
            "343358302784187294870275058337\n",
            "555565404224292694404015791808\n",
            "898923707008479989274290850145\n",
            "1454489111232772683678306641953\n",
            "2353412818241252672952597492098\n",
            "3807901929474025356630904134051\n",
            "6161314747715278029583501626149\n",
            "9969216677189303386214405760200\n",
            "16130531424904581415797907386349\n",
            "26099748102093884802012313146549\n",
            "42230279526998466217810220532898\n",
            "68330027629092351019822533679447\n",
            "110560307156090817237632754212345\n",
            "178890334785183168257455287891792\n",
            "289450641941273985495088042104137\n",
            "468340976726457153752543329995929\n",
            "757791618667731139247631372100066\n",
            "1226132595394188293000174702095995\n",
            "1983924214061919432247806074196061\n",
            "3210056809456107725247980776292056\n",
            "5193981023518027157495786850488117\n",
            "8404037832974134882743767626780173\n",
            "13598018856492162040239554477268290\n",
            "22002056689466296922983322104048463\n",
            "35600075545958458963222876581316753\n",
            "57602132235424755886206198685365216\n",
            "93202207781383214849429075266681969\n",
            "150804340016807970735635273952047185\n",
            "244006547798191185585064349218729154\n",
            "394810887814999156320699623170776339\n",
            "638817435613190341905763972389505493\n",
            "1033628323428189498226463595560281832\n",
            "1672445759041379840132227567949787325\n",
            "2706074082469569338358691163510069157\n",
            "4378519841510949178490918731459856482\n",
            "7084593923980518516849609894969925639\n",
            "11463113765491467695340528626429782121\n",
            "18547707689471986212190138521399707760\n",
            "30010821454963453907530667147829489881\n",
            "48558529144435440119720805669229197641\n",
            "78569350599398894027251472817058687522\n",
            "127127879743834334146972278486287885163\n",
            "205697230343233228174223751303346572685\n",
            "332825110087067562321196029789634457848\n",
            "538522340430300790495419781092981030533\n",
            "871347450517368352816615810882615488381\n",
            "1409869790947669143312035591975596518914\n",
            "2281217241465037496128651402858212007295\n",
            "3691087032412706639440686994833808526209\n",
            "5972304273877744135569338397692020533504\n",
            "9663391306290450775010025392525829059713\n",
            "15635695580168194910579363790217849593217\n",
            "25299086886458645685589389182743678652930\n",
            "40934782466626840596168752972961528246147\n",
            "66233869353085486281758142155705206899077\n",
            "107168651819712326877926895128666735145224\n",
            "173402521172797813159685037284371942044301\n",
            "280571172992510140037611932413038677189525\n",
            "453973694165307953197296969697410619233826\n",
            "734544867157818093234908902110449296423351\n",
            "1188518561323126046432205871807859915657177\n",
            "1923063428480944139667114773918309212080528\n",
            "3111581989804070186099320645726169127737705\n",
            "5034645418285014325766435419644478339818233\n",
            "8146227408089084511865756065370647467555938\n",
            "13180872826374098837632191485015125807374171\n",
            "21327100234463183349497947550385773274930109\n",
            "34507973060837282187130139035400899082304280\n",
            "55835073295300465536628086585786672357234389\n",
            "90343046356137747723758225621187571439538669\n",
            "146178119651438213260386312206974243796773058\n",
            "236521166007575960984144537828161815236311727\n",
            "382699285659014174244530850035136059033084785\n",
            "619220451666590135228675387863297874269396512\n",
            "1001919737325604309473206237898433933302481297\n",
            "1621140188992194444701881625761731807571877809\n",
            "2623059926317798754175087863660165740874359106\n",
            "4244200115309993198876969489421897548446236915\n",
            "6867260041627791953052057353082063289320596021\n",
            "11111460156937785151929026842503960837766832936\n",
            "17978720198565577104981084195586024127087428957\n",
            "29090180355503362256910111038089984964854261893\n",
            "47068900554068939361891195233676009091941690850\n",
            "76159080909572301618801306271765994056795952743\n",
            "123227981463641240980692501505442003148737643593\n",
            "199387062373213542599493807777207997205533596336\n",
            "322615043836854783580186309282650000354271239929\n",
            "522002106210068326179680117059857997559804836265\n",
            "844617150046923109759866426342507997914076076194\n",
            "1366619256256991435939546543402365995473880912459\n",
            "2211236406303914545699412969744873993387956988653\n",
            "3577855662560905981638959513147239988861837901112\n",
            "5789092068864820527338372482892113982249794889765\n",
            "9366947731425726508977331996039353971111632790877\n",
            "15156039800290547036315704478931467953361427680642\n",
            "24522987531716273545293036474970821924473060471519\n",
            "39679027332006820581608740953902289877834488152161\n",
            "64202014863723094126901777428873111802307548623680\n",
            "103881042195729914708510518382775401680142036775841\n",
            "168083057059453008835412295811648513482449585399521\n",
            "271964099255182923543922814194423915162591622175362\n",
            "440047156314635932379335110006072428645041207574883\n",
            "712011255569818855923257924200496343807632829750245\n",
            "1152058411884454788302593034206568772452674037325128\n",
            "1864069667454273644225850958407065116260306867075373\n",
            "3016128079338728432528443992613633888712980904400501\n",
            "4880197746793002076754294951020699004973287771475874\n",
            "7896325826131730509282738943634332893686268675876375\n",
            "12776523572924732586037033894655031898659556447352249\n",
            "20672849399056463095319772838289364792345825123228624\n",
            "33449372971981195681356806732944396691005381570580873\n",
            "54122222371037658776676579571233761483351206693809497\n",
            "87571595343018854458033386304178158174356588264390370\n",
            "141693817714056513234709965875411919657707794958199867\n",
            "229265413057075367692743352179590077832064383222590237\n",
            "370959230771131880927453318055001997489772178180790104\n",
            "600224643828207248620196670234592075321836561403380341\n",
            "971183874599339129547649988289594072811608739584170445\n",
            "1571408518427546378167846658524186148133445300987550786\n",
            "2542592393026885507715496646813780220945054040571721231\n",
            "4114000911454431885883343305337966369078499341559272017\n",
            "6656593304481317393598839952151746590023553382130993248\n",
            "10770594215935749279482183257489712959102052723690265265\n",
            "17427187520417066673081023209641459549125606105821258513\n",
            "28197781736352815952563206467131172508227658829511523778\n",
            "45624969256769882625644229676772632057353264935332782291\n",
            "73822750993122698578207436143903804565580923764844306069\n",
            "119447720249892581203851665820676436622934188700177088360\n",
            "193270471243015279782059101964580241188515112465021394429\n",
            "312718191492907860985910767785256677811449301165198482789\n",
            "505988662735923140767969869749836918999964413630219877218\n",
            "818706854228831001753880637535093596811413714795418360007\n",
            "1324695516964754142521850507284930515811378128425638237225\n",
            "2143402371193585144275731144820024112622791843221056597232\n",
            "3468097888158339286797581652104954628434169971646694834457\n",
            "5611500259351924431073312796924978741056961814867751431689\n",
            "9079598147510263717870894449029933369491131786514446266146\n",
            "14691098406862188148944207245954912110548093601382197697835\n",
            "23770696554372451866815101694984845480039225387896643963981\n",
            "38461794961234640015759308940939757590587318989278841661816\n",
            "62232491515607091882574410635924603070626544377175485625797\n",
            "100694286476841731898333719576864360661213863366454327287613\n",
            "162926777992448823780908130212788963731840407743629812913410\n",
            "263621064469290555679241849789653324393054271110084140201023\n",
            "426547842461739379460149980002442288124894678853713953114433\n",
            "690168906931029935139391829792095612517948949963798093315456\n",
            "1116716749392769314599541809794537900642843628817512046429889\n",
            "1806885656323799249738933639586633513160792578781310139745345\n",
            "2923602405716568564338475449381171413803636207598822186175234\n",
            "4730488062040367814077409088967804926964428786380132325920579\n",
            "7654090467756936378415884538348976340768064993978954512095813\n",
            "12384578529797304192493293627316781267732493780359086838016392\n",
            "20038668997554240570909178165665757608500558774338041350112205\n",
            "32423247527351544763402471792982538876233052554697128188128597\n",
            "52461916524905785334311649958648296484733611329035169538240802\n",
            "84885164052257330097714121751630835360966663883732297726369399\n",
            "137347080577163115432025771710279131845700275212767467264610201\n"
          ]
        }
      ]
    }
  ]
}
