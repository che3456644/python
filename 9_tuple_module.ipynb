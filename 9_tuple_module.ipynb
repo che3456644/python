{
  "nbformat": 4,
  "nbformat_minor": 0,
  "metadata": {
    "colab": {
      "provenance": []
    },
    "kernelspec": {
      "name": "python3",
      "display_name": "Python 3"
    },
    "language_info": {
      "name": "python"
    }
  },
  "cells": [
    {
      "cell_type": "code",
      "execution_count": 60,
      "metadata": {
        "colab": {
          "base_uri": "https://localhost:8080/"
        },
        "id": "IY0elS_JrE_9",
        "outputId": "ebbdc48e-4d6d-4695-caa2-39ff05270ccc"
      },
      "outputs": [
        {
          "output_type": "stream",
          "name": "stdout",
          "text": [
            "(1, 2, 3, 4, 5, 6, 7, 8, 9, 10)\n"
          ]
        }
      ],
      "source": [
        "## example : 1\n",
        "## Create a tuple with the first 10 positive integers\n",
        "\n",
        "num = tuple(range(1, 11)) # Use the built-in tuple function\n",
        "print(num)"
      ]
    },
    {
      "cell_type": "code",
      "source": [
        "## accessing tuple elements\n",
        "## print the first, middle, last elements of the tuple created in example 1\n",
        "\n",
        "print(f\"first element\",num[0])\n",
        "print(f\"middle element\",num[len(num)//2])\n",
        "print(f\"last element\",num[-1])\n",
        "\n"
      ],
      "metadata": {
        "colab": {
          "base_uri": "https://localhost:8080/"
        },
        "id": "L_PBNRklbtIk",
        "outputId": "41188b30-3a3c-4d5c-bfb4-a973fddde03d"
      },
      "execution_count": 61,
      "outputs": [
        {
          "output_type": "stream",
          "name": "stdout",
          "text": [
            "first element 1\n",
            "middle element 6\n",
            "last element 10\n"
          ]
        }
      ]
    },
    {
      "cell_type": "code",
      "source": [
        "## tuple slicing\n",
        "## print the first three elements, the last three elements, and the elements from index 2 to 5 of the tuple created in example 1\n",
        "\n",
        "print(f\"first three elements\",num[:3])\n",
        "print(f\"last three elements\",num[-3:])\n",
        "print(f\"elements from index 2 to 5\",num[2:5])"
      ],
      "metadata": {
        "colab": {
          "base_uri": "https://localhost:8080/"
        },
        "id": "CeMWsWLAt9QF",
        "outputId": "9f5ec737-f9b9-4c15-9168-4bea4624da43"
      },
      "execution_count": 62,
      "outputs": [
        {
          "output_type": "stream",
          "name": "stdout",
          "text": [
            "first three elements (1, 2, 3)\n",
            "last three elements (8, 9, 10)\n",
            "elements from index 2 to 5 (3, 4, 5)\n"
          ]
        }
      ]
    },
    {
      "cell_type": "code",
      "source": [
        "## nested tuples\n",
        "## created a nested tuple representing a 3x3 matrix and print the matrix access and print the element at the second row and third column\n",
        "\n",
        "lum = (\n",
        "    (1, 2, 3),\n",
        "    (4, 5, 6),\n",
        "    (7, 8, 9)\n",
        ")\n",
        "print(lum)\n",
        "for row in lum:\n",
        "  print(row)\n",
        "print({lum[1][2]})"
      ],
      "metadata": {
        "colab": {
          "base_uri": "https://localhost:8080/"
        },
        "id": "dRMWLpaYgNOT",
        "outputId": "3b6ed7d9-0693-41e4-b59f-0b123efce2d9"
      },
      "execution_count": 63,
      "outputs": [
        {
          "output_type": "stream",
          "name": "stdout",
          "text": [
            "((1, 2, 3), (4, 5, 6), (7, 8, 9))\n",
            "(1, 2, 3)\n",
            "(4, 5, 6)\n",
            "(7, 8, 9)\n",
            "{6}\n"
          ]
        }
      ]
    },
    {
      "cell_type": "code",
      "source": [
        "## tuple conacatenation\n",
        "## concatenate two tuples: (1,2,3) and (4,5,6) print the resulting tuple\n",
        "\n",
        "tpl1 = (1, 2, 3)\n",
        "tpl2 = (4, 5, 6)\n",
        "concatenated = tpl1 + tpl2\n",
        "print(concatenated)"
      ],
      "metadata": {
        "colab": {
          "base_uri": "https://localhost:8080/"
        },
        "id": "9oeIfundhQ8-",
        "outputId": "330b8ed3-32da-48ed-94fe-7a25c3dda87d"
      },
      "execution_count": 64,
      "outputs": [
        {
          "output_type": "stream",
          "name": "stdout",
          "text": [
            "(1, 2, 3, 4, 5, 6)\n"
          ]
        }
      ]
    },
    {
      "cell_type": "code",
      "source": [
        "## tuple methods\n",
        "## create a tuple with duplicate elements and count the occurrences of an element find the index of the first occurrence of an element in the tuple\n",
        "\n",
        "tpl = (1, 2, 2, 3, 4, 4, 4, 5)\n",
        "print(f\"Occurrences of 4: {tpl.count(4)}\")\n",
        "print(f\"Index of first occurrence of 2: {tpl.index(2)}\")"
      ],
      "metadata": {
        "colab": {
          "base_uri": "https://localhost:8080/"
        },
        "id": "lZtHNgMQjtf5",
        "outputId": "802d21d0-6f9f-4047-b5f2-418fba50a77b"
      },
      "execution_count": 65,
      "outputs": [
        {
          "output_type": "stream",
          "name": "stdout",
          "text": [
            "Occurrences of 4: 3\n",
            "Index of first occurrence of 2: 1\n"
          ]
        }
      ]
    },
    {
      "cell_type": "code",
      "source": [
        "## unpacking tuples\n",
        "## create a tuple with 5 elements and unpack it into 5 variables print the variables\n",
        "\n",
        "tpl = (1, 2, 3, 4, 5)\n",
        "a, b, c, d, e = tpl\n",
        "print(a, b, c, d, e)\n"
      ],
      "metadata": {
        "colab": {
          "base_uri": "https://localhost:8080/"
        },
        "id": "Cn8gnJEUkNNe",
        "outputId": "cc76ea8d-3bf7-48b6-a062-714e58ecb9e3"
      },
      "execution_count": 66,
      "outputs": [
        {
          "output_type": "stream",
          "name": "stdout",
          "text": [
            "1 2 3 4 5\n"
          ]
        }
      ]
    },
    {
      "cell_type": "code",
      "source": [
        "## tuple and list\n",
        "## create a tuple with the first 5 positive integers. convert it to a list, append the number 6, and convert it back to a tuple. print the resulting tuple\n",
        "\n",
        "tpl = (1, 2, 3, 4, 5)\n",
        "lst = list(tpl)\n",
        "lst.append(6)\n",
        "tpl = tuple(lst)\n",
        "print(tpl)"
      ],
      "metadata": {
        "colab": {
          "base_uri": "https://localhost:8080/"
        },
        "id": "_S2TVabtknRD",
        "outputId": "08a9ed9a-8410-4b60-e088-5602178f0a56"
      },
      "execution_count": 67,
      "outputs": [
        {
          "output_type": "stream",
          "name": "stdout",
          "text": [
            "(1, 2, 3, 4, 5, 6)\n"
          ]
        }
      ]
    },
    {
      "cell_type": "code",
      "source": [
        "## tuple and string\n",
        "## create a tuple with the character of a string join the tuple elements into a single string print the string\n",
        "\n",
        "string = \"hello\"\n",
        "tpl = tuple(string)\n",
        "joined_string = ''.join(tpl)\n",
        "print(joined_string)"
      ],
      "metadata": {
        "colab": {
          "base_uri": "https://localhost:8080/"
        },
        "id": "9p1SKmO4kzvT",
        "outputId": "19d9f5df-bf15-4ca2-e0c7-40be070b71de"
      },
      "execution_count": 68,
      "outputs": [
        {
          "output_type": "stream",
          "name": "stdout",
          "text": [
            "hello\n"
          ]
        }
      ]
    },
    {
      "cell_type": "code",
      "source": [
        "## tuple and set\n",
        "## create a tuple with duplicate elements. convert it to a set to remove duplicates and print the resulting set\n",
        "\n",
        "tpl = (1, 2, 2, 3, 4, 4, 4, 5)\n",
        "unique_set = set(tpl)\n",
        "print(unique_set)"
      ],
      "metadata": {
        "colab": {
          "base_uri": "https://localhost:8080/"
        },
        "id": "OkVc12_3lqnB",
        "outputId": "41315923-a807-4d19-aa34-22b38ae57675"
      },
      "execution_count": 69,
      "outputs": [
        {
          "output_type": "stream",
          "name": "stdout",
          "text": [
            "{1, 2, 3, 4, 5}\n"
          ]
        }
      ]
    },
    {
      "cell_type": "code",
      "source": [
        "## tuple and dictionary\n",
        "## create a dictionary with tuple keys and integer values print the dictionary\n",
        "\n",
        "tpl_dict = {\n",
        "    (1, 2): 3,\n",
        "    (4, 5): 6,\n",
        "    (7, 8): 9\n",
        "}\n",
        "print(tpl_dict)"
      ],
      "metadata": {
        "colab": {
          "base_uri": "https://localhost:8080/"
        },
        "id": "e_lwwEv1mDlk",
        "outputId": "1bbe2e64-36e6-4026-8962-1fad74732602"
      },
      "execution_count": 70,
      "outputs": [
        {
          "output_type": "stream",
          "name": "stdout",
          "text": [
            "{(1, 2): 3, (4, 5): 6, (7, 8): 9}\n"
          ]
        }
      ]
    },
    {
      "cell_type": "code",
      "source": [
        "## nested tuple iteration\n",
        "## create a nested tuple and iterate over the elements, printing each element\n",
        "\n",
        "nested_tpl = (\n",
        "    (1, 2, 3),\n",
        "    (4, 5, 6),\n",
        "    (7, 8, 9)\n",
        ")\n",
        "for tpl in nested_tpl:\n",
        "    for elem in tpl:\n",
        "        print(elem)\n"
      ],
      "metadata": {
        "colab": {
          "base_uri": "https://localhost:8080/"
        },
        "id": "9rIACbJDmW-h",
        "outputId": "5011d31c-e1d9-4a86-8eb0-afd8b27657bf"
      },
      "execution_count": 71,
      "outputs": [
        {
          "output_type": "stream",
          "name": "stdout",
          "text": [
            "1\n",
            "2\n",
            "3\n",
            "4\n",
            "5\n",
            "6\n",
            "7\n",
            "8\n",
            "9\n"
          ]
        }
      ]
    },
    {
      "cell_type": "code",
      "source": [
        "## tuple functions\n",
        "## write functions that take a tuple and return the mininmum, maximum, and sum of the elements. print the results for a sample tuple\n",
        "\n",
        "def min_in_tuple(tpl):\n",
        "    return min(tpl)\n",
        "\n",
        "def max_in_tuple(tpl):\n",
        "    return max(tpl)\n",
        "\n",
        "def sum_of_tuple(tpl):\n",
        "    return sum(tpl)\n",
        "\n",
        "sample_tpl = (1, 2, 3, 4, 5)\n",
        "print(f\"Minimum: {min_in_tuple(sample_tpl)}\")\n",
        "print(f\"Maximum: {max_in_tuple(sample_tpl)}\")\n",
        "print(f\"Sum: {sum_of_tuple(sample_tpl)}\")"
      ],
      "metadata": {
        "colab": {
          "base_uri": "https://localhost:8080/"
        },
        "id": "-7lnFv-fmqM5",
        "outputId": "2c3435bd-f2ec-4950-eb7a-d53977ea9de3"
      },
      "execution_count": 72,
      "outputs": [
        {
          "output_type": "stream",
          "name": "stdout",
          "text": [
            "Minimum: 1\n",
            "Maximum: 5\n",
            "Sum: 15\n"
          ]
        }
      ]
    }
  ]
}