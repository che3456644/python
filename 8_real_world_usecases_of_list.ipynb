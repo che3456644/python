{
  "nbformat": 4,
  "nbformat_minor": 0,
  "metadata": {
    "colab": {
      "provenance": []
    },
    "kernelspec": {
      "name": "python3",
      "display_name": "Python 3"
    },
    "language_info": {
      "name": "python"
    }
  },
  "cells": [
    {
      "cell_type": "code",
      "execution_count": null,
      "metadata": {
        "colab": {
          "base_uri": "https://localhost:8080/"
        },
        "id": "0OfLNEZ51Qjw",
        "outputId": "d32dc5c3-d415-44c0-b847-0d4845e869c5"
      },
      "outputs": [
        {
          "output_type": "stream",
          "name": "stdout",
          "text": [
            "don't forget to pay the utility bills\n",
            "to do list remaining\n",
            "buy groceries\n",
            "pay bills\n",
            "schedule a meeting\n",
            "go for a run\n"
          ]
        }
      ],
      "source": [
        "## example 1: manage to do list\n",
        "## create a to do list to keep track of tasks\n",
        "\n",
        "to_do_list=[\"buy groceries\",\"clean the house\",\"pay bills\"]\n",
        "\n",
        "## adding tasks\n",
        "to_do_list.append(\"schedule a meeting\")\n",
        "to_do_list.append(\"go for a run\")\n",
        "\n",
        "## removing a completed task\n",
        "to_do_list.remove(\"clean the house\")\n",
        "\n",
        "## checking if the task is in the list\n",
        "if \"pay bills\" in to_do_list:\n",
        "  print(\"don't forget to pay the utility bills\")\n",
        "\n",
        "print(\"to do list remaining\")\n",
        "for task in to_do_list:\n",
        "  print(f\"{task}\")\n",
        "\n"
      ]
    },
    {
      "cell_type": "code",
      "source": [
        "## example 2: organizing student grades\n",
        "## create a list to store and calculate average grades for students\n",
        "\n",
        "grades = [85, 92, 78, 90, 88]\n",
        "\n",
        "## adding a new grade\n",
        "grades.append(95)\n",
        "\n",
        "## calculating the average grade\n",
        "average_grade = sum(grades)/len(grades)\n",
        "\n",
        "print(f\"average grade: {average_grade:.2f}\")\n",
        "\n",
        "## finding the highest and lowest grades\n",
        "highest_grade = max(grades)\n",
        "lowest_grade = min(grades)\n",
        "print(f\"highest grade: {highest_grade}\")\n",
        "print(f\"lowest_grade: {lowest_grade}\")"
      ],
      "metadata": {
        "colab": {
          "base_uri": "https://localhost:8080/"
        },
        "id": "_gkrQF3W3KRo",
        "outputId": "6a0d81ea-21ec-4565-9607-37fc2f41ca33"
      },
      "execution_count": null,
      "outputs": [
        {
          "output_type": "stream",
          "name": "stdout",
          "text": [
            "average grade: 88.00\n",
            "highest grade: 95\n",
            "lowest_grade: 78\n"
          ]
        }
      ]
    },
    {
      "cell_type": "code",
      "source": [
        "## example 3: managing an inventory\n",
        "## use a list to mangage inventory items in a store\n",
        "\n",
        "## managing an inventory\n",
        "inventory = [\"apples\",\"banana\",\"oranges\",\"grapes\"]\n",
        "\n",
        "## adding a new item\n",
        "inventory.append(\"strawberries\")\n",
        "\n",
        "## removing an item that is out of stock\n",
        "inventory.remove(\"banana\")\n",
        "\n",
        "## checking if an item is in stock\n",
        "item = \"oranges\"\n",
        "if item in inventory:\n",
        "  print(f\"{item} are in stock\")\n",
        "else:\n",
        "  print(f\"{item} are out of stock\")\n",
        "\n",
        "## printing the inventory\n",
        "print(\"inventory list:\")\n",
        "for item in inventory:\n",
        "  print(f\"{item}\")"
      ],
      "metadata": {
        "id": "Cnw6YGPQ51xR",
        "colab": {
          "base_uri": "https://localhost:8080/"
        },
        "outputId": "17efdbd7-c397-4624-8fd8-4fcaf9425683"
      },
      "execution_count": 2,
      "outputs": [
        {
          "output_type": "stream",
          "name": "stdout",
          "text": [
            "oranges are in stock\n",
            "inventory list:\n",
            "apples\n",
            "oranges\n",
            "grapes\n",
            "strawberries\n"
          ]
        }
      ]
    },
    {
      "cell_type": "code",
      "source": [
        "## exmaple 4: collecting user feedback\n",
        "## use a list to collect and analyze user feedback\n",
        "\n",
        "feedback = [\"great service!\",\"very satisfied\",\"could be better\",\"excellent experience\"]\n",
        "\n",
        "## adding new feedback\n",
        "feedback.append(\"not happy with the service\")\n",
        "\n",
        "## counting specific feedback\n",
        "positive_feedback_count = sum(1 for comment in feedback if \"great\" in comment.lower() or \"excellent\" in comment.lower())\n",
        "print(f\"positive feedback count: {positive_feedback_count}\")\n",
        "\n",
        "## printing all feedback\n",
        "print(\"user feedback:\")\n",
        "for comment in feedback:\n",
        "  print(f\"{comment}\")"
      ],
      "metadata": {
        "colab": {
          "base_uri": "https://localhost:8080/"
        },
        "id": "iS15F0LzNQdL",
        "outputId": "cadc217c-1e9f-4941-a5f5-65748bd16cf1"
      },
      "execution_count": 3,
      "outputs": [
        {
          "output_type": "stream",
          "name": "stdout",
          "text": [
            "positive feedback count: 2\n",
            "user feedback:\n",
            "great service!\n",
            "very satisfied\n",
            "could be better\n",
            "excellent experience\n",
            "not happy with the service\n"
          ]
        }
      ]
    }
  ]
}