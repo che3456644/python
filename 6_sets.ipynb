{
  "nbformat": 4,
  "nbformat_minor": 0,
  "metadata": {
    "colab": {
      "provenance": []
    },
    "kernelspec": {
      "name": "python3",
      "display_name": "Python 3"
    },
    "language_info": {
      "name": "python"
    }
  },
  "cells": [
    {
      "cell_type": "code",
      "execution_count": null,
      "metadata": {
        "colab": {
          "base_uri": "https://localhost:8080/"
        },
        "id": "AdKGRDue5f3C",
        "outputId": "c87e74a4-a283-4e21-8b1e-4e0f03bcc366"
      },
      "outputs": [
        {
          "output_type": "stream",
          "name": "stdout",
          "text": [
            "{1, 2, 3, 4, 5}\n",
            "<class 'set'>\n"
          ]
        }
      ],
      "source": [
        "## create a set\n",
        "my_set={1,2,3,4,5}\n",
        "print(my_set)\n",
        "print(type(my_set))\n"
      ]
    },
    {
      "cell_type": "code",
      "source": [
        "my_empty_set=set()\n",
        "print(type(my_empty_set))"
      ],
      "metadata": {
        "colab": {
          "base_uri": "https://localhost:8080/"
        },
        "id": "hWLKNHgl50Vn",
        "outputId": "ef95f743-1dd6-46c8-8c50-f51ef8827bd4"
      },
      "execution_count": null,
      "outputs": [
        {
          "output_type": "stream",
          "name": "stdout",
          "text": [
            "<class 'set'>\n"
          ]
        }
      ]
    },
    {
      "cell_type": "code",
      "source": [
        "my_empty_set=set([1,2,3,6,3,2,1,4,4,5,6])\n",
        "print(my_empty_set)"
      ],
      "metadata": {
        "colab": {
          "base_uri": "https://localhost:8080/"
        },
        "id": "E98RThn66L65",
        "outputId": "cc761cb2-8a00-4b92-a8eb-a67b9e3925ee"
      },
      "execution_count": null,
      "outputs": [
        {
          "output_type": "stream",
          "name": "stdout",
          "text": [
            "{1, 2, 3, 4, 5, 6}\n"
          ]
        }
      ]
    },
    {
      "cell_type": "code",
      "source": [
        " ## basics sets operation\n",
        " ## adding and removing elements\n",
        "\n",
        " my_set.add(6)\n",
        " print(my_set)\n",
        " my_set.add(6)\n",
        " print(my_set)\n"
      ],
      "metadata": {
        "colab": {
          "base_uri": "https://localhost:8080/"
        },
        "id": "eQvXCxjP61XI",
        "outputId": "60b2597c-1c4b-4f3d-8ea8-4bf4f20dda5d"
      },
      "execution_count": null,
      "outputs": [
        {
          "output_type": "stream",
          "name": "stdout",
          "text": [
            "{1, 2, 3, 4, 5, 6}\n",
            "{1, 2, 3, 4, 5, 6}\n"
          ]
        }
      ]
    },
    {
      "cell_type": "code",
      "source": [
        "## remove the elements from a set\n",
        "my_set={1,2,3,4,5}\n",
        "my_set.remove(4)\n",
        "print(my_set)"
      ],
      "metadata": {
        "colab": {
          "base_uri": "https://localhost:8080/"
        },
        "id": "_1MlLCG07o8N",
        "outputId": "fb43f8aa-339a-44ff-d077-c2c41d697b86"
      },
      "execution_count": null,
      "outputs": [
        {
          "output_type": "stream",
          "name": "stdout",
          "text": [
            "{1, 2, 3, 5}\n"
          ]
        }
      ]
    },
    {
      "cell_type": "code",
      "source": [
        " ## pop method\n",
        " removed_element=my_set.pop()\n",
        " print(removed_element)\n",
        " print(my_set)"
      ],
      "metadata": {
        "colab": {
          "base_uri": "https://localhost:8080/"
        },
        "id": "mfwTy3si8VOG",
        "outputId": "313830b1-772f-4d6b-e532-bc90f6acbe67"
      },
      "execution_count": null,
      "outputs": [
        {
          "output_type": "stream",
          "name": "stdout",
          "text": [
            "1\n",
            "{2, 3, 5}\n"
          ]
        }
      ]
    },
    {
      "cell_type": "code",
      "source": [
        "## clear all the elements\n",
        "my_set.clear()\n",
        "print(my_set)"
      ],
      "metadata": {
        "colab": {
          "base_uri": "https://localhost:8080/"
        },
        "id": "bJjG48BZ_dvG",
        "outputId": "aed248cd-8eba-4e6e-8dbe-625a1e5508ad"
      },
      "execution_count": null,
      "outputs": [
        {
          "output_type": "stream",
          "name": "stdout",
          "text": [
            "set()\n"
          ]
        }
      ]
    },
    {
      "cell_type": "code",
      "source": [
        "## set membership test\n",
        "my_set={1,2,3,4,5}\n",
        "print(5 in my_set)\n",
        "print(11 in my_set)"
      ],
      "metadata": {
        "colab": {
          "base_uri": "https://localhost:8080/"
        },
        "id": "T5J7PMeNAD3r",
        "outputId": "612dbebc-bbed-4ec3-c8fe-96698617fca7"
      },
      "execution_count": null,
      "outputs": [
        {
          "output_type": "stream",
          "name": "stdout",
          "text": [
            "True\n",
            "False\n"
          ]
        }
      ]
    },
    {
      "cell_type": "code",
      "source": [
        "   ## mathematical operation\n",
        "   set1={1,2,3,4,5,6}\n",
        "   set2={5,6,7,8,9,10}\n",
        "\n",
        "   ## union\n",
        "   union_set=set1.union(set2)\n",
        "   print(union_set)\n",
        "\n",
        "   ## intersection\n",
        "   intersection_set=set1.intersection(set2)\n",
        "   print(intersection_set)\n",
        "\n",
        "   ## diffrence\n",
        "   print(set1.difference(set2))\n",
        "\n",
        "   ## symetric difference\n",
        "   set1.symmetric_difference(set2)\n",
        "\n"
      ],
      "metadata": {
        "colab": {
          "base_uri": "https://localhost:8080/"
        },
        "id": "5XGsxta0Aj-Y",
        "outputId": "a289d8c8-b167-43bb-de21-4ce4737bb5ef"
      },
      "execution_count": null,
      "outputs": [
        {
          "output_type": "stream",
          "name": "stdout",
          "text": [
            "{1, 2, 3, 4, 5, 6, 7, 8, 9, 10}\n",
            "{5, 6}\n",
            "{1, 2, 3, 4}\n"
          ]
        },
        {
          "output_type": "execute_result",
          "data": {
            "text/plain": [
              "{1, 2, 3, 4, 7, 8, 9, 10}"
            ]
          },
          "metadata": {},
          "execution_count": 55
        }
      ]
    },
    {
      "cell_type": "code",
      "source": [
        "## sets methods\n",
        "set1={1,2,3,4,5}\n",
        "set2={3,4,5}\n",
        "\n",
        "print(set1.issubset(set2))\n",
        "print(set1.issuperset(set2))"
      ],
      "metadata": {
        "colab": {
          "base_uri": "https://localhost:8080/"
        },
        "id": "x60cPimNBkxs",
        "outputId": "82c7b34e-3fe6-4969-eb5c-c13ca41793a0"
      },
      "execution_count": null,
      "outputs": [
        {
          "output_type": "stream",
          "name": "stdout",
          "text": [
            "False\n",
            "True\n"
          ]
        }
      ]
    },
    {
      "cell_type": "code",
      "source": [
        "## counting unique word in text\n",
        "\n",
        "text=\"in this tutorial we are discussing about sets\"\n",
        "words=text.split()\n",
        "\n",
        "## convert list of words to get unique words\n",
        "\n",
        "unique_words=set(words)\n",
        "print(unique_words)\n",
        "print(len(unique_words))"
      ],
      "metadata": {
        "colab": {
          "base_uri": "https://localhost:8080/"
        },
        "id": "UnL63uQaEJNu",
        "outputId": "1f46a412-1083-40ac-8c8a-eae15bfc764b"
      },
      "execution_count": null,
      "outputs": [
        {
          "output_type": "stream",
          "name": "stdout",
          "text": [
            "{'sets', 'tutorial', 'we', 'this', 'discussing', 'about', 'in', 'are'}\n",
            "8\n"
          ]
        }
      ]
    }
  ]
}