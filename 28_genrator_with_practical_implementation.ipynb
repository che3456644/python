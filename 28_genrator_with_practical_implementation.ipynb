{
  "nbformat": 4,
  "nbformat_minor": 0,
  "metadata": {
    "colab": {
      "provenance": []
    },
    "kernelspec": {
      "name": "python3",
      "display_name": "Python 3"
    },
    "language_info": {
      "name": "python"
    }
  },
  "cells": [
    {
      "cell_type": "markdown",
      "source": [
        "# Genrators\n",
        "Genrators are a simpler way to create iterators. They use the yield keyword to produce a series of values lazily, which means they genrate values on the fly and do not store them in memory"
      ],
      "metadata": {
        "id": "NIGofCTLPnyh"
      }
    },
    {
      "cell_type": "code",
      "execution_count": 26,
      "metadata": {
        "id": "HWZ8I9uVE6zU"
      },
      "outputs": [],
      "source": [
        "def square(n):\n",
        "  for i in range(3):\n",
        "    yield i**2"
      ]
    },
    {
      "cell_type": "code",
      "source": [
        "square(3)"
      ],
      "metadata": {
        "colab": {
          "base_uri": "https://localhost:8080/"
        },
        "id": "DuHJBVLuHb6o",
        "outputId": "9c8cedb0-9dfd-4f99-8d9d-cced9ee32cde"
      },
      "execution_count": 27,
      "outputs": [
        {
          "output_type": "execute_result",
          "data": {
            "text/plain": [
              "<generator object square at 0x7a441ef1af10>"
            ]
          },
          "metadata": {},
          "execution_count": 27
        }
      ]
    },
    {
      "cell_type": "code",
      "source": [
        "for i in square(3):\n",
        "  print(i)"
      ],
      "metadata": {
        "colab": {
          "base_uri": "https://localhost:8080/"
        },
        "id": "5Dfrx_12Hg7O",
        "outputId": "28d333a9-3ee8-416a-d91b-0fd871e8d926"
      },
      "execution_count": 28,
      "outputs": [
        {
          "output_type": "stream",
          "name": "stdout",
          "text": [
            "0\n",
            "1\n",
            "4\n"
          ]
        }
      ]
    },
    {
      "cell_type": "code",
      "source": [
        "a=square(3)\n",
        "a"
      ],
      "metadata": {
        "colab": {
          "base_uri": "https://localhost:8080/"
        },
        "id": "PjqzF8mXHvwp",
        "outputId": "5a0642e1-8dc1-46f1-dde4-2e17b8444201"
      },
      "execution_count": 29,
      "outputs": [
        {
          "output_type": "execute_result",
          "data": {
            "text/plain": [
              "<generator object square at 0x7a441ef1adc0>"
            ]
          },
          "metadata": {},
          "execution_count": 29
        }
      ]
    },
    {
      "cell_type": "code",
      "source": [
        "next(a)"
      ],
      "metadata": {
        "colab": {
          "base_uri": "https://localhost:8080/"
        },
        "id": "_wmy8nFnIIQ1",
        "outputId": "6d351d93-8181-4471-cfa0-7d286dc376e6"
      },
      "execution_count": 30,
      "outputs": [
        {
          "output_type": "execute_result",
          "data": {
            "text/plain": [
              "0"
            ]
          },
          "metadata": {},
          "execution_count": 30
        }
      ]
    },
    {
      "cell_type": "code",
      "source": [
        "def my_genrator():\n",
        "  yield 1\n",
        "  yield 2\n",
        "  yield 3"
      ],
      "metadata": {
        "id": "WExnN5_2IUY9"
      },
      "execution_count": 31,
      "outputs": []
    },
    {
      "cell_type": "code",
      "source": [
        "gen=my_genrator()\n",
        "gen"
      ],
      "metadata": {
        "colab": {
          "base_uri": "https://localhost:8080/"
        },
        "id": "9S4SSda1I3Hv",
        "outputId": "06daae2f-6d82-45e1-cfdb-328cfe4c28ac"
      },
      "execution_count": 32,
      "outputs": [
        {
          "output_type": "execute_result",
          "data": {
            "text/plain": [
              "<generator object my_genrator at 0x7a441ef1b060>"
            ]
          },
          "metadata": {},
          "execution_count": 32
        }
      ]
    },
    {
      "cell_type": "code",
      "source": [
        "next(gen)"
      ],
      "metadata": {
        "colab": {
          "base_uri": "https://localhost:8080/"
        },
        "id": "nWcCpHmaJAjV",
        "outputId": "6ef2f2bf-5c26-4979-9be2-13680a4a20b1"
      },
      "execution_count": 33,
      "outputs": [
        {
          "output_type": "execute_result",
          "data": {
            "text/plain": [
              "1"
            ]
          },
          "metadata": {},
          "execution_count": 33
        }
      ]
    },
    {
      "cell_type": "code",
      "source": [
        "for val in gen:\n",
        "  print(val)"
      ],
      "metadata": {
        "colab": {
          "base_uri": "https://localhost:8080/"
        },
        "id": "sIUA4mKkJCaF",
        "outputId": "28bed94d-0f58-43eb-cbc9-6d779ce7baf4"
      },
      "execution_count": 34,
      "outputs": [
        {
          "output_type": "stream",
          "name": "stdout",
          "text": [
            "2\n",
            "3\n"
          ]
        }
      ]
    },
    {
      "cell_type": "markdown",
      "source": [
        "# practical example : reading large files\n",
        "Genrators are particularly useful for reading large files because they allow you to process one line at a time without loading the entire file into memory."
      ],
      "metadata": {
        "id": "SCFgAMOxKDxJ"
      }
    },
    {
      "cell_type": "code",
      "source": [
        "## practical : reading large files\n",
        "\n",
        "def read_large_file(file_path):\n",
        "  with open(file_path,'r') as file:\n",
        "    for line in file:\n",
        "      yield line\n",
        "\n"
      ],
      "metadata": {
        "id": "ZBCvzNmkJrU5"
      },
      "execution_count": 35,
      "outputs": []
    },
    {
      "cell_type": "code",
      "source": [
        "file_path='/virat kohli.txt'\n",
        "\n",
        "for line in read_large_file(file_path):\n",
        "  print(line.strip())"
      ],
      "metadata": {
        "colab": {
          "base_uri": "https://localhost:8080/"
        },
        "id": "rc-fzsx5OQ9_",
        "outputId": "472e14a7-1f91-47d2-f0f6-99cc13a2cf05"
      },
      "execution_count": 39,
      "outputs": [
        {
          "output_type": "stream",
          "name": "stdout",
          "text": [
            "Virat Kohli (Hindi pronunciation: [ʋɪˈɾɑːʈ ˈkoːɦli] ⓘ; born 5 November 1988) is an Indian international cricketer who plays Test and One Day International (ODI) cricket for the Indian national team. A former captain in all formats, Kohli retired from Twenty20 International (T20I) following India's win at the 2024 T20 World Cup. He is a right-handed batsman and an occasional unorthodox right arm quick bowler. He represents Royal Challengers Bengaluru in the Indian Premier League (IPL) and Delhi in domestic cricket. He holds the record as the highest run-scorer in IPL, ranks third in T20I, third in ODI, and stands as the fourth-highest in international cricket.[5] He also holds the record for scoring the most centuries in ODI cricket and stands second in the list of most international centuries scored. Kohli is widely regarded as one of the greatest batsmen of all time and the greatest batsman in the modern era.[citation needed] Kohli was a key member of the Indian team that won the 2011 Cricket World Cup, 2013 Champions Trophy and 2024 T20 World Cup and captained India to win the ICC Test mace three consecutive times in 2017, 2018, and 2019.[6]\n",
            "\n",
            "In 2013, Kohli was ranked number one in the ICC rankings for ODI batsmen. In 2015, he achieved the summit of T20I rankings.[7] In 2018, he was ranked top Test batsman, making him the only Indian cricketer to hold the number one spot in all three formats of the game. He is the first player to score 20,000 runs in a decade. In 2020, the International Cricket Council named him the male cricketer of the decade.[8]\n",
            "\n",
            "Kohli has garnered 10 ICC Awards which is more than any player in International Cricket, making him the most decorated player in International Cricket history. He won the ICC ODI Player of the Year award four times in 2012, 2017, 2018, and 2023. He also won the Sir Garfield Sobers Trophy, given to the ICC Cricketer of the Year, on two occasions, in 2017 and 2018 respectively. In 2018, he became the first player to win both ICC ODI and Test Player of the Year awards in the same year. Also, he was named the Wisden Leading Cricketer in the World for three consecutive years, from 2016 to 2018. Kohli has the second most and most 'Player of the Match' and 'Player of the Series' awards to his name, respectively, in all three formats combined. At the national level, Kohli was honoured with the Arjuna Award in 2013, the Padma Shri in 2017, and India's highest sporting honour, the Khel Ratna Award, in 2018. In 2018, Time magazine included him on its list of the 100 most influential people in the world.\n",
            "\n",
            "After winning the 2024 T20 World Cup, Kohli announced his retirement from T20I.[9]\n",
            "\n",
            "Early life\n",
            "Virat Kohli was born on 5 November 1988 in Delhi into a Punjabi Hindu family. His father, Prem Nath Kohli, worked as a criminal lawyer, and his mother, Saroj Kohli, served as a housewife. He has an older brother, Vikas, and an older sister, Bhawna.[10] Kohli's formative years were spent in Uttam Nagar. He commenced his early education at Vishal Bharti Public School.[11] According to his family, Kohli exhibited an early affinity for cricket as a three-year-old. He would pick up a cricket bat and request his father to bowl to him.[12]\n"
          ]
        }
      ]
    }
  ]
}