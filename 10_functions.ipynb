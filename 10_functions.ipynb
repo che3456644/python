{
  "nbformat": 4,
  "nbformat_minor": 0,
  "metadata": {
    "colab": {
      "provenance": []
    },
    "kernelspec": {
      "name": "python3",
      "display_name": "Python 3"
    },
    "language_info": {
      "name": "python"
    }
  },
  "cells": [
    {
      "cell_type": "markdown",
      "source": [
        "FUNCTION :\n",
        "a function is a block of code that performs a specific task. fucntions help in organizing code, reusing code, and improving readability"
      ],
      "metadata": {
        "id": "kySE1juaG8Fl"
      }
    },
    {
      "cell_type": "code",
      "source": [
        "def function_name(parameters) :\n",
        "  \"\"\"docstring\"\"\"\n",
        "  # funciton body\n",
        "  return expression"
      ],
      "metadata": {
        "id": "xfGpf2zWHWtm"
      },
      "execution_count": 40,
      "outputs": []
    },
    {
      "cell_type": "code",
      "source": [
        "## why functions?\n",
        "\n",
        "num=24\n",
        "if num%2==0:\n",
        "  print(\"the number is even\")\n",
        "else:\n",
        "  print(\"the number is odd\")"
      ],
      "metadata": {
        "colab": {
          "base_uri": "https://localhost:8080/"
        },
        "id": "cHYpyDppF-NI",
        "outputId": "76506832-d1bb-4cb3-f8d8-79f4f3f8c241"
      },
      "execution_count": 41,
      "outputs": [
        {
          "output_type": "stream",
          "name": "stdout",
          "text": [
            "the number is even\n"
          ]
        }
      ]
    },
    {
      "cell_type": "code",
      "source": [
        "def even_or_odd(num):\n",
        "  \"\"\"this function finds even or odd\"\"\"\n",
        "  if num%2==0:\n",
        "    print(\"the number is even\")\n",
        "  else:\n",
        "    print(\"the number is odd\")"
      ],
      "metadata": {
        "id": "gfVQhoG3GjD9"
      },
      "execution_count": 42,
      "outputs": []
    },
    {
      "cell_type": "code",
      "source": [
        "## call this function\n",
        "even_or_odd(25)"
      ],
      "metadata": {
        "colab": {
          "base_uri": "https://localhost:8080/"
        },
        "id": "T6JpOPfRHueX",
        "outputId": "73d5ab10-9c6f-4932-a310-bde514979aeb"
      },
      "execution_count": 43,
      "outputs": [
        {
          "output_type": "stream",
          "name": "stdout",
          "text": [
            "the number is odd\n"
          ]
        }
      ]
    },
    {
      "cell_type": "code",
      "source": [
        "## function with multiple parameters\n",
        "\n",
        "def add (a,b):\n",
        "  return a+b\n",
        "\n",
        "result=add(2,4)\n",
        "print(result)"
      ],
      "metadata": {
        "colab": {
          "base_uri": "https://localhost:8080/"
        },
        "id": "iW9J1fTwH7KJ",
        "outputId": "1615d105-a476-4bd0-bc15-4232d3520aea"
      },
      "execution_count": 44,
      "outputs": [
        {
          "output_type": "stream",
          "name": "stdout",
          "text": [
            "6\n"
          ]
        }
      ]
    },
    {
      "cell_type": "code",
      "source": [
        "## default parameters\n",
        "\n",
        "def greet(name):\n",
        "  print(f\"hello {name} welcome to japan\")\n",
        "\n",
        "greet(\"chetan\")"
      ],
      "metadata": {
        "colab": {
          "base_uri": "https://localhost:8080/"
        },
        "id": "3PRZG_z6ItRF",
        "outputId": "2509669a-de3d-44f0-b7f0-671dd008dcb7"
      },
      "execution_count": 45,
      "outputs": [
        {
          "output_type": "stream",
          "name": "stdout",
          "text": [
            "hello chetan welcome to japan\n"
          ]
        }
      ]
    },
    {
      "cell_type": "code",
      "source": [
        "def greet(name=\"guest\"):\n",
        "  print(f\"hello {name} welcome to japan\")\n",
        "\n",
        "greet(\"chetan\")"
      ],
      "metadata": {
        "colab": {
          "base_uri": "https://localhost:8080/"
        },
        "id": "GXLN37IJJHz-",
        "outputId": "af64c0cb-e15b-47ba-d055-0a5bd6ab726b"
      },
      "execution_count": 46,
      "outputs": [
        {
          "output_type": "stream",
          "name": "stdout",
          "text": [
            "hello chetan welcome to japan\n"
          ]
        }
      ]
    },
    {
      "cell_type": "code",
      "source": [
        "## variable length arguments\n",
        "## positional arguments\n",
        "\n",
        "def print_numbers(*args):\n",
        "  for number in args:\n",
        "    print(number)"
      ],
      "metadata": {
        "id": "99YLvkzAJt1y"
      },
      "execution_count": 47,
      "outputs": []
    },
    {
      "cell_type": "code",
      "source": [
        "print_numbers(1,2,3,4,5,6,7,\"chetan\")"
      ],
      "metadata": {
        "colab": {
          "base_uri": "https://localhost:8080/"
        },
        "id": "Qr1fD66XL-wi",
        "outputId": "dc960812-19b4-4b11-877f-b0cdd2051293"
      },
      "execution_count": 48,
      "outputs": [
        {
          "output_type": "stream",
          "name": "stdout",
          "text": [
            "1\n",
            "2\n",
            "3\n",
            "4\n",
            "5\n",
            "6\n",
            "7\n",
            "chetan\n"
          ]
        }
      ]
    },
    {
      "cell_type": "code",
      "source": [
        "## keyword argument\n",
        "\n",
        "def print_details(**kwargs):\n",
        "  for key,value in kwargs.items():\n",
        "    print(f\"{key}:{value}\")"
      ],
      "metadata": {
        "id": "YsqCE2JXMHIs"
      },
      "execution_count": 49,
      "outputs": []
    },
    {
      "cell_type": "code",
      "source": [
        "print_details(name =\"chetan\", age =\"20\", gender=\"male\",country =\"india\")"
      ],
      "metadata": {
        "colab": {
          "base_uri": "https://localhost:8080/"
        },
        "id": "h8y95TcBNKJD",
        "outputId": "66c7cd60-772e-414d-ac9e-73b864aa3356"
      },
      "execution_count": 50,
      "outputs": [
        {
          "output_type": "stream",
          "name": "stdout",
          "text": [
            "name:chetan\n",
            "age:20\n",
            "gender:male\n",
            "country:india\n"
          ]
        }
      ]
    },
    {
      "cell_type": "code",
      "source": [
        "## postional and keyword argument\n",
        "\n",
        "def print_details(*args,**kwargs):\n",
        "  for number in args:\n",
        "    print(f\"postional argument : {number}\")\n",
        "  for key,value in kwargs.items():\n",
        "    print(f\"keyword argument : {key}:{value}\")"
      ],
      "metadata": {
        "id": "7vAJILhbN109"
      },
      "execution_count": 51,
      "outputs": []
    },
    {
      "cell_type": "code",
      "source": [
        "print_details(1,2,3,4,5,6,7,\"chetan\",name =\"chetan\", age =\"20\", gender=\"male\",country =\"india\")"
      ],
      "metadata": {
        "colab": {
          "base_uri": "https://localhost:8080/"
        },
        "id": "ObymVTtROwHx",
        "outputId": "a654069e-6dcb-4256-ea39-a5cdd47971c0"
      },
      "execution_count": 52,
      "outputs": [
        {
          "output_type": "stream",
          "name": "stdout",
          "text": [
            "postional argument : 1\n",
            "postional argument : 2\n",
            "postional argument : 3\n",
            "postional argument : 4\n",
            "postional argument : 5\n",
            "postional argument : 6\n",
            "postional argument : 7\n",
            "postional argument : chetan\n",
            "keyword argument : name:chetan\n",
            "keyword argument : age:20\n",
            "keyword argument : gender:male\n",
            "keyword argument : country:india\n"
          ]
        }
      ]
    },
    {
      "cell_type": "code",
      "source": [
        "## return multiple statements\n",
        "def multiply(a,b):\n",
        "  return a*b,a\n",
        "multiply(3,6)"
      ],
      "metadata": {
        "colab": {
          "base_uri": "https://localhost:8080/"
        },
        "id": "yKWuv71QP3ni",
        "outputId": "6c581e68-f515-484c-b822-d70362fea92f"
      },
      "execution_count": 53,
      "outputs": [
        {
          "output_type": "execute_result",
          "data": {
            "text/plain": [
              "(18, 3)"
            ]
          },
          "metadata": {},
          "execution_count": 53
        }
      ]
    }
  ]
}
