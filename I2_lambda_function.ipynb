{
  "nbformat": 4,
  "nbformat_minor": 0,
  "metadata": {
    "colab": {
      "provenance": []
    },
    "kernelspec": {
      "name": "python3",
      "display_name": "Python 3"
    },
    "language_info": {
      "name": "python"
    }
  },
  "cells": [
    {
      "cell_type": "markdown",
      "source": [
        "**Lambda functions in python - lambda functions are small anonymoous functions defined using the lambda keyword. they can have any number of arguments but only one expression. they are commonly used for short operations or as arguments to higher-order fucntions.**"
      ],
      "metadata": {
        "id": "Mpi1zDcWyCgA"
      }
    },
    {
      "cell_type": "code",
      "source": [
        "## syntax\n",
        "lambda arguments: expression\n"
      ],
      "metadata": {
        "colab": {
          "base_uri": "https://localhost:8080/"
        },
        "id": "V9KeNzx6y4Nw",
        "outputId": "01b3e162-1c0a-41bd-e7e0-b1a1f0e8280e"
      },
      "execution_count": 1,
      "outputs": [
        {
          "output_type": "execute_result",
          "data": {
            "text/plain": [
              "<function __main__.<lambda>(arguments)>"
            ]
          },
          "metadata": {},
          "execution_count": 1
        }
      ]
    },
    {
      "cell_type": "code",
      "source": [
        "addition=lambda a,b:a+b\n",
        "type(addition)\n",
        "print(addition(7,8))"
      ],
      "metadata": {
        "colab": {
          "base_uri": "https://localhost:8080/"
        },
        "id": "EIxT1y4dzyv6",
        "outputId": "b44271e7-79b1-41bc-aa4d-e560696b6794"
      },
      "execution_count": 4,
      "outputs": [
        {
          "output_type": "stream",
          "name": "stdout",
          "text": [
            "15\n"
          ]
        }
      ]
    },
    {
      "cell_type": "code",
      "source": [
        "def even(num): ## ---> using function\n",
        "  if num%2==0:\n",
        "    return True\n",
        "  else:\n",
        "    return False\n",
        "even(22)"
      ],
      "metadata": {
        "colab": {
          "base_uri": "https://localhost:8080/"
        },
        "id": "BASZWAbuz_cd",
        "outputId": "adbe64fa-e871-4923-9ff2-8db932e98b3f"
      },
      "execution_count": 18,
      "outputs": [
        {
          "output_type": "execute_result",
          "data": {
            "text/plain": [
              "True"
            ]
          },
          "metadata": {},
          "execution_count": 18
        }
      ]
    },
    {
      "cell_type": "code",
      "source": [
        "even1=lambda c:num%2==0 ## ---> using lambda function\n",
        "even(16)"
      ],
      "metadata": {
        "colab": {
          "base_uri": "https://localhost:8080/"
        },
        "id": "tlD3Qw5E0fnf",
        "outputId": "c7159cba-8945-4e06-8d52-9769ef9d8e8c"
      },
      "execution_count": 21,
      "outputs": [
        {
          "output_type": "execute_result",
          "data": {
            "text/plain": [
              "True"
            ]
          },
          "metadata": {},
          "execution_count": 21
        }
      ]
    },
    {
      "cell_type": "code",
      "source": [
        "def addition(x,y,z): ## ---> using function\n",
        "  return x+y+z\n",
        "addition(12,14,15)"
      ],
      "metadata": {
        "colab": {
          "base_uri": "https://localhost:8080/"
        },
        "id": "ZhA8mJil1VIN",
        "outputId": "3d417838-8f39-4871-df00-50ddd80d6db1"
      },
      "execution_count": 23,
      "outputs": [
        {
          "output_type": "execute_result",
          "data": {
            "text/plain": [
              "41"
            ]
          },
          "metadata": {},
          "execution_count": 23
        }
      ]
    },
    {
      "cell_type": "code",
      "source": [
        "addition1=lambda x,y,z:x+y+z ## ---> using lambda function\n",
        "addition(12,14,15)"
      ],
      "metadata": {
        "colab": {
          "base_uri": "https://localhost:8080/"
        },
        "id": "Au3Ag_OB2OfH",
        "outputId": "abd3c6b8-9538-4a4e-a6fe-416a77491287"
      },
      "execution_count": 24,
      "outputs": [
        {
          "output_type": "execute_result",
          "data": {
            "text/plain": [
              "41"
            ]
          },
          "metadata": {},
          "execution_count": 24
        }
      ]
    },
    {
      "cell_type": "code",
      "source": [
        "## map() ---> applies a function to all items in a list\n",
        "numbers=[1,2,3,4,5,6]\n",
        "def square(numbers):\n",
        "  return numbers**2\n",
        "\n",
        "square(8)"
      ],
      "metadata": {
        "colab": {
          "base_uri": "https://localhost:8080/"
        },
        "id": "k7MrBK7b2sA8",
        "outputId": "fb12d4bd-33d0-40c9-a832-9aa6ae10cf8b"
      },
      "execution_count": 27,
      "outputs": [
        {
          "output_type": "execute_result",
          "data": {
            "text/plain": [
              "64"
            ]
          },
          "metadata": {},
          "execution_count": 27
        }
      ]
    },
    {
      "cell_type": "code",
      "source": [
        "list(map(lambda x:x**2,numbers))\n"
      ],
      "metadata": {
        "colab": {
          "base_uri": "https://localhost:8080/"
        },
        "id": "QfRQnL8v3Lg4",
        "outputId": "3c308fa0-3464-4cd0-b713-2fbf8d8411e2"
      },
      "execution_count": 30,
      "outputs": [
        {
          "output_type": "execute_result",
          "data": {
            "text/plain": [
              "[1, 4, 9, 16, 25, 36]"
            ]
          },
          "metadata": {},
          "execution_count": 30
        }
      ]
    }
  ]
}