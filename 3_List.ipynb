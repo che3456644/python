{
  "nbformat": 4,
  "nbformat_minor": 0,
  "metadata": {
    "colab": {
      "provenance": []
    },
    "kernelspec": {
      "name": "python3",
      "display_name": "Python 3"
    },
    "language_info": {
      "name": "python"
    }
  },
  "cells": [
    {
      "cell_type": "markdown",
      "source": [
        "# ***3_list***"
      ],
      "metadata": {
        "id": "CY8RQb2HisLe"
      }
    },
    {
      "cell_type": "code",
      "execution_count": 102,
      "metadata": {
        "colab": {
          "base_uri": "https://localhost:8080/"
        },
        "id": "ZRS-I-nGhx3R",
        "outputId": "e7f4c566-ceb1-4574-8168-06df82aec420"
      },
      "outputs": [
        {
          "output_type": "stream",
          "name": "stdout",
          "text": [
            "<class 'list'>\n"
          ]
        }
      ],
      "source": [
        "lst=[]\n",
        "print(type(lst))"
      ]
    },
    {
      "cell_type": "code",
      "source": [
        "names=[\"chetan\",\"bhagat\",5,3,4]\n",
        "print(names)"
      ],
      "metadata": {
        "colab": {
          "base_uri": "https://localhost:8080/"
        },
        "id": "2wU1sn6lkPHp",
        "outputId": "d42587ad-7065-4a47-9110-658a325040ec"
      },
      "execution_count": 103,
      "outputs": [
        {
          "output_type": "stream",
          "name": "stdout",
          "text": [
            "['chetan', 'bhagat', 5, 3, 4]\n"
          ]
        }
      ]
    },
    {
      "cell_type": "code",
      "source": [
        "mixed_list=[1,\"chetan\",2.2]\n",
        "print(mixed_list)"
      ],
      "metadata": {
        "colab": {
          "base_uri": "https://localhost:8080/"
        },
        "id": "yo3bo1I-kpci",
        "outputId": "1268aeaf-549a-4e20-fa23-c7c8f127b528"
      },
      "execution_count": 104,
      "outputs": [
        {
          "output_type": "stream",
          "name": "stdout",
          "text": [
            "[1, 'chetan', 2.2]\n"
          ]
        }
      ]
    },
    {
      "cell_type": "code",
      "source": [
        "# accessing list elements\n",
        "\n",
        "fruits = [\"apple\",\"cherry\",\"bannana\",\"guava\",\"mango\"]\n"
      ],
      "metadata": {
        "id": "4ELxUt2Mk4Gp"
      },
      "execution_count": 105,
      "outputs": []
    },
    {
      "cell_type": "code",
      "source": [
        "print(fruits[0])\n",
        "print(fruits[1])\n",
        "print(fruits[2])\n",
        "print(fruits[3])\n",
        "print(fruits[-1])"
      ],
      "metadata": {
        "colab": {
          "base_uri": "https://localhost:8080/"
        },
        "id": "0wHWOf4clSHe",
        "outputId": "463d245b-430c-4261-c94c-cbaafead9f74"
      },
      "execution_count": 106,
      "outputs": [
        {
          "output_type": "stream",
          "name": "stdout",
          "text": [
            "apple\n",
            "cherry\n",
            "bannana\n",
            "guava\n",
            "mango\n"
          ]
        }
      ]
    },
    {
      "cell_type": "code",
      "source": [
        "print(fruits[1:])\n",
        "print(fruits[1:3])\n",
        "print(fruits[-1:2])\n"
      ],
      "metadata": {
        "colab": {
          "base_uri": "https://localhost:8080/"
        },
        "id": "iiprsiSYlWUk",
        "outputId": "6e6aaf82-4abc-4fe8-e00b-c2cb280ce3aa"
      },
      "execution_count": 107,
      "outputs": [
        {
          "output_type": "stream",
          "name": "stdout",
          "text": [
            "['cherry', 'bannana', 'guava', 'mango']\n",
            "['cherry', 'bannana']\n",
            "[]\n"
          ]
        }
      ]
    },
    {
      "cell_type": "code",
      "source": [
        "## modifying the list elements\n",
        "\n",
        "fruits[1]=\"watermelon\"\n",
        "print(fruits)"
      ],
      "metadata": {
        "colab": {
          "base_uri": "https://localhost:8080/"
        },
        "id": "ox0f_OF9l1my",
        "outputId": "b83403d2-3972-4524-af1f-72cfa80955d2"
      },
      "execution_count": 108,
      "outputs": [
        {
          "output_type": "stream",
          "name": "stdout",
          "text": [
            "['apple', 'watermelon', 'bannana', 'guava', 'mango']\n"
          ]
        }
      ]
    },
    {
      "cell_type": "code",
      "source": [
        "## list methods\n",
        "\n",
        "fruits.append(\"orange\") ## add an item to the end\n",
        "print(fruits)"
      ],
      "metadata": {
        "colab": {
          "base_uri": "https://localhost:8080/"
        },
        "id": "_pNVVPSxmwly",
        "outputId": "d23af827-98f8-41dc-9200-5576f2d567ac"
      },
      "execution_count": 109,
      "outputs": [
        {
          "output_type": "stream",
          "name": "stdout",
          "text": [
            "['apple', 'watermelon', 'bannana', 'guava', 'mango', 'orange']\n"
          ]
        }
      ]
    },
    {
      "cell_type": "code",
      "source": [
        "fruits.insert(1,\"kiwi\")\n",
        "print(fruits)"
      ],
      "metadata": {
        "colab": {
          "base_uri": "https://localhost:8080/"
        },
        "id": "hzQq6fGTnQm-",
        "outputId": "e5d0f9da-0925-40eb-9709-3204c27fc19d"
      },
      "execution_count": 110,
      "outputs": [
        {
          "output_type": "stream",
          "name": "stdout",
          "text": [
            "['apple', 'kiwi', 'watermelon', 'bannana', 'guava', 'mango', 'orange']\n"
          ]
        }
      ]
    },
    {
      "cell_type": "code",
      "source": [
        "fruits.remove(\"kiwi\")\n",
        "print(fruits)"
      ],
      "metadata": {
        "colab": {
          "base_uri": "https://localhost:8080/"
        },
        "id": "MLgvTEo9nfT7",
        "outputId": "f8a0dcb5-2d87-47e1-81e6-c43473ea4413"
      },
      "execution_count": 111,
      "outputs": [
        {
          "output_type": "stream",
          "name": "stdout",
          "text": [
            "['apple', 'watermelon', 'bannana', 'guava', 'mango', 'orange']\n"
          ]
        }
      ]
    },
    {
      "cell_type": "code",
      "source": [
        "## remove and return the last item\n",
        "\n",
        "popped_fruits = fruits.pop()\n",
        "print(popped_fruits)\n",
        "print(fruits)"
      ],
      "metadata": {
        "colab": {
          "base_uri": "https://localhost:8080/"
        },
        "id": "2q7ArSxJnv93",
        "outputId": "c8f289ff-7c9c-4fa8-9536-c229085c654c"
      },
      "execution_count": 112,
      "outputs": [
        {
          "output_type": "stream",
          "name": "stdout",
          "text": [
            "orange\n",
            "['apple', 'watermelon', 'bannana', 'guava', 'mango']\n"
          ]
        }
      ]
    },
    {
      "cell_type": "code",
      "source": [
        "index = fruits.index(\"guava\")\n",
        "print(index)"
      ],
      "metadata": {
        "colab": {
          "base_uri": "https://localhost:8080/"
        },
        "id": "JIkO7rj4oSoq",
        "outputId": "3a3d452f-7ecf-405e-a181-bcf18406eecb"
      },
      "execution_count": 113,
      "outputs": [
        {
          "output_type": "stream",
          "name": "stdout",
          "text": [
            "3\n"
          ]
        }
      ]
    },
    {
      "cell_type": "code",
      "source": [
        "fruits.insert(2,\"watermelon\")\n",
        "print(fruits.count(\"watermelon\"))\n"
      ],
      "metadata": {
        "colab": {
          "base_uri": "https://localhost:8080/"
        },
        "id": "IKcPXN9zo9RA",
        "outputId": "6cdb142d-f195-4f6e-ce3e-a75456920dba"
      },
      "execution_count": 114,
      "outputs": [
        {
          "output_type": "stream",
          "name": "stdout",
          "text": [
            "2\n"
          ]
        }
      ]
    },
    {
      "cell_type": "code",
      "source": [
        "fruits"
      ],
      "metadata": {
        "colab": {
          "base_uri": "https://localhost:8080/"
        },
        "id": "uIEUnmmwplKc",
        "outputId": "db30395b-d041-40fc-830b-029db03a891e"
      },
      "execution_count": 115,
      "outputs": [
        {
          "output_type": "execute_result",
          "data": {
            "text/plain": [
              "['apple', 'watermelon', 'watermelon', 'bannana', 'guava', 'mango']"
            ]
          },
          "metadata": {},
          "execution_count": 115
        }
      ]
    },
    {
      "cell_type": "code",
      "source": [
        "fruits.sort() ## sorts the list in ascending order\n"
      ],
      "metadata": {
        "id": "YRhalF8WqMbt"
      },
      "execution_count": 116,
      "outputs": []
    },
    {
      "cell_type": "code",
      "source": [
        "fruits"
      ],
      "metadata": {
        "colab": {
          "base_uri": "https://localhost:8080/"
        },
        "id": "0rTgmTZLqTN9",
        "outputId": "4353abd7-9679-48e7-fd28-1eda4599abd0"
      },
      "execution_count": 117,
      "outputs": [
        {
          "output_type": "execute_result",
          "data": {
            "text/plain": [
              "['apple', 'bannana', 'guava', 'mango', 'watermelon', 'watermelon']"
            ]
          },
          "metadata": {},
          "execution_count": 117
        }
      ]
    },
    {
      "cell_type": "code",
      "source": [
        "fruits.reverse() ## reverse the list\n",
        "print(fruits)"
      ],
      "metadata": {
        "colab": {
          "base_uri": "https://localhost:8080/"
        },
        "id": "Mzi6Vh4AqYF3",
        "outputId": "ce656b63-a9cd-41ec-d47b-86b9a9efdd14"
      },
      "execution_count": 118,
      "outputs": [
        {
          "output_type": "stream",
          "name": "stdout",
          "text": [
            "['watermelon', 'watermelon', 'mango', 'guava', 'bannana', 'apple']\n"
          ]
        }
      ]
    },
    {
      "cell_type": "code",
      "source": [
        "fruits.clear() ## remove all items from the list\n",
        "print(fruits)"
      ],
      "metadata": {
        "colab": {
          "base_uri": "https://localhost:8080/"
        },
        "id": "vBGA05lnqvmo",
        "outputId": "5f929567-3cf6-4dc0-c9bd-d52cab14ed36"
      },
      "execution_count": 119,
      "outputs": [
        {
          "output_type": "stream",
          "name": "stdout",
          "text": [
            "[]\n"
          ]
        }
      ]
    },
    {
      "cell_type": "code",
      "source": [
        "## slicing list\n",
        "numbers = [1,2,3,4,5,6,7,8,9,10]\n",
        "print(numbers[2:5])\n",
        "print(numbers[:5])\n",
        "print(numbers[5:])\n",
        "print(numbers[::2])\n",
        "print(numbers[::-1])\n",
        "print(numbers[::-2])\n"
      ],
      "metadata": {
        "colab": {
          "base_uri": "https://localhost:8080/"
        },
        "id": "RcGtDZQpqzg1",
        "outputId": "d6fe7a8e-4130-4fdd-b0fc-8967ead7244c"
      },
      "execution_count": 120,
      "outputs": [
        {
          "output_type": "stream",
          "name": "stdout",
          "text": [
            "[3, 4, 5]\n",
            "[1, 2, 3, 4, 5]\n",
            "[6, 7, 8, 9, 10]\n",
            "[1, 3, 5, 7, 9]\n",
            "[10, 9, 8, 7, 6, 5, 4, 3, 2, 1]\n",
            "[10, 8, 6, 4, 2]\n"
          ]
        }
      ]
    },
    {
      "cell_type": "code",
      "source": [
        "### iterating over list\n",
        "\n",
        "for numbers in numbers:\n",
        "  print(numbers)"
      ],
      "metadata": {
        "colab": {
          "base_uri": "https://localhost:8080/"
        },
        "id": "Jg03D0qTrxLU",
        "outputId": "29f60275-5f2c-44cc-cc95-9f4b0b54419f"
      },
      "execution_count": 121,
      "outputs": [
        {
          "output_type": "stream",
          "name": "stdout",
          "text": [
            "1\n",
            "2\n",
            "3\n",
            "4\n",
            "5\n",
            "6\n",
            "7\n",
            "8\n",
            "9\n",
            "10\n"
          ]
        }
      ]
    },
    {
      "cell_type": "code",
      "source": [
        "## iterating with index\n",
        "numbers = [1,2,3,4,5,6,7,8,9,10]\n",
        "for index,number in enumerate(numbers):\n",
        "    print(index,number)"
      ],
      "metadata": {
        "colab": {
          "base_uri": "https://localhost:8080/"
        },
        "id": "CQzxT9R9teO7",
        "outputId": "e8b0befe-7597-49cc-8f50-a2fb3736b449"
      },
      "execution_count": 124,
      "outputs": [
        {
          "output_type": "stream",
          "name": "stdout",
          "text": [
            "0 1\n",
            "1 2\n",
            "2 3\n",
            "3 4\n",
            "4 5\n",
            "5 6\n",
            "6 7\n",
            "7 8\n",
            "8 9\n",
            "9 10\n"
          ]
        }
      ]
    },
    {
      "cell_type": "code",
      "source": [
        "## list comprehension\n",
        "lst=[]\n",
        "for x in range(10):\n",
        "  lst.append(x**2)\n",
        "\n",
        "print(lst)"
      ],
      "metadata": {
        "colab": {
          "base_uri": "https://localhost:8080/"
        },
        "id": "1hlWNAK7tvDj",
        "outputId": "1b0e22cd-30da-4aba-f18d-d8001b187c79"
      },
      "execution_count": 125,
      "outputs": [
        {
          "output_type": "stream",
          "name": "stdout",
          "text": [
            "[0, 1, 4, 9, 16, 25, 36, 49, 64, 81]\n"
          ]
        }
      ]
    },
    {
      "cell_type": "code",
      "source": [
        "## list comprehension\n",
        "'''\n",
        "basics syntax               [expression for item in iterable]\n",
        "with conditional logic      [expression for item in iterable if condition]\n",
        "nested list comprehension   [expression for item 1 in iterable 1 for item 2 in iterable2]\n",
        "'''"
      ],
      "metadata": {
        "id": "YHsO2_Tiwcur"
      },
      "execution_count": null,
      "outputs": []
    },
    {
      "cell_type": "code",
      "source": [
        "### basic list comprehension\n",
        "\n",
        "square=[num**2 for num in range(10)]\n",
        "print(square)\n",
        "\n"
      ],
      "metadata": {
        "colab": {
          "base_uri": "https://localhost:8080/"
        },
        "id": "GcR6YKfHyTOO",
        "outputId": "0e25807e-144d-4515-9bae-d7e860f4dc0c"
      },
      "execution_count": 126,
      "outputs": [
        {
          "output_type": "stream",
          "name": "stdout",
          "text": [
            "[0, 1, 4, 9, 16, 25, 36, 49, 64, 81]\n"
          ]
        }
      ]
    },
    {
      "cell_type": "code",
      "source": [
        "## list comprehension with condition\n",
        "\n",
        "lst=[]\n",
        "for i in range(10):\n",
        "  if i%2==0:\n",
        "    lst.append(i)\n",
        "print(lst)"
      ],
      "metadata": {
        "colab": {
          "base_uri": "https://localhost:8080/"
        },
        "id": "A0yK-9DbzMvt",
        "outputId": "b58c8e4f-f026-4ea1-a1c8-cab555d45267"
      },
      "execution_count": 128,
      "outputs": [
        {
          "output_type": "stream",
          "name": "stdout",
          "text": [
            "[0, 2, 4, 6, 8]\n"
          ]
        }
      ]
    },
    {
      "cell_type": "code",
      "source": [
        "even_numbers=[num for num in range(10) if num%2==0]\n",
        "print(even_numbers)"
      ],
      "metadata": {
        "colab": {
          "base_uri": "https://localhost:8080/"
        },
        "id": "Vaqrbx3dzvsk",
        "outputId": "8f458cea-62e7-414e-a0f6-1f594a2e989e"
      },
      "execution_count": 130,
      "outputs": [
        {
          "output_type": "stream",
          "name": "stdout",
          "text": [
            "[0, 2, 4, 6, 8]\n"
          ]
        }
      ]
    },
    {
      "cell_type": "code",
      "source": [
        "## nested list comprehnsion\n",
        "\n",
        "lst1=[1,2,3,4]\n",
        "lst2=[\"a\",\"b\",\"c\",\"d\"]\n",
        "\n",
        "pair=[[i,j] for i in lst1 for j in lst2]\n",
        "\n",
        "print(pair)\n",
        "\n"
      ],
      "metadata": {
        "colab": {
          "base_uri": "https://localhost:8080/"
        },
        "id": "h_WQmaoi0JkZ",
        "outputId": "771133a1-8c29-45df-a6e0-7c0693637ce4"
      },
      "execution_count": 131,
      "outputs": [
        {
          "output_type": "stream",
          "name": "stdout",
          "text": [
            "[[1, 'a'], [1, 'b'], [1, 'c'], [1, 'd'], [2, 'a'], [2, 'b'], [2, 'c'], [2, 'd'], [3, 'a'], [3, 'b'], [3, 'c'], [3, 'd'], [4, 'a'], [4, 'b'], [4, 'c'], [4, 'd']]\n"
          ]
        }
      ]
    }
  ]
}