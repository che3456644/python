{
  "nbformat": 4,
  "nbformat_minor": 0,
  "metadata": {
    "colab": {
      "provenance": []
    },
    "kernelspec": {
      "name": "python3",
      "display_name": "Python 3"
    },
    "language_info": {
      "name": "python"
    }
  },
  "cells": [
    {
      "cell_type": "markdown",
      "source": [
        "# SQL AND SQLITE\n",
        "SQL (structured querry language) is a standard langurage for mangaing and manipulating relational databases. sqlite is a self-contained ,services,and zero-configuration database engine that iss widely used for embedded databse systems."
      ],
      "metadata": {
        "id": "Cm1_UyG_GLi1"
      }
    },
    {
      "cell_type": "code",
      "source": [
        "import sqlite3"
      ],
      "metadata": {
        "id": "xzt6iVu7GzL-"
      },
      "execution_count": 20,
      "outputs": []
    },
    {
      "cell_type": "code",
      "source": [
        "## connect to an sqlite database\n",
        "\n",
        "connection=sqlite3.connect('exmaple.db')\n",
        "connection"
      ],
      "metadata": {
        "colab": {
          "base_uri": "https://localhost:8080/"
        },
        "id": "SzkUgwrEG4IZ",
        "outputId": "883ba7e5-c1e8-450c-f7bf-5f3fa881f6b7"
      },
      "execution_count": 21,
      "outputs": [
        {
          "output_type": "execute_result",
          "data": {
            "text/plain": [
              "<sqlite3.Connection at 0x797606df8f40>"
            ]
          },
          "metadata": {},
          "execution_count": 21
        }
      ]
    },
    {
      "cell_type": "code",
      "source": [
        "cursor=connection.cursor()"
      ],
      "metadata": {
        "id": "SBAFT0jEHHNo"
      },
      "execution_count": 22,
      "outputs": []
    },
    {
      "cell_type": "code",
      "source": [
        "## create a table\n",
        "\n",
        "cursor.execute('''\n",
        "create table if not exists employees(\n",
        "  id integer primary key,\n",
        "  name text not null,\n",
        "  age integer,\n",
        "  department text\n",
        "   )\n",
        "''')\n",
        "\n",
        "## commit the changes\n",
        "\n",
        "connection.commit()"
      ],
      "metadata": {
        "id": "BSSt69bAHWNb"
      },
      "execution_count": 23,
      "outputs": []
    },
    {
      "cell_type": "code",
      "source": [
        "cursor.execute('''\n",
        "select * from employees\n",
        "''')"
      ],
      "metadata": {
        "colab": {
          "base_uri": "https://localhost:8080/"
        },
        "id": "LWAEZ2zuIbGe",
        "outputId": "7ad91a48-d067-48d5-c573-41d550f1741b"
      },
      "execution_count": 24,
      "outputs": [
        {
          "output_type": "execute_result",
          "data": {
            "text/plain": [
              "<sqlite3.Cursor at 0x7975e9a740c0>"
            ]
          },
          "metadata": {},
          "execution_count": 24
        }
      ]
    },
    {
      "cell_type": "code",
      "source": [
        "## insert the data in sqlite table\n",
        "cursor.execute('''\n",
        "insert into employees(name,age,department)\n",
        "values('chetan',20,'artificial intelligence and data science(AI&DS)')\n",
        "''')\n",
        "\n",
        "cursor.execute('''\n",
        "insert into employees(name,age,department)\n",
        "values('gaurav',20,'electronics and telecommunication(ETC)')\n",
        "''')\n",
        "\n",
        "cursor.execute('''\n",
        "insert into employees(name,age,department)\n",
        "values('dhananjay',20,'information technology(IT)')\n",
        "''')\n",
        "\n",
        "## commit the changes\n",
        "connection.commit()\n"
      ],
      "metadata": {
        "id": "hwEH0ccvI1Ix"
      },
      "execution_count": 34,
      "outputs": []
    },
    {
      "cell_type": "code",
      "source": [
        "## query the data form the table\n",
        "\n",
        "cursor.execute('select *  from employees')\n",
        "rows=cursor.fetchall()\n",
        "\n",
        "## pirnt the queried data\n",
        "\n",
        "for row in rows:\n",
        "  print(row)\n"
      ],
      "metadata": {
        "colab": {
          "base_uri": "https://localhost:8080/"
        },
        "id": "wGgvR8jfKR0X",
        "outputId": "04163eff-475b-4d52-cd33-e607aecc864d"
      },
      "execution_count": 35,
      "outputs": [
        {
          "output_type": "stream",
          "name": "stdout",
          "text": [
            "(1, 'chetan', 20, 'artificial intelligence and data science')\n",
            "(2, 'chetan', 20, 'artificial intelligence and data science(AI&DS)')\n",
            "(3, 'gaurav', 20, 'electronics and telecommunication(ETC)')\n",
            "(4, 'dhananjay', 20, 'information technology(IT)')\n",
            "(5, 'chetan', 20, 'artificial intelligence and data science(AI&DS)')\n",
            "(6, 'gaurav', 20, 'electronics and telecommunication(ETC)')\n",
            "(7, 'dhananjay', 20, 'information technology(IT)')\n",
            "(8, 'chetan', 20, 'artificial intelligence and data science(AI&DS)')\n",
            "(9, 'gaurav', 20, 'electronics and telecommunication(ETC)')\n",
            "(10, 'dhananjay', 20, 'information technology(IT)')\n",
            "(11, 'chetan', 20, 'artificial intelligence and data science(AI&DS)')\n",
            "(12, 'gaurav', 20, 'electronics and telecommunication(ETC)')\n",
            "(13, 'dhananjay', 20, 'information technology(IT)')\n",
            "(14, 'chetan', 20, 'artificial intelligence and data science(AI&DS)')\n",
            "(15, 'gaurav', 20, 'electronics and telecommunication(ETC)')\n",
            "(16, 'dhananjay', 20, 'information technology(IT)')\n"
          ]
        }
      ]
    },
    {
      "cell_type": "code",
      "source": [
        "## update the data in the table\n",
        "\n",
        "cursor.execute('''\n",
        "update employees\n",
        "set age=21\n",
        "where name=\"chetan\"\n",
        "''')\n",
        "connection.commit()"
      ],
      "metadata": {
        "id": "3qTqUl6JMqXw"
      },
      "execution_count": 39,
      "outputs": []
    },
    {
      "cell_type": "code",
      "source": [
        "## query the data form the table\n",
        "\n",
        "cursor.execute('select *  from employees')\n",
        "rows=cursor.fetchall()\n",
        "\n",
        "## pirnt the queried data\n",
        "\n",
        "for row in rows:\n",
        "  print(row)"
      ],
      "metadata": {
        "colab": {
          "base_uri": "https://localhost:8080/"
        },
        "id": "lXeW1rm8NUQJ",
        "outputId": "77515ec4-e715-4a90-f2b7-bd220958aa4f"
      },
      "execution_count": 41,
      "outputs": [
        {
          "output_type": "stream",
          "name": "stdout",
          "text": [
            "(1, 'chetan', 21, 'artificial intelligence and data science')\n",
            "(2, 'chetan', 21, 'artificial intelligence and data science(AI&DS)')\n",
            "(3, 'gaurav', 20, 'electronics and telecommunication(ETC)')\n",
            "(4, 'dhananjay', 20, 'information technology(IT)')\n",
            "(5, 'chetan', 21, 'artificial intelligence and data science(AI&DS)')\n",
            "(6, 'gaurav', 20, 'electronics and telecommunication(ETC)')\n",
            "(7, 'dhananjay', 20, 'information technology(IT)')\n",
            "(8, 'chetan', 21, 'artificial intelligence and data science(AI&DS)')\n",
            "(9, 'gaurav', 20, 'electronics and telecommunication(ETC)')\n",
            "(10, 'dhananjay', 20, 'information technology(IT)')\n",
            "(11, 'chetan', 21, 'artificial intelligence and data science(AI&DS)')\n",
            "(12, 'gaurav', 20, 'electronics and telecommunication(ETC)')\n",
            "(13, 'dhananjay', 20, 'information technology(IT)')\n",
            "(14, 'chetan', 21, 'artificial intelligence and data science(AI&DS)')\n",
            "(15, 'gaurav', 20, 'electronics and telecommunication(ETC)')\n",
            "(16, 'dhananjay', 20, 'information technology(IT)')\n"
          ]
        }
      ]
    },
    {
      "cell_type": "code",
      "source": [
        "## delete the data from the table\n",
        "\n",
        "cursor.execute('''\n",
        "DELETE from employees\n",
        "where name = 'dhananjay'\n",
        "''')"
      ],
      "metadata": {
        "colab": {
          "base_uri": "https://localhost:8080/"
        },
        "id": "Tu5Hh-1SNvMT",
        "outputId": "c0d6d3b6-0017-4ddb-8525-43ac5f4b0213"
      },
      "execution_count": 49,
      "outputs": [
        {
          "output_type": "execute_result",
          "data": {
            "text/plain": [
              "<sqlite3.Cursor at 0x7975e9a740c0>"
            ]
          },
          "metadata": {},
          "execution_count": 49
        }
      ]
    },
    {
      "cell_type": "code",
      "source": [
        "## query the data form the table\n",
        "\n",
        "cursor.execute('select *  from employees')\n",
        "rows=cursor.fetchall()\n",
        "\n",
        "## pirnt the queried data\n",
        "\n",
        "for row in rows:\n",
        "  print(row)"
      ],
      "metadata": {
        "colab": {
          "base_uri": "https://localhost:8080/"
        },
        "id": "iY1rpngSOJ7b",
        "outputId": "1755aa94-2170-4d74-d1da-a0321f8604fb"
      },
      "execution_count": 50,
      "outputs": [
        {
          "output_type": "stream",
          "name": "stdout",
          "text": [
            "(1, 'chetan', 21, 'artificial intelligence and data science')\n",
            "(2, 'chetan', 21, 'artificial intelligence and data science(AI&DS)')\n",
            "(3, 'gaurav', 20, 'electronics and telecommunication(ETC)')\n",
            "(5, 'chetan', 21, 'artificial intelligence and data science(AI&DS)')\n",
            "(6, 'gaurav', 20, 'electronics and telecommunication(ETC)')\n",
            "(8, 'chetan', 21, 'artificial intelligence and data science(AI&DS)')\n",
            "(9, 'gaurav', 20, 'electronics and telecommunication(ETC)')\n",
            "(11, 'chetan', 21, 'artificial intelligence and data science(AI&DS)')\n",
            "(12, 'gaurav', 20, 'electronics and telecommunication(ETC)')\n",
            "(14, 'chetan', 21, 'artificial intelligence and data science(AI&DS)')\n",
            "(15, 'gaurav', 20, 'electronics and telecommunication(ETC)')\n"
          ]
        }
      ]
    }
  ]
}