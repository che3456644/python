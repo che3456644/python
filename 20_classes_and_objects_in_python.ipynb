{
  "nbformat": 4,
  "nbformat_minor": 0,
  "metadata": {
    "colab": {
      "provenance": []
    },
    "kernelspec": {
      "name": "python3",
      "display_name": "Python 3"
    },
    "language_info": {
      "name": "python"
    }
  },
  "cells": [
    {
      "cell_type": "markdown",
      "source": [
        "# Classes and objects\n",
        "object-oriented programming (oop) is a programming paradigm that uses \"objects\" to design applications and computer programs. oop allows for modeling real-world scenarios using classes and objects.\n"
      ],
      "metadata": {
        "id": "lvRwFIrX2JGz"
      }
    },
    {
      "cell_type": "code",
      "source": [
        "## a class is a blue print for creating objects. attributes, methods\n",
        "\n",
        "class car:\n",
        "  pass\n",
        "\n",
        "mercedes=car()\n",
        "bmw=car()\n",
        "\n",
        "print(type(mercedes))"
      ],
      "metadata": {
        "colab": {
          "base_uri": "https://localhost:8080/"
        },
        "id": "8f0UL_HU4fjG",
        "outputId": "c3bbc3d8-a040-4087-d345-1e9e12b7f3d1"
      },
      "execution_count": 1,
      "outputs": [
        {
          "output_type": "stream",
          "name": "stdout",
          "text": [
            "<class '__main__.car'>\n"
          ]
        }
      ]
    },
    {
      "cell_type": "code",
      "source": [
        "print(bmw)\n",
        "print(mercedes)"
      ],
      "metadata": {
        "colab": {
          "base_uri": "https://localhost:8080/"
        },
        "id": "xAUmMpUv56iL",
        "outputId": "f14c159a-ede6-47a1-f79f-0e8ff1a0c208"
      },
      "execution_count": 3,
      "outputs": [
        {
          "output_type": "stream",
          "name": "stdout",
          "text": [
            "<__main__.car object at 0x7bab11f35210>\n",
            "<__main__.car object at 0x7bab11f35000>\n"
          ]
        }
      ]
    },
    {
      "cell_type": "code",
      "source": [
        "bmw.windows=4\n",
        "print(bmw.windows)"
      ],
      "metadata": {
        "colab": {
          "base_uri": "https://localhost:8080/"
        },
        "id": "VHWtOIR76u1Y",
        "outputId": "7c1de3c9-fc5d-4afc-cc30-4913754546b1"
      },
      "execution_count": 5,
      "outputs": [
        {
          "output_type": "stream",
          "name": "stdout",
          "text": [
            "4\n"
          ]
        }
      ]
    },
    {
      "cell_type": "code",
      "source": [
        "## instance variable and methods\n",
        "\n",
        "class dog:\n",
        "  ## constructor\n",
        "  def __init__(self,name,age):\n",
        "    self.name=name\n",
        "    self.age=age\n",
        "\n",
        "## create objects\n",
        "dog1=dog(\"pintu\",3)\n",
        "print(dog1)\n",
        "print(dog1.name)\n",
        "print(dog1.age)"
      ],
      "metadata": {
        "colab": {
          "base_uri": "https://localhost:8080/"
        },
        "id": "mMU44q5S6Ndm",
        "outputId": "118882cd-40ce-49ac-f5cf-bd1ac56fce1c"
      },
      "execution_count": 12,
      "outputs": [
        {
          "output_type": "stream",
          "name": "stdout",
          "text": [
            "<__main__.dog object at 0x7baadf1d6590>\n",
            "pintu\n",
            "3\n"
          ]
        }
      ]
    },
    {
      "cell_type": "code",
      "source": [
        "dog2=dog(\"cutty\",5)\n",
        "print(dog2.name)\n",
        "print(dog2.age)"
      ],
      "metadata": {
        "colab": {
          "base_uri": "https://localhost:8080/"
        },
        "id": "Zofzj0W_895q",
        "outputId": "77252776-d7c1-4b2c-e955-7657e2938167"
      },
      "execution_count": 13,
      "outputs": [
        {
          "output_type": "stream",
          "name": "stdout",
          "text": [
            "cutty\n",
            "5\n"
          ]
        }
      ]
    },
    {
      "cell_type": "code",
      "source": [
        "## define a class with instance methods\n",
        "class dog:\n",
        "  def __init__(self,name,age):\n",
        "    self.name=name\n",
        "    self.age=age\n",
        "\n",
        "  def bark(self):\n",
        "    print(f\"{self.name} says woof\")\n",
        "\n",
        "dog1=dog(\"buddy\",6)\n",
        "dog1.bark()\n",
        "dog2=dog(\"luffuy\",2)\n",
        "dog2.bark()"
      ],
      "metadata": {
        "colab": {
          "base_uri": "https://localhost:8080/"
        },
        "id": "51v_U1TI9_5m",
        "outputId": "602fe840-c333-405d-8c60-6318544e011e"
      },
      "execution_count": 17,
      "outputs": [
        {
          "output_type": "stream",
          "name": "stdout",
          "text": [
            "buddy says woof\n",
            "luffuy says woof\n"
          ]
        }
      ]
    },
    {
      "cell_type": "code",
      "source": [
        "## modeling a bank account\n",
        "\n",
        "## define a class for bank account\n",
        "\n",
        "class bankaccount :\n",
        "  def __init__(self,owner,balance=0):\n",
        "    self.owner=owner\n",
        "    self.balance=balance\n",
        "\n",
        "  def deposit(self,amount):\n",
        "    self.balance+=amount\n",
        "    print(f\"{amount} is deposited . new balance is {self.balance}\")\n",
        "\n",
        "  def withdraw(self,amount):\n",
        "    if amount>self.balance:\n",
        "      print(\"insufficient funds!\")\n",
        "    else:\n",
        "        self.balance-=amount\n",
        "        print(f\"{amount} is withdrawn . new balance is {self.balance}\")\n",
        "\n",
        "  def get_balance(self):\n",
        "    return self.balance\n"
      ],
      "metadata": {
        "id": "ruubToFN_q00"
      },
      "execution_count": 35,
      "outputs": []
    },
    {
      "cell_type": "code",
      "source": [
        "## create an bank account\n",
        "\n",
        "account=bankaccount(\"chetan\",18000)\n",
        "print(account.balance)"
      ],
      "metadata": {
        "colab": {
          "base_uri": "https://localhost:8080/"
        },
        "id": "aOSySCgrHfQL",
        "outputId": "cb60e192-637d-4c9a-f7c6-d6798b1ad02b"
      },
      "execution_count": 36,
      "outputs": [
        {
          "output_type": "stream",
          "name": "stdout",
          "text": [
            "18000\n"
          ]
        }
      ]
    },
    {
      "cell_type": "code",
      "source": [
        "## call instance methods\n",
        "account.withdraw(500)"
      ],
      "metadata": {
        "colab": {
          "base_uri": "https://localhost:8080/"
        },
        "id": "acbTuw5fGNy1",
        "outputId": "733024b4-09f9-4ec8-97fd-910ac833eaac"
      },
      "execution_count": 37,
      "outputs": [
        {
          "output_type": "stream",
          "name": "stdout",
          "text": [
            "500 is withdrawn . new balance is 17500\n"
          ]
        }
      ]
    },
    {
      "cell_type": "code",
      "source": [
        "print(account.get_balance())"
      ],
      "metadata": {
        "colab": {
          "base_uri": "https://localhost:8080/"
        },
        "id": "7pJSowz-GwOI",
        "outputId": "6cf7147f-3612-401a-bffb-e2f78403906c"
      },
      "execution_count": 38,
      "outputs": [
        {
          "output_type": "stream",
          "name": "stdout",
          "text": [
            "17500\n"
          ]
        }
      ]
    }
  ]
}