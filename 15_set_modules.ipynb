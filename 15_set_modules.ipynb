{
  "nbformat": 4,
  "nbformat_minor": 0,
  "metadata": {
    "colab": {
      "provenance": []
    },
    "kernelspec": {
      "name": "python3",
      "display_name": "Python 3"
    },
    "language_info": {
      "name": "python"
    }
  },
  "cells": [
    {
      "cell_type": "code",
      "execution_count": 2,
      "metadata": {
        "id": "8_i5lwtHKEPS",
        "colab": {
          "base_uri": "https://localhost:8080/"
        },
        "outputId": "ff1656b7-9e76-40f1-a89d-77d52f9bdb78"
      },
      "outputs": [
        {
          "output_type": "stream",
          "name": "stdout",
          "text": [
            "{1, 2, 3, 4, 5, 6, 7, 8, 9, 10}\n"
          ]
        }
      ],
      "source": [
        "## creating and accessing sets\n",
        "## example 1: create a set with the first 10 positive integers. print the set\n",
        "\n",
        "s = set(range(1,11))\n",
        "print(s)"
      ]
    },
    {
      "cell_type": "code",
      "source": [
        "## adding and removing elements\n",
        "## add the number 11 to the set created in example 1. then remove the number 1 from the set. print the modified set\n",
        "\n",
        "s.add(11)\n",
        "s.remove(1)\n",
        "print(s)"
      ],
      "metadata": {
        "colab": {
          "base_uri": "https://localhost:8080/"
        },
        "id": "tSCfdj7nShbG",
        "outputId": "2049afe6-1b8a-49f8-86ce-2a5d1a8aec0c"
      },
      "execution_count": 3,
      "outputs": [
        {
          "output_type": "stream",
          "name": "stdout",
          "text": [
            "{2, 3, 4, 5, 6, 7, 8, 9, 10, 11}\n"
          ]
        }
      ]
    },
    {
      "cell_type": "code",
      "source": [
        "## set operations\n",
        "## create two sets: one with the first 5 positive integers and another with the first 5 even inetgers. perform and print the result of union,intersection,diffrence,and symmetric difference operations on these sets.\n",
        "\n",
        "set1 = set(range(1, 6))\n",
        "set2 = set(range(2, 11, 2))\n",
        "print(f\"Union: {set1 | set2}\")\n",
        "print(f\"Intersection: {set1 & set2}\")\n",
        "print(f\"Difference (set1 - set2): {set1 - set2}\")\n",
        "print(f\"Symmetric Difference: {set1 ^ set2}\")"
      ],
      "metadata": {
        "colab": {
          "base_uri": "https://localhost:8080/"
        },
        "id": "aZaVhT28S5dO",
        "outputId": "b369a3b6-3292-4598-fdd1-89a08f279ba6"
      },
      "execution_count": 4,
      "outputs": [
        {
          "output_type": "stream",
          "name": "stdout",
          "text": [
            "Union: {1, 2, 3, 4, 5, 6, 8, 10}\n",
            "Intersection: {2, 4}\n",
            "Difference (set1 - set2): {1, 3, 5}\n",
            "Symmetric Difference: {1, 3, 5, 6, 8, 10}\n"
          ]
        }
      ]
    },
    {
      "cell_type": "code",
      "source": [
        "## set comprehensions\n",
        "## create a new set containing the squares of the first 10 positive integers using a set comprehension. print the new set\n",
        "\n",
        "squares = {x**2 for x in range(1, 11)}\n",
        "print(squares)"
      ],
      "metadata": {
        "colab": {
          "base_uri": "https://localhost:8080/"
        },
        "id": "CvlRdY8lTbBO",
        "outputId": "a07ee58d-1ce3-4c34-9a12-3f0e6e894309"
      },
      "execution_count": 5,
      "outputs": [
        {
          "output_type": "stream",
          "name": "stdout",
          "text": [
            "{64, 1, 4, 36, 100, 9, 16, 49, 81, 25}\n"
          ]
        }
      ]
    },
    {
      "cell_type": "code",
      "source": [
        "## filtering sets\n",
        "## create a new set containing only the even numbers form the set created in example 1 using a set comprehension. print the new set.\n",
        "\n",
        "evens = {x for x in s if x % 2 == 0}\n",
        "print(evens)"
      ],
      "metadata": {
        "colab": {
          "base_uri": "https://localhost:8080/"
        },
        "id": "7Tb4DEp7T0gs",
        "outputId": "4c71bbe6-a8bb-4395-917b-5251de9169df"
      },
      "execution_count": 6,
      "outputs": [
        {
          "output_type": "stream",
          "name": "stdout",
          "text": [
            "{2, 4, 6, 8, 10}\n"
          ]
        }
      ]
    },
    {
      "cell_type": "code",
      "source": [
        "## set methods\n",
        "## create a set with duplicate elements and remove the duplicates using set methods. print the modified set.\n",
        "\n",
        "s = {1, 2, 2, 3, 4, 4, 5}\n",
        "unique_s = set(s)\n",
        "print(unique_s)"
      ],
      "metadata": {
        "colab": {
          "base_uri": "https://localhost:8080/"
        },
        "id": "mKxAOoOMUUkt",
        "outputId": "49245e5c-cec2-451e-ddae-322395e91ad6"
      },
      "execution_count": 7,
      "outputs": [
        {
          "output_type": "stream",
          "name": "stdout",
          "text": [
            "{1, 2, 3, 4, 5}\n"
          ]
        }
      ]
    },
    {
      "cell_type": "code",
      "source": [
        "## subset and supersets\n",
        "## Create two sets: one with the first 5 positive integers and another with the first 3 positive integers. Check if the second set is a subset of the first set and if the first set is a superset of the second set. Print the results.\n",
        "\n",
        "set1 = set(range(1, 6))\n",
        "set2 = set(range(1, 4))\n",
        "print(f\"Is set2 a subset of set1? {set2.issubset(set1)}\")\n",
        "print(f\"Is set1 a superset of set2? {set1.issuperset(set2)}\")"
      ],
      "metadata": {
        "colab": {
          "base_uri": "https://localhost:8080/"
        },
        "id": "PfgrL7n8U4c2",
        "outputId": "61f0d55e-f15d-4c73-ba7d-cce604e215ef"
      },
      "execution_count": 8,
      "outputs": [
        {
          "output_type": "stream",
          "name": "stdout",
          "text": [
            "Is set2 a subset of set1? True\n",
            "Is set1 a superset of set2? True\n"
          ]
        }
      ]
    },
    {
      "cell_type": "code",
      "source": [
        "## frozenset\n",
        "## create a frozenset with the first 5 positive integers. print the frozenset\n",
        "\n",
        "fs = frozenset(range(1, 6))\n",
        "print(fs)"
      ],
      "metadata": {
        "colab": {
          "base_uri": "https://localhost:8080/"
        },
        "id": "Q0dGlAjeVIfs",
        "outputId": "20e37418-51de-4f0c-cf85-306893052304"
      },
      "execution_count": 9,
      "outputs": [
        {
          "output_type": "stream",
          "name": "stdout",
          "text": [
            "frozenset({1, 2, 3, 4, 5})\n"
          ]
        }
      ]
    },
    {
      "cell_type": "code",
      "source": [
        "## set and list conversion\n",
        "## Create a set with the first 5 positive integers. Convert it to a list, append the number 6, and convert it back to a set. Print the resulting set.\n",
        "\n",
        "s = set(range(1, 6))\n",
        "lst = list(s)\n",
        "lst.append(6)\n",
        "s = set(lst)\n",
        "print(s)"
      ],
      "metadata": {
        "colab": {
          "base_uri": "https://localhost:8080/"
        },
        "id": "4TjmeenpVd9S",
        "outputId": "838a6f4e-0325-4fec-fa1a-9d1168b6308d"
      },
      "execution_count": 10,
      "outputs": [
        {
          "output_type": "stream",
          "name": "stdout",
          "text": [
            "{1, 2, 3, 4, 5, 6}\n"
          ]
        }
      ]
    },
    {
      "cell_type": "code",
      "source": [
        "## set and dictionary\n",
        "## create a dictionary with set keys and integer values. print the dictionary\n",
        "\n",
        "d = {\n",
        "    frozenset({1, 2}): 3,\n",
        "    frozenset({3, 4}): 7,\n",
        "    frozenset({5, 6}): 11\n",
        "}\n",
        "print(d)"
      ],
      "metadata": {
        "colab": {
          "base_uri": "https://localhost:8080/"
        },
        "id": "D2zxnG2XVwzo",
        "outputId": "ccee57a9-6cb2-426f-8a3c-62c36bbfae7c"
      },
      "execution_count": 11,
      "outputs": [
        {
          "output_type": "stream",
          "name": "stdout",
          "text": [
            "{frozenset({1, 2}): 3, frozenset({3, 4}): 7, frozenset({5, 6}): 11}\n"
          ]
        }
      ]
    },
    {
      "cell_type": "code",
      "source": [
        "## iterating over sets\n",
        "## create a set and iterate over the elements, printing each element\n",
        "\n",
        "s = set(range(1, 6))\n",
        "for elem in s:\n",
        "    print(elem)"
      ],
      "metadata": {
        "colab": {
          "base_uri": "https://localhost:8080/"
        },
        "id": "cL5q7fWxV-8H",
        "outputId": "187e0a36-bd00-4c9e-a32a-38ee1613c06d"
      },
      "execution_count": 12,
      "outputs": [
        {
          "output_type": "stream",
          "name": "stdout",
          "text": [
            "1\n",
            "2\n",
            "3\n",
            "4\n",
            "5\n"
          ]
        }
      ]
    },
    {
      "cell_type": "code",
      "source": [
        "## removing elements from sets\n",
        "## create a set and remove elements from it until it is empty. print the set after each removal.\n",
        "\n",
        "s = set(range(1, 6))\n",
        "while s:\n",
        "    s.pop()\n",
        "    print(s)"
      ],
      "metadata": {
        "colab": {
          "base_uri": "https://localhost:8080/"
        },
        "id": "Le0wrENEWRAL",
        "outputId": "c0e76813-d7cd-4e0b-e5b0-3f982a92867c"
      },
      "execution_count": 13,
      "outputs": [
        {
          "output_type": "stream",
          "name": "stdout",
          "text": [
            "{2, 3, 4, 5}\n",
            "{3, 4, 5}\n",
            "{4, 5}\n",
            "{5}\n",
            "set()\n"
          ]
        }
      ]
    },
    {
      "cell_type": "code",
      "source": [
        "## set symmetric difference update\n",
        "## create two sets and update the first set with the symmetric difference of the two sets. print the modified first set.\n",
        "\n",
        "set1 = {1, 2, 3}\n",
        "set2 = {3, 4, 5}\n",
        "set1.symmetric_difference_update(set2)\n",
        "print(set1)"
      ],
      "metadata": {
        "colab": {
          "base_uri": "https://localhost:8080/"
        },
        "id": "TknOY33LWmH1",
        "outputId": "796a5594-5ae2-40cc-d254-6627951dceae"
      },
      "execution_count": 14,
      "outputs": [
        {
          "output_type": "stream",
          "name": "stdout",
          "text": [
            "{1, 2, 4, 5}\n"
          ]
        }
      ]
    },
    {
      "cell_type": "code",
      "source": [
        "## set membership testing\n",
        "## create a set and test if certain elements are present in the set. print the results.\n",
        "\n",
        "s = set(range(1, 6))\n",
        "print(3 in s)\n",
        "print(6 in s)"
      ],
      "metadata": {
        "colab": {
          "base_uri": "https://localhost:8080/"
        },
        "id": "InPKRffNW_rf",
        "outputId": "40c2aa5e-57dc-43c6-ccbd-79ad5586804a"
      },
      "execution_count": 15,
      "outputs": [
        {
          "output_type": "stream",
          "name": "stdout",
          "text": [
            "True\n",
            "False\n"
          ]
        }
      ]
    },
    {
      "cell_type": "code",
      "source": [
        "## set of tuples\n",
        "## create a set containing tuples, where each tuple contains two elements. print the set.\n",
        "\n",
        "s = { (1, 2), (3, 4), (5, 6) }\n",
        "print(s)"
      ],
      "metadata": {
        "colab": {
          "base_uri": "https://localhost:8080/"
        },
        "id": "7DpTWxhtXTs8",
        "outputId": "74705bcd-67a6-468f-debb-c254859871c2"
      },
      "execution_count": 16,
      "outputs": [
        {
          "output_type": "stream",
          "name": "stdout",
          "text": [
            "{(1, 2), (3, 4), (5, 6)}\n"
          ]
        }
      ]
    }
  ]
}
