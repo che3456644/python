{
  "nbformat": 4,
  "nbformat_minor": 0,
  "metadata": {
    "colab": {
      "provenance": []
    },
    "kernelspec": {
      "name": "python3",
      "display_name": "Python 3"
    },
    "language_info": {
      "name": "python"
    }
  },
  "cells": [
    {
      "cell_type": "markdown",
      "source": [
        "**Function Examples**"
      ],
      "metadata": {
        "id": "vBHyiVYOipg0"
      }
    },
    {
      "cell_type": "code",
      "source": [
        "## example 1: temperature conversion\n",
        "\n",
        "def convert_temperature(temp,unit):\n",
        "  \"\"\"this function converts temperature between celsius and fahrenheit\"\"\"\n",
        "  if unit=='C':\n",
        "    return temp *9/5 + 32 ## celsius to fahrenheit\n",
        "  elif unit == 'F':\n",
        "    return (temp-32)*5/9 ## fahrenheit to celsius\n",
        "  else:\n",
        "    return None\n",
        "print(convert_temperature(25,'C'))\n",
        "print(convert_temperature(77,'F'))"
      ],
      "metadata": {
        "id": "_uOZOFeHiu20",
        "colab": {
          "base_uri": "https://localhost:8080/"
        },
        "outputId": "54dfb82a-72e1-49c6-d95a-0a3804b57c37"
      },
      "execution_count": 29,
      "outputs": [
        {
          "output_type": "stream",
          "name": "stdout",
          "text": [
            "77.0\n",
            "25.0\n"
          ]
        }
      ]
    },
    {
      "cell_type": "code",
      "source": [
        "## example 2: password strength checker\n",
        "\n",
        "def is_strong_password(password):\n",
        "  \"\"\"this function checks if the passwords is strong or not\"\"\"\n",
        "  if len(password)<8:\n",
        "    return False\n",
        "  if not any(char.isdigit() for char in password):\n",
        "    return False\n",
        "  if not any(char.islower() for char in  password):\n",
        "    return False\n",
        "  if not any(char.isupper() for char in password):\n",
        "    return False\n",
        "  if not any(char in '!@#$%^&*()_+' for char in password):\n",
        "    return False\n",
        "  return True\n",
        "\n",
        "## calling the function\n",
        "print(is_strong_password(\"Chetanit21\"))\n",
        "print(is_strong_password(\"chetanit21@\"))\n",
        "print(is_strong_password(\"Chetan21@\"))"
      ],
      "metadata": {
        "id": "1jN4DcCij7D_",
        "colab": {
          "base_uri": "https://localhost:8080/"
        },
        "outputId": "e36894cc-5955-4c45-b000-11362be9c3f1"
      },
      "execution_count": 30,
      "outputs": [
        {
          "output_type": "stream",
          "name": "stdout",
          "text": [
            "False\n",
            "False\n",
            "True\n"
          ]
        }
      ]
    },
    {
      "cell_type": "code",
      "source": [
        "## example 3: calculate the total cost of items in a shopping cart\n",
        "\n",
        "def calculate_total_cost(cart):\n",
        "  total_cost=0\n",
        "  for item in cart:\n",
        "    total_cost+=item['price']*item['quantity']\n",
        "  return total_cost\n",
        "\n",
        "## example cart data\n",
        "\n",
        "cart=[\n",
        "    {'name':'apple','price':10,'quantity':5},\n",
        "    {'name':'watermelon','price':50,'quantity':2},\n",
        "    {'name':'orange','price':15,'quantity':10}\n",
        "\n",
        "]\n",
        "\n",
        "## calling the function\n",
        "\n",
        "total_cost=calculate_total_cost(cart)\n",
        "print(total_cost)\n"
      ],
      "metadata": {
        "colab": {
          "base_uri": "https://localhost:8080/"
        },
        "id": "80VQ2IJcnyNM",
        "outputId": "4878b143-2507-4f88-c76e-e519ef9b03b3"
      },
      "execution_count": 31,
      "outputs": [
        {
          "output_type": "stream",
          "name": "stdout",
          "text": [
            "300\n"
          ]
        }
      ]
    },
    {
      "cell_type": "code",
      "source": [
        "## example 4: check if a string is palindrome\n",
        "\n",
        "def is_palindrome(s):\n",
        "  s=s.lower().replace(\" \",\" \")\n",
        "  return s==s[::-1]\n",
        "\n",
        "print(is_palindrome(\"a man a plan a canal panama\"))\n",
        "print(is_palindrome(\"illi\"))"
      ],
      "metadata": {
        "id": "sa1Aypk-r6SY",
        "colab": {
          "base_uri": "https://localhost:8080/"
        },
        "outputId": "0c0b7c4e-da60-4189-d826-23e46e9a7326"
      },
      "execution_count": 32,
      "outputs": [
        {
          "output_type": "stream",
          "name": "stdout",
          "text": [
            "False\n",
            "True\n"
          ]
        }
      ]
    },
    {
      "cell_type": "code",
      "source": [
        "## example 5: calculate the factorials of a number using recursion\n",
        "\n",
        "def factorial(n):\n",
        "  if n==0:\n",
        "    return 1\n",
        "  else:\n",
        "    return n * factorial(n-1)\n",
        "print(factorial(5))"
      ],
      "metadata": {
        "colab": {
          "base_uri": "https://localhost:8080/"
        },
        "id": "-xprNfUpha8V",
        "outputId": "0de9b6f7-66a1-434a-d382-19b9d3b8c60f"
      },
      "execution_count": 33,
      "outputs": [
        {
          "output_type": "stream",
          "name": "stdout",
          "text": [
            "120\n"
          ]
        }
      ]
    },
    {
      "cell_type": "code",
      "source": [
        "## example 6: validate email address\n",
        "\n",
        "import re\n",
        "\n",
        "## email validation function\n",
        "def is_valid_email(email):\n",
        "  \"\"\" this function checks if the email is valid \"\"\"\n",
        "  pattern = r'^[a-zA-Z0-9_.+-]+@[a-zA-Z0-9-]+\\.[a-zA-Z0-9-.]+$'\n",
        "  return re.match (pattern, email) is not None\n",
        "\n",
        "## calling the function\n",
        "print(is_valid_email(\"cbhagat191@gmail.com\"))\n",
        "print(is_valid_email(\"invalid-email\"))\n",
        "\n"
      ],
      "metadata": {
        "colab": {
          "base_uri": "https://localhost:8080/"
        },
        "id": "lWwFbWn2i4bq",
        "outputId": "f9119adc-0c72-4e10-be7a-bd993485307e"
      },
      "execution_count": 34,
      "outputs": [
        {
          "output_type": "stream",
          "name": "stdout",
          "text": [
            "True\n",
            "False\n"
          ]
        }
      ]
    }
  ]
}
