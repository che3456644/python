{
  "nbformat": 4,
  "nbformat_minor": 0,
  "metadata": {
    "colab": {
      "provenance": []
    },
    "kernelspec": {
      "name": "python3",
      "display_name": "Python 3"
    },
    "language_info": {
      "name": "python"
    }
  },
  "cells": [
    {
      "cell_type": "markdown",
      "source": [
        "# Polymorphism\n",
        "polymorphism is a core concept in object-oriented programming (oop) that allows objects of diffrent classes to be treated as objecs of a common superclass. it provides a way to perfoem a single action in different forms. polymorphism is typically achieved through mehod overriding and interfaces"
      ],
      "metadata": {
        "id": "jTB2AqF768Ce"
      }
    },
    {
      "cell_type": "markdown",
      "source": [
        "# Method overriding\n",
        "method overriding allows a child class to provide a specific iimplementation of a method that is already defined in tis parent class."
      ],
      "metadata": {
        "id": "P-6JEepG7t01"
      }
    },
    {
      "cell_type": "code",
      "execution_count": 9,
      "metadata": {
        "colab": {
          "base_uri": "https://localhost:8080/"
        },
        "id": "J-tfFfZZgSac",
        "outputId": "ab65ae3c-4d45-4752-bf82-989047871d0f"
      },
      "outputs": [
        {
          "output_type": "stream",
          "name": "stdout",
          "text": [
            "woof\n",
            "meow\n",
            "woof\n"
          ]
        }
      ],
      "source": [
        "## base class\n",
        "class animal:\n",
        "  def speak(self):\n",
        "    return \"sound of the animal\"\n",
        "\n",
        "## derived class 1\n",
        "class dog:\n",
        "  def speak(self):\n",
        "    return \"woof\"\n",
        "\n",
        "## derived class\n",
        "class cat:\n",
        "  def speak(self):\n",
        "    return \"meow\"\n",
        "\n",
        "## function that demonstrate polymorphism\n",
        "def animal_speak(animal):\n",
        "  print(animal.speak())\n",
        "\n",
        "dog1=dog()\n",
        "cat1=cat()\n",
        "print(dog1.speak())\n",
        "print(cat1.speak())\n",
        "animal_speak(dog1)"
      ]
    },
    {
      "cell_type": "code",
      "source": [
        "## polymorphism with functions and methods\n",
        "## base class\n",
        "class shape:\n",
        "  def area(self):\n",
        "    return \"the area of the figure\"\n",
        "\n",
        "## derived class 1\n",
        "class rectangle(shape):\n",
        "  def __init__(self,width,height):\n",
        "    self.width=width\n",
        "    self.height=height\n",
        "\n",
        "  def area(self):\n",
        "    return self.width * self.height\n",
        "\n",
        "## derived class 2\n",
        "class circle(shape):\n",
        "  def __init__(self,radius):\n",
        "    self.radius=radius\n",
        "\n",
        "  def area (self):\n",
        "    return 3.14*self.radius*self.radius\n",
        "\n",
        "## function that demonstrate polymorphism\n",
        "\n",
        "def print_area(shape):\n",
        "  print(f\"the area is  {shape.area()}\")\n",
        "\n",
        "\n",
        "rectangle1=rectangle(5,5)\n",
        "print_area(rectangle1)\n",
        "\n",
        "circle1=circle(5)\n",
        "print_area(circle1)\n",
        "\n",
        "\n"
      ],
      "metadata": {
        "colab": {
          "base_uri": "https://localhost:8080/"
        },
        "id": "bfdP26sViT3Q",
        "outputId": "138082bc-2299-430d-8c88-396a6b22b2ec"
      },
      "execution_count": 15,
      "outputs": [
        {
          "output_type": "stream",
          "name": "stdout",
          "text": [
            "the area is  25\n",
            "the area is  78.5\n"
          ]
        }
      ]
    },
    {
      "cell_type": "markdown",
      "source": [
        "# Polymorphism with abstract base classes\n",
        "Abstract base classes(ABCs) are used to define common methods for a group of related objects. they can enforce that deived classes implement particular mehods, promoting consistency across different implementations\n"
      ],
      "metadata": {
        "id": "hehASHjx2wlg"
      }
    },
    {
      "cell_type": "code",
      "source": [
        "from abc import ABC,abstractmethod\n",
        "\n",
        "## define an abstract class\n",
        "class vehicle(ABC):\n",
        "  @abstractmethod\n",
        "  def start_engine(self):\n",
        "    pass\n",
        "\n",
        "## dervied class 1\n",
        "class car(vehicle):\n",
        "  def start_engine(self):\n",
        "    return \"car engine started\"\n",
        "\n",
        "## derived class 2\n",
        "class motorcycle(vehicle):\n",
        "  def start_engine(self):\n",
        "    return \"motorcycle engine started\"\n",
        "\n",
        "## function that demonstrates polymorphism\n",
        "def start_vehicle(vehicle):\n",
        "  print(vehicle.start_engine())\n",
        "\n",
        "## create objects of car and motorcycles\n",
        "\n",
        "car1=car()\n",
        "motorcycle1=motorcycle()\n",
        "\n",
        "start_vehicle(car1)"
      ],
      "metadata": {
        "colab": {
          "base_uri": "https://localhost:8080/"
        },
        "id": "IWblnAR-31jI",
        "outputId": "389b89c4-e81c-405a-c131-3f172685fdd9"
      },
      "execution_count": 19,
      "outputs": [
        {
          "output_type": "stream",
          "name": "stdout",
          "text": [
            "car engine started\n"
          ]
        }
      ]
    }
  ]
}