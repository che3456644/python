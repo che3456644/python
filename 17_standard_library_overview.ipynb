{
  "nbformat": 4,
  "nbformat_minor": 0,
  "metadata": {
    "colab": {
      "provenance": []
    },
    "kernelspec": {
      "name": "python3",
      "display_name": "Python 3"
    },
    "language_info": {
      "name": "python"
    }
  },
  "cells": [
    {
      "cell_type": "markdown",
      "source": [
        "# Standard Library Overview\n",
        "Pyhton's standard library is a vast collection of modules and packages that come bundled with python, providing a wide range of functionalities out of the box. here's an overview of some of the most commonly used modules and packages in the python standard library"
      ],
      "metadata": {
        "id": "moAxZm3-Neds"
      }
    },
    {
      "cell_type": "code",
      "source": [
        "import array\n",
        "arr=array.array('i',[1,2,3,4])\n",
        "print(arr)"
      ],
      "metadata": {
        "colab": {
          "base_uri": "https://localhost:8080/"
        },
        "id": "XO4Le4F7OE98",
        "outputId": "738130b2-ee26-4931-c922-6da3b343e8cb"
      },
      "execution_count": 1,
      "outputs": [
        {
          "output_type": "stream",
          "name": "stdout",
          "text": [
            "array('i', [1, 2, 3, 4])\n"
          ]
        }
      ]
    },
    {
      "cell_type": "code",
      "source": [
        "import math\n",
        "print(math.sqrt(16))\n",
        "print(math.pi)"
      ],
      "metadata": {
        "colab": {
          "base_uri": "https://localhost:8080/"
        },
        "id": "-jJduwgUOeQx",
        "outputId": "bd59f5e8-aaef-4013-de61-cacee02a1a04"
      },
      "execution_count": 3,
      "outputs": [
        {
          "output_type": "stream",
          "name": "stdout",
          "text": [
            "4.0\n",
            "3.141592653589793\n"
          ]
        }
      ]
    },
    {
      "cell_type": "code",
      "source": [
        "## random\n",
        "\n",
        "import random\n",
        "print(random.randint(1,10))\n",
        "print(random.choice(['apple','banana','cherry']))\n"
      ],
      "metadata": {
        "colab": {
          "base_uri": "https://localhost:8080/"
        },
        "id": "_Ipq3euVOueW",
        "outputId": "ea3c3abb-2463-40f6-882d-b9b1de92f078"
      },
      "execution_count": 8,
      "outputs": [
        {
          "output_type": "stream",
          "name": "stdout",
          "text": [
            "7\n",
            "cherry\n"
          ]
        }
      ]
    },
    {
      "cell_type": "code",
      "source": [
        "## file and directory access\n",
        "\n",
        "import os\n",
        "print(os.getcwd)"
      ],
      "metadata": {
        "colab": {
          "base_uri": "https://localhost:8080/"
        },
        "id": "3rub7nZkPD8l",
        "outputId": "53c37070-0d69-49ac-f258-385e7836baa1"
      },
      "execution_count": 9,
      "outputs": [
        {
          "output_type": "stream",
          "name": "stdout",
          "text": [
            "<built-in function getcwd>\n"
          ]
        }
      ]
    },
    {
      "cell_type": "code",
      "source": [
        "os.mkdir('test_dir')"
      ],
      "metadata": {
        "id": "77VB4KF4Pmzb"
      },
      "execution_count": 10,
      "outputs": []
    },
    {
      "cell_type": "code",
      "source": [
        "## data serialization\n",
        "\n",
        "import json\n",
        "data={'name':'chetan','age':21}\n",
        "json_str=json.dumps(data)\n",
        "print(json_str)\n",
        "print(type(json_str))\n",
        "\n",
        "parsed_data=json.loads(json_str)\n",
        "print(parsed_data)\n",
        "print(type(parsed_data))"
      ],
      "metadata": {
        "colab": {
          "base_uri": "https://localhost:8080/"
        },
        "id": "s-BmZSWGPuON",
        "outputId": "699e09e2-ab6c-4971-abfb-81f21a7a1652"
      },
      "execution_count": 15,
      "outputs": [
        {
          "output_type": "stream",
          "name": "stdout",
          "text": [
            "{\"name\": \"chetan\", \"age\": 21}\n",
            "<class 'str'>\n",
            "{'name': 'chetan', 'age': 21}\n",
            "<class 'dict'>\n"
          ]
        }
      ]
    },
    {
      "cell_type": "code",
      "source": [
        "## csv\n",
        "\n",
        "import csv\n",
        "\n",
        "with open('example.csv',mode='w',newline='') as file:\n",
        "  writer=csv.writer(file)\n",
        "  writer.writerow(['name','age'])\n",
        "  writer.writerow(['chetan',21])\n",
        "\n",
        "with open('example.csv',mode='r') as file:\n",
        "  reader=csv.reader(file)\n",
        "  for row in reader:\n",
        "    print(row)"
      ],
      "metadata": {
        "colab": {
          "base_uri": "https://localhost:8080/"
        },
        "id": "iPE00DJgQ2FM",
        "outputId": "ae12fc65-fa04-4e34-bb72-cef3dfea39e3"
      },
      "execution_count": 17,
      "outputs": [
        {
          "output_type": "stream",
          "name": "stdout",
          "text": [
            "['name', 'age']\n",
            "['chetan', '21']\n"
          ]
        }
      ]
    },
    {
      "cell_type": "code",
      "source": [
        "## datetime\n",
        "\n",
        "from datetime import datetime,timedelta\n",
        "\n",
        "now=datetime.now()\n",
        "print(now)\n",
        "\n",
        "yesterday=now-timedelta(days=1)\n",
        "\n",
        "print(yesterday)"
      ],
      "metadata": {
        "colab": {
          "base_uri": "https://localhost:8080/"
        },
        "id": "KZeOTtRYTKPI",
        "outputId": "ce53d36c-c114-48fc-9072-2cb3cd260d4d"
      },
      "execution_count": 19,
      "outputs": [
        {
          "output_type": "stream",
          "name": "stdout",
          "text": [
            "2024-07-30 15:42:29.993006\n",
            "2024-07-29 15:42:29.993006\n"
          ]
        }
      ]
    },
    {
      "cell_type": "code",
      "source": [
        "## time\n",
        "import time\n",
        "print(time.time())\n",
        "time.sleep(2)\n",
        "print(time.time())"
      ],
      "metadata": {
        "colab": {
          "base_uri": "https://localhost:8080/"
        },
        "id": "veQ6MV0FTong",
        "outputId": "4c0cfb26-a543-4d3f-bbc1-b9228ce9b8cc"
      },
      "execution_count": 20,
      "outputs": [
        {
          "output_type": "stream",
          "name": "stdout",
          "text": [
            "1722354213.9361572\n",
            "1722354215.9401343\n"
          ]
        }
      ]
    },
    {
      "cell_type": "code",
      "source": [
        "## regular expression\n",
        "\n",
        "import re\n",
        "pattern=r'\\d+'\n",
        "text='there are 223 apples '\n",
        "match=re.search(pattern,text)\n",
        "print(match.group())"
      ],
      "metadata": {
        "colab": {
          "base_uri": "https://localhost:8080/"
        },
        "id": "K_R2GwztT5_l",
        "outputId": "5e977f98-818d-443f-fadc-d82067da77e1"
      },
      "execution_count": 22,
      "outputs": [
        {
          "output_type": "stream",
          "name": "stdout",
          "text": [
            "223\n"
          ]
        }
      ]
    }
  ]
}
