{
  "nbformat": 4,
  "nbformat_minor": 0,
  "metadata": {
    "colab": {
      "provenance": []
    },
    "kernelspec": {
      "name": "python3",
      "display_name": "Python 3"
    },
    "language_info": {
      "name": "python"
    }
  },
  "cells": [
    {
      "cell_type": "markdown",
      "source": [
        "# Abstaction\n",
        "abstraction is the concept of hiding the complex implementation details and showing only the necessary features of an object. this helps in reducing programming complexity and effort."
      ],
      "metadata": {
        "id": "CEaz5MoE8xRA"
      }
    },
    {
      "cell_type": "code",
      "source": [
        "from abc import ABC,abstractmethod\n",
        "\n",
        "## abstract base class\n",
        "class vehicle(ABC):\n",
        "  def drive(self):\n",
        "    print(\"the vehicle is used for driving\")\n",
        "\n",
        "  @abstractmethod\n",
        "  def start_engine(self):\n",
        "    pass\n",
        "\n",
        "class car(vehicle):\n",
        "  def start_engine(self):\n",
        "    print(\"car engine started\")\n",
        "\n",
        "def operate_vehicle(vehicle):\n",
        "  vehicle.start_engine()\n",
        "  vehicle.drive()\n",
        "\n",
        "my_car=car()\n",
        "operate_vehicle(my_car)\n",
        ""
      ],
      "metadata": {
        "colab": {
          "base_uri": "https://localhost:8080/"
        },
        "id": "DgN2oSlD9G2q",
        "outputId": "b6881c1c-10a0-4a76-e95e-82b104d17cf7"
      },
      "execution_count": 6,
      "outputs": [
        {
          "output_type": "stream",
          "name": "stdout",
          "text": [
            "car engine started\n",
            "the vehicle is used for driving\n"
          ]
        }
      ]
    }
  ]
}