{
  "nbformat": 4,
  "nbformat_minor": 0,
  "metadata": {
    "colab": {
      "provenance": []
    },
    "kernelspec": {
      "name": "python3",
      "display_name": "Python 3"
    },
    "language_info": {
      "name": "python"
    }
  },
  "cells": [
    {
      "cell_type": "markdown",
      "source": [
        "# Decorators\n",
        "Decorators are a powerful and flexible feature in python that allows you to modify the behaviour of a fuctioin or class method.they are comonly used to add fuctionality to functions or methods without modifying their actual code."
      ],
      "metadata": {
        "id": "xB4I1DmrjyH5"
      }
    },
    {
      "cell_type": "code",
      "source": [
        "## function copy\n",
        "## closures\n",
        "## decorators"
      ],
      "metadata": {
        "id": "WL46rwnJkQqj"
      },
      "execution_count": 1,
      "outputs": []
    },
    {
      "cell_type": "code",
      "source": [
        "## function copy\n",
        "def welcome():\n",
        "  return \"welcome to the advance in python\""
      ],
      "metadata": {
        "id": "1l9-PVr-kcrJ"
      },
      "execution_count": 2,
      "outputs": []
    },
    {
      "cell_type": "code",
      "source": [
        "welcome()"
      ],
      "metadata": {
        "colab": {
          "base_uri": "https://localhost:8080/",
          "height": 36
        },
        "id": "_YOV0yT0lBA0",
        "outputId": "e6cc8dde-786e-4f52-c4e2-9cd9bd6311ba"
      },
      "execution_count": 3,
      "outputs": [
        {
          "output_type": "execute_result",
          "data": {
            "text/plain": [
              "'welcome to the advance in python'"
            ],
            "application/vnd.google.colaboratory.intrinsic+json": {
              "type": "string"
            }
          },
          "metadata": {},
          "execution_count": 3
        }
      ]
    },
    {
      "cell_type": "code",
      "source": [
        "wel=welcome\n",
        "print(wel())\n",
        "del welcome\n",
        "print(wel())"
      ],
      "metadata": {
        "colab": {
          "base_uri": "https://localhost:8080/"
        },
        "id": "XxL7WbB8lEh6",
        "outputId": "4f16abbf-e20c-410a-da57-f1ee50becc2d"
      },
      "execution_count": 4,
      "outputs": [
        {
          "output_type": "stream",
          "name": "stdout",
          "text": [
            "welcome to the advance in python\n",
            "welcome to the advance in python\n"
          ]
        }
      ]
    },
    {
      "cell_type": "code",
      "source": [
        "## closures functions\n",
        "def main_welcome(msg):\n",
        "  def sub_welcome_method():\n",
        "    print(\"welcome to the advance python\")\n",
        "    print(msg)\n",
        "    print(\"my name is chetan\")\n",
        "  return sub_welcome_method()"
      ],
      "metadata": {
        "id": "ocftIp-7lMyM"
      },
      "execution_count": 15,
      "outputs": []
    },
    {
      "cell_type": "code",
      "source": [
        "main_welcome(\"welcome everyone\")"
      ],
      "metadata": {
        "colab": {
          "base_uri": "https://localhost:8080/"
        },
        "id": "DETpV7VHmD-6",
        "outputId": "888bd9c3-8a08-41c8-e2b9-143ee08d0135"
      },
      "execution_count": 16,
      "outputs": [
        {
          "output_type": "stream",
          "name": "stdout",
          "text": [
            "welcome to the advance python\n",
            "welcome everyone\n",
            "my name is chetan\n"
          ]
        }
      ]
    },
    {
      "cell_type": "code",
      "source": [
        "def main_welcome(func):\n",
        "  def sub_welcome_method():\n",
        "    print(\"welcome to the advance python\")\n",
        "    func(\"i am ai&ds student\")\n",
        "    print(\"my name is chetan\")\n",
        "  return sub_welcome_method()"
      ],
      "metadata": {
        "id": "0YatOnMamH51"
      },
      "execution_count": 21,
      "outputs": []
    },
    {
      "cell_type": "code",
      "source": [
        "main_welcome(print)"
      ],
      "metadata": {
        "colab": {
          "base_uri": "https://localhost:8080/"
        },
        "id": "vQU30ElOoO16",
        "outputId": "a9eeb2f1-64a4-48ee-88c3-f3ef3f848501"
      },
      "execution_count": 22,
      "outputs": [
        {
          "output_type": "stream",
          "name": "stdout",
          "text": [
            "welcome to the advance python\n",
            "i am ai&ds student\n",
            "my name is chetan\n"
          ]
        }
      ]
    },
    {
      "cell_type": "code",
      "source": [
        "def main_welcome(func,lst):\n",
        "  def sub_welcome_method():\n",
        "    print(\"welcome to the advance python\")\n",
        "    print(func(lst))\n",
        "    print(\"my name is chetan\")\n",
        "  return sub_welcome_method()"
      ],
      "metadata": {
        "id": "a91yGFU6oSAz"
      },
      "execution_count": 27,
      "outputs": []
    },
    {
      "cell_type": "code",
      "source": [
        "main_welcome(len,[1,2,3,4,5,6])"
      ],
      "metadata": {
        "colab": {
          "base_uri": "https://localhost:8080/"
        },
        "id": "lNyIjF81pO_j",
        "outputId": "cb8e7204-2a59-446e-e9e3-834ebc1f164d"
      },
      "execution_count": 28,
      "outputs": [
        {
          "output_type": "stream",
          "name": "stdout",
          "text": [
            "welcome to the advance python\n",
            "6\n",
            "my name is chetan\n"
          ]
        }
      ]
    },
    {
      "cell_type": "code",
      "source": [
        "## Decorator\n",
        "def main_welcome(func):\n",
        "\n",
        "  def sub_welcome_method():\n",
        "    print(\"welcome to the advance python\")\n",
        "    func()\n",
        "    print(\"please do these concepts properly\")\n",
        "  return sub_welcome_method()"
      ],
      "metadata": {
        "id": "XIt7QnM3pVMp"
      },
      "execution_count": 30,
      "outputs": []
    },
    {
      "cell_type": "code",
      "source": [
        "def course_introduction():\n",
        "  print(\"this is an advance python\")\n",
        "\n",
        "course_introduction()"
      ],
      "metadata": {
        "colab": {
          "base_uri": "https://localhost:8080/"
        },
        "id": "jhvVJmhLqtTl",
        "outputId": "5aac5266-90bc-4655-876e-b2e4f2ea7157"
      },
      "execution_count": 31,
      "outputs": [
        {
          "output_type": "stream",
          "name": "stdout",
          "text": [
            "this is an advance python\n"
          ]
        }
      ]
    },
    {
      "cell_type": "code",
      "source": [
        "main_welcome(course_introduction)"
      ],
      "metadata": {
        "colab": {
          "base_uri": "https://localhost:8080/"
        },
        "id": "PfcEVH6Pq_A6",
        "outputId": "1e497c28-f5f2-42a9-a6df-a9e84c430a60"
      },
      "execution_count": 32,
      "outputs": [
        {
          "output_type": "stream",
          "name": "stdout",
          "text": [
            "welcome to the advance python\n",
            "this is an advance python\n",
            "please do these concepts properly\n"
          ]
        }
      ]
    },
    {
      "cell_type": "code",
      "source": [
        "@main_welcome\n",
        "def course_introduction():\n",
        "  print(\"this is an advance python\")"
      ],
      "metadata": {
        "colab": {
          "base_uri": "https://localhost:8080/"
        },
        "id": "oe6T8oxcrE1p",
        "outputId": "513aea3c-ea1a-4075-8b75-6b6d970af591"
      },
      "execution_count": 33,
      "outputs": [
        {
          "output_type": "stream",
          "name": "stdout",
          "text": [
            "welcome to the advance python\n",
            "this is an advance python\n",
            "please do these concepts properly\n"
          ]
        }
      ]
    },
    {
      "cell_type": "code",
      "source": [
        "## Decorator\n",
        "\n",
        "def my_decorator(func):\n",
        "  def wrapper():\n",
        "    print(\"something is happening before the function is called\")\n",
        "    func()\n",
        "    print(\"something is happening after the function is called\")\n",
        "  return wrapper"
      ],
      "metadata": {
        "id": "m1aNLw9brOMs"
      },
      "execution_count": 34,
      "outputs": []
    },
    {
      "cell_type": "code",
      "source": [
        "@my_decorator\n",
        "def say_hello():\n",
        "  print(\"hello!\")"
      ],
      "metadata": {
        "id": "NiSPyOj6ssTq"
      },
      "execution_count": 35,
      "outputs": []
    },
    {
      "cell_type": "code",
      "source": [
        "say_hello()"
      ],
      "metadata": {
        "colab": {
          "base_uri": "https://localhost:8080/"
        },
        "id": "9qSH7LvIs3yg",
        "outputId": "d4d6c4f1-db65-4300-b511-d1ef517c1340"
      },
      "execution_count": 36,
      "outputs": [
        {
          "output_type": "stream",
          "name": "stdout",
          "text": [
            "something is happening before the function is called\n",
            "hello!\n",
            "something is happening after the function is called\n"
          ]
        }
      ]
    },
    {
      "cell_type": "code",
      "source": [
        "## Decorator with arguments\n",
        "def repeat(n):\n",
        "  def decorator(func):\n",
        "    def wrapper(*args,**kwargs):\n",
        "      for _ in range(n):\n",
        "        func(*args,**kwargs)\n",
        "    return wrapper\n",
        "  return decorator"
      ],
      "metadata": {
        "id": "Hsfg24SUs582"
      },
      "execution_count": 38,
      "outputs": []
    },
    {
      "cell_type": "code",
      "source": [
        "@repeat(50)\n",
        "def say_hello():\n",
        "  print(\"hello\")"
      ],
      "metadata": {
        "id": "6LWWpcMvuF9n"
      },
      "execution_count": 46,
      "outputs": []
    },
    {
      "cell_type": "code",
      "source": [
        "say_hello()"
      ],
      "metadata": {
        "colab": {
          "base_uri": "https://localhost:8080/"
        },
        "id": "iAM5VfCeuRVl",
        "outputId": "42d47c9b-1621-4904-f817-d0d4b393ecf1"
      },
      "execution_count": 47,
      "outputs": [
        {
          "output_type": "stream",
          "name": "stdout",
          "text": [
            "hello\n",
            "hello\n",
            "hello\n",
            "hello\n",
            "hello\n",
            "hello\n",
            "hello\n",
            "hello\n",
            "hello\n",
            "hello\n",
            "hello\n",
            "hello\n",
            "hello\n",
            "hello\n",
            "hello\n",
            "hello\n",
            "hello\n",
            "hello\n",
            "hello\n",
            "hello\n",
            "hello\n",
            "hello\n",
            "hello\n",
            "hello\n",
            "hello\n",
            "hello\n",
            "hello\n",
            "hello\n",
            "hello\n",
            "hello\n",
            "hello\n",
            "hello\n",
            "hello\n",
            "hello\n",
            "hello\n",
            "hello\n",
            "hello\n",
            "hello\n",
            "hello\n",
            "hello\n",
            "hello\n",
            "hello\n",
            "hello\n",
            "hello\n",
            "hello\n",
            "hello\n",
            "hello\n",
            "hello\n",
            "hello\n",
            "hello\n"
          ]
        }
      ]
    }
  ]
}