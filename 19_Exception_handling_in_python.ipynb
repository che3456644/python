{
  "nbformat": 4,
  "nbformat_minor": 0,
  "metadata": {
    "colab": {
      "provenance": []
    },
    "kernelspec": {
      "name": "python3",
      "display_name": "Python 3"
    },
    "language_info": {
      "name": "python"
    }
  },
  "cells": [
    {
      "cell_type": "markdown",
      "source": [
        "# Exception handling\n",
        "exception handling in python allows you to handle errors gracefully and take corrective actions without stopping the execution of the program."
      ],
      "metadata": {
        "id": "rGwrd2RnMdNH"
      }
    },
    {
      "cell_type": "markdown",
      "source": [
        "# What are exceptions?\n",
        "exceptions are events that disrupt the normal flow of a program. they occur when an error is encountered during program execution. common exceptions include:\n",
        "\n",
        "\n",
        "*   zero division error: dividing by zero\n",
        "*   file not found error : file not found\n",
        "*   vlaue error: invalid value\n",
        "*   type error: invalid type\n",
        "\n",
        "\n",
        "\n"
      ],
      "metadata": {
        "id": "_BINaDVCNL2F"
      }
    },
    {
      "cell_type": "code",
      "source": [
        "## exception try ,except block\n",
        "\n",
        "try:\n",
        "  a=b\n",
        "except:\n",
        "  print(\"the variable has not been asigned\")"
      ],
      "metadata": {
        "colab": {
          "base_uri": "https://localhost:8080/"
        },
        "id": "dyoZPeZHON9G",
        "outputId": "1cd626f6-8591-4e12-ca21-20b312b83638"
      },
      "execution_count": 4,
      "outputs": [
        {
          "output_type": "stream",
          "name": "stdout",
          "text": [
            "the variable has not been asigned\n"
          ]
        }
      ]
    },
    {
      "cell_type": "code",
      "source": [
        "try:\n",
        "  a=b\n",
        "except NameError as c :\n",
        "  print(c)\n",
        "  print(\"the variable has not been asigned\")"
      ],
      "metadata": {
        "colab": {
          "base_uri": "https://localhost:8080/"
        },
        "id": "M61XAgA4PSx4",
        "outputId": "84d885b1-0e66-4f6a-dbfd-14b73c4cd27c"
      },
      "execution_count": 6,
      "outputs": [
        {
          "output_type": "stream",
          "name": "stdout",
          "text": [
            "name 'b' is not defined\n",
            "the variable has not been asigned\n"
          ]
        }
      ]
    },
    {
      "cell_type": "code",
      "source": [
        "try:\n",
        "  1/0\n",
        "except ZeroDivisionError as c:\n",
        "  print(c)\n",
        "  print(\"please enter the denominator greater than 0\")"
      ],
      "metadata": {
        "colab": {
          "base_uri": "https://localhost:8080/"
        },
        "id": "8bTEDBHQP8ij",
        "outputId": "9a5456a7-c39c-40dc-8846-068fb1fee79d"
      },
      "execution_count": 10,
      "outputs": [
        {
          "output_type": "stream",
          "name": "stdout",
          "text": [
            "division by zero\n",
            "please enter the denominator greater than 0\n"
          ]
        }
      ]
    },
    {
      "cell_type": "code",
      "source": [
        "try:\n",
        "  1/2\n",
        "  a=b\n",
        "except ZeroDivisionError as c:\n",
        "  print(c)\n",
        "  print(\"please enter the denominator greater than 0\")\n",
        "except Exception as d :\n",
        "  print(d)\n",
        "  print(\"main exception got caught here\")"
      ],
      "metadata": {
        "colab": {
          "base_uri": "https://localhost:8080/"
        },
        "id": "PiEx9HlMQUvE",
        "outputId": "f04ed10e-bb10-4e28-931f-4c7cc7607808"
      },
      "execution_count": 14,
      "outputs": [
        {
          "output_type": "stream",
          "name": "stdout",
          "text": [
            "name 'b' is not defined\n",
            "main exception got caught here\n"
          ]
        }
      ]
    },
    {
      "cell_type": "code",
      "source": [
        "try:\n",
        "  num=int(input(\"enter a number : \"))\n",
        "  result=10/num\n",
        "except ValueError:\n",
        "  print(\"this is not a valid number\")\n",
        "except ZeroDivisionError:\n",
        "  print(\"enter a denominator greater than 0\")\n",
        "except Exception as c:\n",
        "  print(c)"
      ],
      "metadata": {
        "colab": {
          "base_uri": "https://localhost:8080/"
        },
        "id": "yPUvnw2GRTWd",
        "outputId": "0cdd4354-a31e-4092-d75a-8de5310b7b24"
      },
      "execution_count": 22,
      "outputs": [
        {
          "name": "stdout",
          "output_type": "stream",
          "text": [
            "enter a number : 1\n"
          ]
        }
      ]
    },
    {
      "cell_type": "code",
      "source": [
        "## try,except,else block\n",
        "try:\n",
        "  num=int(input(\"enter a number : \"))\n",
        "  result=10/num\n",
        "except ValueError:\n",
        "  print(\"this is not a valid number\")\n",
        "except ZeroDivisionError:\n",
        "  print(\"enter a denominator greater than 0\")\n",
        "except Exception as c:\n",
        "  print(c)\n",
        "else:\n",
        "  print(f\"the result is {result}\")"
      ],
      "metadata": {
        "colab": {
          "base_uri": "https://localhost:8080/"
        },
        "id": "U6GtRdEzTFQ0",
        "outputId": "f7335742-bf66-421f-b285-117efaf18ea6"
      },
      "execution_count": 21,
      "outputs": [
        {
          "output_type": "stream",
          "name": "stdout",
          "text": [
            "enter a number : 25\n",
            "the result is 0.4\n"
          ]
        }
      ]
    },
    {
      "cell_type": "code",
      "source": [
        "## try,except,else and finally\n",
        "try:\n",
        "  num=int(input(\"enter a number : \"))\n",
        "  result=10/num\n",
        "except ValueError:\n",
        "  print(\"this is not a valid number\")\n",
        "except ZeroDivisionError:\n",
        "  print(\"enter a denominator greater than 0\")\n",
        "except Exception as c:\n",
        "  print(c)\n",
        "else:\n",
        "  print(f\"the result is {result}\")\n",
        "finally:\n",
        "  print(\"exceution complete\")\n"
      ],
      "metadata": {
        "colab": {
          "base_uri": "https://localhost:8080/"
        },
        "id": "LgK60igGUJfm",
        "outputId": "7ce1748f-bfc3-4f2d-ff98-1cfaaa8ca115"
      },
      "execution_count": 23,
      "outputs": [
        {
          "output_type": "stream",
          "name": "stdout",
          "text": [
            "enter a number : 0\n",
            "enter a denominator greater than 0\n",
            "exceution complete\n"
          ]
        }
      ]
    },
    {
      "cell_type": "code",
      "source": [
        "## file handling and exception handling\n",
        "\n",
        "try:\n",
        "  file=open('exmaple.txt','r')\n",
        "  content=file.read()\n",
        "  print(content)\n",
        "\n",
        "except FileNotFoundError:\n",
        "  print(\"the file does not exists\")\n",
        "except Exception as ex:\n",
        "  print(ex)\n",
        "\n",
        "finally:\n",
        "  print('file close')\n",
        "## if \"file\" in locals() or not file.closed():\n",
        "## file.close()\"\"\"\n",
        "\n"
      ],
      "metadata": {
        "colab": {
          "base_uri": "https://localhost:8080/"
        },
        "id": "FsChOZ7gU3Tv",
        "outputId": "8389fc3b-1989-416e-f14a-4329a31bce0d"
      },
      "execution_count": 35,
      "outputs": [
        {
          "output_type": "stream",
          "name": "stdout",
          "text": [
            "the file does not exists\n",
            "file close\n"
          ]
        }
      ]
    }
  ]
}
