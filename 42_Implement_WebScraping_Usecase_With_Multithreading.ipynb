{
  "nbformat": 4,
  "nbformat_minor": 0,
  "metadata": {
    "colab": {
      "provenance": []
    },
    "kernelspec": {
      "name": "python3",
      "display_name": "Python 3"
    },
    "language_info": {
      "name": "python"
    }
  },
  "cells": [
    {
      "cell_type": "code",
      "source": [
        "\"\"\"\n",
        "real - world example : multithreading for I/O bound tasks\n",
        "scenario: web scraping\n",
        "web scraping often involves making numerous network requests to\n",
        "fetch web pages. these tasks are I/O bound because they spend a lot of\n",
        "time waiting for reasponses form servers. multithreading can significantly\n",
        "improve the performance by allowing multiple web pages to be fetched concurrently.\n",
        "\"\"\""
      ],
      "metadata": {
        "colab": {
          "base_uri": "https://localhost:8080/",
          "height": 105
        },
        "id": "tr93GjWLD8US",
        "outputId": "49baf55d-edf6-4492-a76b-b1de8c30b5e1"
      },
      "execution_count": 3,
      "outputs": [
        {
          "output_type": "execute_result",
          "data": {
            "text/plain": [
              "'\\nreal - world example : multithreading for I/O bound tasks\\nscenario: web scraping\\nweb scraping often involves making numerous network requests to \\nfetch web pages. these tasks are I/O bound because they spend a lot of \\ntime waiting for reasponses form servers. multithreading can significantly\\nimprove the performance by allowing multiple web pages to be fetched concurrently.\\n'"
            ],
            "application/vnd.google.colaboratory.intrinsic+json": {
              "type": "string"
            }
          },
          "metadata": {},
          "execution_count": 3
        }
      ]
    },
    {
      "cell_type": "code",
      "source": [
        "  import threading\n",
        "  import requests\n",
        "  from bs4 import BeautifulSoup\n",
        "\n",
        "  urls=[\n",
        "\n",
        "     'https://www.javatpoint.com/machine-learning-naive-bayes-classifier',\n",
        "     'https://github.com/',\n",
        "     'https://swayam.gov.in/explorer'\n",
        "\n",
        "]\n",
        "\n",
        "def fetch_content(url):\n",
        "   response=requests.get(url)\n",
        "   soup=BeautifulSoup(response.content,'html.parser')\n",
        "   print('soup.text')\n",
        "   print(f'fetched : {len(soup.text)} characters from {url}')\n",
        "\n",
        "\n",
        "threads=[]\n",
        "\n",
        "for url in urls:\n",
        "   thread=threading.Thread(target=fetch_content,args=(url,))\n",
        "   threads.append(thread)\n",
        "   thread.start()\n",
        "\n",
        "for thread in threads:\n",
        "   thread.join()\n",
        "\n",
        "print(\"all web pages fetched\")\n"
      ],
      "metadata": {
        "colab": {
          "base_uri": "https://localhost:8080/"
        },
        "id": "2_Q5BIDQEwrm",
        "outputId": "b193ceff-6848-48e4-d3ba-6b8d32217430"
      },
      "execution_count": 19,
      "outputs": [
        {
          "output_type": "stream",
          "name": "stdout",
          "text": [
            "soup.text\n",
            "fetched : 8909 characters from https://github.com/\n",
            "soup.text\n",
            "fetched : 27571 characters from https://www.javatpoint.com/machine-learning-naive-bayes-classifier\n",
            "soup.text\n",
            "fetched : 1357 characters from https://swayam.gov.in/explorer\n",
            "all web pages fetched\n"
          ]
        }
      ]
    }
  ]
}